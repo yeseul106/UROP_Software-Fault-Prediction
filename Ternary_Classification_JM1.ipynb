{
  "nbformat": 4,
  "nbformat_minor": 0,
  "metadata": {
    "colab": {
      "name": "Ternary_Classification_JM1.ipynb",
      "provenance": [],
      "collapsed_sections": [],
      "authorship_tag": "ABX9TyNQhLJTHEhLrkLloNJ/pn0d",
      "include_colab_link": true
    },
    "kernelspec": {
      "name": "python3",
      "display_name": "Python 3"
    },
    "language_info": {
      "name": "python"
    }
  },
  "cells": [
    {
      "cell_type": "markdown",
      "metadata": {
        "id": "view-in-github",
        "colab_type": "text"
      },
      "source": [
        "<a href=\"https://colab.research.google.com/github/yeseul106/UROP_Software-Fault-Prediction/blob/main/Ternary_Classification_JM1.ipynb\" target=\"_parent\"><img src=\"https://colab.research.google.com/assets/colab-badge.svg\" alt=\"Open In Colab\"/></a>"
      ]
    },
    {
      "cell_type": "code",
      "execution_count": 1,
      "metadata": {
        "id": "NmfzvyqESubX"
      },
      "outputs": [],
      "source": [
        "import numpy as np\n",
        "import pandas as pd\n",
        "import tensorflow as tf"
      ]
    },
    {
      "cell_type": "code",
      "source": [
        "# 구글 드라이브 연결\n",
        "from google.colab import drive\n",
        "drive.mount('/content/drive')"
      ],
      "metadata": {
        "id": "mpsnbZr9d35m",
        "colab": {
          "base_uri": "https://localhost:8080/"
        },
        "outputId": "bf53c07f-7b50-42e4-c36f-e5f92a60957c"
      },
      "execution_count": 2,
      "outputs": [
        {
          "output_type": "stream",
          "name": "stdout",
          "text": [
            "Mounted at /content/drive\n"
          ]
        }
      ]
    },
    {
      "cell_type": "code",
      "source": [
        "# 원본 csv 파일 읽어오기\n",
        "JM1_original = pd.read_csv('/content/drive/MyDrive/UROP/UROP dataset/JM1_Nomalize_Severity1.csv', encoding='cp949')\n",
        "print(JM1_original.shape)\n",
        "JM1_original.head(5)"
      ],
      "metadata": {
        "colab": {
          "base_uri": "https://localhost:8080/",
          "height": 289
        },
        "id": "ytqjjeXqRBuP",
        "outputId": "a3d8dd2b-841e-427a-cd73-5ee760ce599c"
      },
      "execution_count": 3,
      "outputs": [
        {
          "output_type": "stream",
          "name": "stdout",
          "text": [
            "(10878, 22)\n"
          ]
        },
        {
          "output_type": "execute_result",
          "data": {
            "text/html": [
              "\n",
              "  <div id=\"df-6d1a381e-b5c0-4bc4-99bf-527312e98909\">\n",
              "    <div class=\"colab-df-container\">\n",
              "      <div>\n",
              "<style scoped>\n",
              "    .dataframe tbody tr th:only-of-type {\n",
              "        vertical-align: middle;\n",
              "    }\n",
              "\n",
              "    .dataframe tbody tr th {\n",
              "        vertical-align: top;\n",
              "    }\n",
              "\n",
              "    .dataframe thead th {\n",
              "        text-align: right;\n",
              "    }\n",
              "</style>\n",
              "<table border=\"1\" class=\"dataframe\">\n",
              "  <thead>\n",
              "    <tr style=\"text-align: right;\">\n",
              "      <th></th>\n",
              "      <th>LOC_BLANK</th>\n",
              "      <th>BRANCH_COUNT</th>\n",
              "      <th>LOC_CODE_AND_COMMENT</th>\n",
              "      <th>LOC_COMMENTS</th>\n",
              "      <th>CYCLOMATIC_COMPLEXITY</th>\n",
              "      <th>DESIGN_COMPLEXITY</th>\n",
              "      <th>ESSENTIAL_COMPLEXITY</th>\n",
              "      <th>LOC_EXECUTABLE</th>\n",
              "      <th>HALSTEAD_CONTENT</th>\n",
              "      <th>HALSTEAD_DIFFICULTY</th>\n",
              "      <th>HALSTEAD_EFFORT</th>\n",
              "      <th>HALSTEAD_ERROR_EST</th>\n",
              "      <th>HALSTEAD_LENGTH</th>\n",
              "      <th>HALSTEAD_LEVEL</th>\n",
              "      <th>HALSTEAD_PROG_TIME</th>\n",
              "      <th>HALSTEAD_VOLUME</th>\n",
              "      <th>NUM_OPERANDS</th>\n",
              "      <th>NUM_OPERATORS</th>\n",
              "      <th>NUM_UNIQUE_OPERANDS</th>\n",
              "      <th>NUM_UNIQUE_OPERATORS</th>\n",
              "      <th>LOC_TOTAL</th>\n",
              "      <th>3level1</th>\n",
              "    </tr>\n",
              "  </thead>\n",
              "  <tbody>\n",
              "    <tr>\n",
              "      <th>0</th>\n",
              "      <td>1.000000</td>\n",
              "      <td>1.000000</td>\n",
              "      <td>0.111111</td>\n",
              "      <td>0.456395</td>\n",
              "      <td>1.000000</td>\n",
              "      <td>0.957606</td>\n",
              "      <td>0.682927</td>\n",
              "      <td>1.000000</td>\n",
              "      <td>0.369055</td>\n",
              "      <td>0.919297</td>\n",
              "      <td>1.000000</td>\n",
              "      <td>1.000000</td>\n",
              "      <td>1.000000</td>\n",
              "      <td>0.00</td>\n",
              "      <td>1.000000</td>\n",
              "      <td>1.000000</td>\n",
              "      <td>1.000000</td>\n",
              "      <td>1.000000</td>\n",
              "      <td>0.593567</td>\n",
              "      <td>0.377129</td>\n",
              "      <td>1.000000</td>\n",
              "      <td>2</td>\n",
              "    </tr>\n",
              "    <tr>\n",
              "      <th>1</th>\n",
              "      <td>0.000000</td>\n",
              "      <td>0.254545</td>\n",
              "      <td>0.000000</td>\n",
              "      <td>0.000000</td>\n",
              "      <td>0.270789</td>\n",
              "      <td>0.256858</td>\n",
              "      <td>0.079268</td>\n",
              "      <td>0.000000</td>\n",
              "      <td>0.000000</td>\n",
              "      <td>0.000000</td>\n",
              "      <td>0.000000</td>\n",
              "      <td>0.000000</td>\n",
              "      <td>0.000000</td>\n",
              "      <td>0.00</td>\n",
              "      <td>0.000000</td>\n",
              "      <td>0.000000</td>\n",
              "      <td>0.000000</td>\n",
              "      <td>0.000000</td>\n",
              "      <td>0.000000</td>\n",
              "      <td>0.000000</td>\n",
              "      <td>0.327812</td>\n",
              "      <td>2</td>\n",
              "    </tr>\n",
              "    <tr>\n",
              "      <th>2</th>\n",
              "      <td>0.366890</td>\n",
              "      <td>0.586667</td>\n",
              "      <td>0.092593</td>\n",
              "      <td>0.168605</td>\n",
              "      <td>0.569296</td>\n",
              "      <td>0.543641</td>\n",
              "      <td>0.231707</td>\n",
              "      <td>0.562323</td>\n",
              "      <td>0.356243</td>\n",
              "      <td>0.510593</td>\n",
              "      <td>0.297776</td>\n",
              "      <td>0.536178</td>\n",
              "      <td>0.571970</td>\n",
              "      <td>0.00</td>\n",
              "      <td>0.297776</td>\n",
              "      <td>0.536129</td>\n",
              "      <td>0.572658</td>\n",
              "      <td>0.585240</td>\n",
              "      <td>0.396686</td>\n",
              "      <td>0.248175</td>\n",
              "      <td>0.529788</td>\n",
              "      <td>2</td>\n",
              "    </tr>\n",
              "    <tr>\n",
              "      <th>3</th>\n",
              "      <td>0.082774</td>\n",
              "      <td>0.033939</td>\n",
              "      <td>0.074074</td>\n",
              "      <td>0.122093</td>\n",
              "      <td>0.038380</td>\n",
              "      <td>0.044888</td>\n",
              "      <td>0.030488</td>\n",
              "      <td>0.047096</td>\n",
              "      <td>0.189793</td>\n",
              "      <td>0.110760</td>\n",
              "      <td>0.007466</td>\n",
              "      <td>0.061967</td>\n",
              "      <td>0.081152</td>\n",
              "      <td>0.02</td>\n",
              "      <td>0.007466</td>\n",
              "      <td>0.061963</td>\n",
              "      <td>0.097650</td>\n",
              "      <td>0.071956</td>\n",
              "      <td>0.117934</td>\n",
              "      <td>0.092457</td>\n",
              "      <td>0.064226</td>\n",
              "      <td>2</td>\n",
              "    </tr>\n",
              "    <tr>\n",
              "      <th>4</th>\n",
              "      <td>0.024609</td>\n",
              "      <td>0.489697</td>\n",
              "      <td>0.000000</td>\n",
              "      <td>0.049419</td>\n",
              "      <td>0.859275</td>\n",
              "      <td>0.002494</td>\n",
              "      <td>0.000000</td>\n",
              "      <td>0.288244</td>\n",
              "      <td>0.177612</td>\n",
              "      <td>0.492611</td>\n",
              "      <td>0.138190</td>\n",
              "      <td>0.257885</td>\n",
              "      <td>0.240848</td>\n",
              "      <td>0.00</td>\n",
              "      <td>0.138190</td>\n",
              "      <td>0.257888</td>\n",
              "      <td>0.269116</td>\n",
              "      <td>0.225092</td>\n",
              "      <td>0.790448</td>\n",
              "      <td>1.000000</td>\n",
              "      <td>0.244987</td>\n",
              "      <td>1</td>\n",
              "    </tr>\n",
              "  </tbody>\n",
              "</table>\n",
              "</div>\n",
              "      <button class=\"colab-df-convert\" onclick=\"convertToInteractive('df-6d1a381e-b5c0-4bc4-99bf-527312e98909')\"\n",
              "              title=\"Convert this dataframe to an interactive table.\"\n",
              "              style=\"display:none;\">\n",
              "        \n",
              "  <svg xmlns=\"http://www.w3.org/2000/svg\" height=\"24px\"viewBox=\"0 0 24 24\"\n",
              "       width=\"24px\">\n",
              "    <path d=\"M0 0h24v24H0V0z\" fill=\"none\"/>\n",
              "    <path d=\"M18.56 5.44l.94 2.06.94-2.06 2.06-.94-2.06-.94-.94-2.06-.94 2.06-2.06.94zm-11 1L8.5 8.5l.94-2.06 2.06-.94-2.06-.94L8.5 2.5l-.94 2.06-2.06.94zm10 10l.94 2.06.94-2.06 2.06-.94-2.06-.94-.94-2.06-.94 2.06-2.06.94z\"/><path d=\"M17.41 7.96l-1.37-1.37c-.4-.4-.92-.59-1.43-.59-.52 0-1.04.2-1.43.59L10.3 9.45l-7.72 7.72c-.78.78-.78 2.05 0 2.83L4 21.41c.39.39.9.59 1.41.59.51 0 1.02-.2 1.41-.59l7.78-7.78 2.81-2.81c.8-.78.8-2.07 0-2.86zM5.41 20L4 18.59l7.72-7.72 1.47 1.35L5.41 20z\"/>\n",
              "  </svg>\n",
              "      </button>\n",
              "      \n",
              "  <style>\n",
              "    .colab-df-container {\n",
              "      display:flex;\n",
              "      flex-wrap:wrap;\n",
              "      gap: 12px;\n",
              "    }\n",
              "\n",
              "    .colab-df-convert {\n",
              "      background-color: #E8F0FE;\n",
              "      border: none;\n",
              "      border-radius: 50%;\n",
              "      cursor: pointer;\n",
              "      display: none;\n",
              "      fill: #1967D2;\n",
              "      height: 32px;\n",
              "      padding: 0 0 0 0;\n",
              "      width: 32px;\n",
              "    }\n",
              "\n",
              "    .colab-df-convert:hover {\n",
              "      background-color: #E2EBFA;\n",
              "      box-shadow: 0px 1px 2px rgba(60, 64, 67, 0.3), 0px 1px 3px 1px rgba(60, 64, 67, 0.15);\n",
              "      fill: #174EA6;\n",
              "    }\n",
              "\n",
              "    [theme=dark] .colab-df-convert {\n",
              "      background-color: #3B4455;\n",
              "      fill: #D2E3FC;\n",
              "    }\n",
              "\n",
              "    [theme=dark] .colab-df-convert:hover {\n",
              "      background-color: #434B5C;\n",
              "      box-shadow: 0px 1px 3px 1px rgba(0, 0, 0, 0.15);\n",
              "      filter: drop-shadow(0px 1px 2px rgba(0, 0, 0, 0.3));\n",
              "      fill: #FFFFFF;\n",
              "    }\n",
              "  </style>\n",
              "\n",
              "      <script>\n",
              "        const buttonEl =\n",
              "          document.querySelector('#df-6d1a381e-b5c0-4bc4-99bf-527312e98909 button.colab-df-convert');\n",
              "        buttonEl.style.display =\n",
              "          google.colab.kernel.accessAllowed ? 'block' : 'none';\n",
              "\n",
              "        async function convertToInteractive(key) {\n",
              "          const element = document.querySelector('#df-6d1a381e-b5c0-4bc4-99bf-527312e98909');\n",
              "          const dataTable =\n",
              "            await google.colab.kernel.invokeFunction('convertToInteractive',\n",
              "                                                     [key], {});\n",
              "          if (!dataTable) return;\n",
              "\n",
              "          const docLinkHtml = 'Like what you see? Visit the ' +\n",
              "            '<a target=\"_blank\" href=https://colab.research.google.com/notebooks/data_table.ipynb>data table notebook</a>'\n",
              "            + ' to learn more about interactive tables.';\n",
              "          element.innerHTML = '';\n",
              "          dataTable['output_type'] = 'display_data';\n",
              "          await google.colab.output.renderOutput(dataTable, element);\n",
              "          const docLink = document.createElement('div');\n",
              "          docLink.innerHTML = docLinkHtml;\n",
              "          element.appendChild(docLink);\n",
              "        }\n",
              "      </script>\n",
              "    </div>\n",
              "  </div>\n",
              "  "
            ],
            "text/plain": [
              "   LOC_BLANK  BRANCH_COUNT  ...  LOC_TOTAL  3level1\n",
              "0   1.000000      1.000000  ...   1.000000        2\n",
              "1   0.000000      0.254545  ...   0.327812        2\n",
              "2   0.366890      0.586667  ...   0.529788        2\n",
              "3   0.082774      0.033939  ...   0.064226        2\n",
              "4   0.024609      0.489697  ...   0.244987        1\n",
              "\n",
              "[5 rows x 22 columns]"
            ]
          },
          "metadata": {},
          "execution_count": 3
        }
      ]
    },
    {
      "cell_type": "code",
      "source": [
        "# 입력 데이터\n",
        "input_data = JM1_original.iloc[:,:21]\n",
        "print(\"input_data shape : \",input_data.shape)"
      ],
      "metadata": {
        "colab": {
          "base_uri": "https://localhost:8080/"
        },
        "id": "AkjVUFQ5RRYq",
        "outputId": "25ca05d3-412f-4418-8a6c-94d77d86722d"
      },
      "execution_count": 5,
      "outputs": [
        {
          "output_type": "stream",
          "name": "stdout",
          "text": [
            "input_data shape :  (10878, 21)\n"
          ]
        }
      ]
    },
    {
      "cell_type": "code",
      "source": [
        "input_data = np.asarray(input_data,dtype=np.float)"
      ],
      "metadata": {
        "id": "zq-7MzC7RWfv"
      },
      "execution_count": 6,
      "outputs": []
    },
    {
      "cell_type": "code",
      "source": [
        "# 정답 레이블\n",
        "y_label = JM1_original.iloc[:,21].to_numpy()\n",
        "print(\"y_label shape : \",y_label.shape)"
      ],
      "metadata": {
        "colab": {
          "base_uri": "https://localhost:8080/"
        },
        "id": "fXwb1OVDSAcI",
        "outputId": "73cf07b3-f824-4e5e-c0b2-c895743e3bd2"
      },
      "execution_count": 7,
      "outputs": [
        {
          "output_type": "stream",
          "name": "stdout",
          "text": [
            "y_label shape :  (10878,)\n"
          ]
        }
      ]
    },
    {
      "cell_type": "markdown",
      "source": [
        "# **원핫 인코딩**"
      ],
      "metadata": {
        "id": "4Oouv4UCVG1A"
      }
    },
    {
      "cell_type": "code",
      "source": [
        "y_label = tf.keras.utils.to_categorical(y_label)\n",
        "print(\"y_label shape : \",y_label.shape)"
      ],
      "metadata": {
        "colab": {
          "base_uri": "https://localhost:8080/"
        },
        "id": "7uIyfU1XSEbP",
        "outputId": "d633aa1d-70f7-43e5-ea70-4d2d21a5c2c8"
      },
      "execution_count": 8,
      "outputs": [
        {
          "output_type": "stream",
          "name": "stdout",
          "text": [
            "y_label shape :  (10878, 3)\n"
          ]
        }
      ]
    },
    {
      "cell_type": "code",
      "source": [
        "y_label[0]"
      ],
      "metadata": {
        "colab": {
          "base_uri": "https://localhost:8080/"
        },
        "id": "d6A6DCPtVCff",
        "outputId": "8a23902f-2346-42c8-9afe-2e51ea7a8058"
      },
      "execution_count": 9,
      "outputs": [
        {
          "output_type": "execute_result",
          "data": {
            "text/plain": [
              "array([0., 0., 1.], dtype=float32)"
            ]
          },
          "metadata": {},
          "execution_count": 9
        }
      ]
    },
    {
      "cell_type": "markdown",
      "source": [
        "# **5-fold Cross Validation**"
      ],
      "metadata": {
        "id": "X9eBe4b6VW1S"
      }
    },
    {
      "cell_type": "code",
      "source": [
        "from sklearn.model_selection import StratifiedKFold\n",
        "from keras import models\n",
        "from keras import layers\n",
        "from keras.callbacks import EarlyStopping\n",
        "\n",
        "# 5개의 파일로 쪼갬\n",
        "n_fold = 5\n",
        "seed = 0\n",
        "skf = StratifiedKFold(n_splits=n_fold, shuffle=True, random_state=seed)\n",
        "\n",
        "#빈 metrics 배열 // confusion matrix를 구하기\n",
        "confusion_maxtrix = []\n",
        "accuracy = []\n",
        "loss = []"
      ],
      "metadata": {
        "id": "EscCIp9kVFCl"
      },
      "execution_count": 10,
      "outputs": []
    },
    {
      "cell_type": "code",
      "source": [
        "from typing import Pattern\n",
        "# 학습 자동 중단 설정\n",
        "early_stopping_callback = EarlyStopping(monitor='loss', patience=100)"
      ],
      "metadata": {
        "id": "GBSrpVqOVazT"
      },
      "execution_count": null,
      "outputs": []
    },
    {
      "cell_type": "code",
      "source": [
        "for train, test in skf.split(input_data, y_label):\n",
        "  model = models.Sequential()\n",
        "  model.add(layers.Dense(32, input_shape = (21, )))\n",
        "  model.add(layers.Activation('relu'))\n",
        "  model.add(layers.Dropout(0.5))\n",
        "  model.add(layers.Dense(32))\n",
        "  model.add(layers.Activation('relu'))\n",
        "  model.add(layers.Dropout(0.5))\n",
        "  model.add(layers.Dense(32))\n",
        "  model.add(layers.Activation('relu'))\n",
        "  model.add(layers.Dropout(0.5))\n",
        "  model.add(layers.Dense(3))\n",
        "  model.add(layers.Activation('softmax'))\n",
        "\n",
        "  model.compile(optimizer='adam',\n",
        "             loss='categorical_crossentropy',\n",
        "             metrics=['accuracy'])\n",
        "  hist = model.fit(input_data[train], y_label[train], epochs=600, batch_size=5, verbose=1, callbacks=[early_stopping_callback])\n",
        "  \n",
        "  k_loss = \"%.4f\"%(model.evaluate(input_data[test],y_label[test])[0])\n",
        "  k_accuracy = \"%.4f\"%(model.evaluate(input_data[test],y_label[test])[1])\n",
        "  \n",
        "  \n",
        "  accuracy.append(k_accuracy)\n",
        "  loss.append(k_loss)\n",
        "  "
      ],
      "metadata": {
        "id": "xvL9BouGW85D"
      },
      "execution_count": null,
      "outputs": []
    }
  ]
}