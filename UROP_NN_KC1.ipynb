{
  "nbformat": 4,
  "nbformat_minor": 0,
  "metadata": {
    "colab": {
      "name": "UROP_NN_KC1.ipynb",
      "provenance": [],
      "collapsed_sections": [],
      "authorship_tag": "ABX9TyNIOvPLsB4Fgxj8hT43jqmi",
      "include_colab_link": true
    },
    "kernelspec": {
      "name": "python3",
      "display_name": "Python 3"
    },
    "language_info": {
      "name": "python"
    }
  },
  "cells": [
    {
      "cell_type": "markdown",
      "metadata": {
        "id": "view-in-github",
        "colab_type": "text"
      },
      "source": [
        "<a href=\"https://colab.research.google.com/github/yeseul106/UROP_Software-Fault-Prediction/blob/main/UROP_NN_KC1.ipynb\" target=\"_parent\"><img src=\"https://colab.research.google.com/assets/colab-badge.svg\" alt=\"Open In Colab\"/></a>"
      ]
    },
    {
      "cell_type": "code",
      "execution_count": 1,
      "metadata": {
        "id": "HmiAZ3iNa6Ux"
      },
      "outputs": [],
      "source": [
        "import numpy as np\n",
        "import pandas as pd"
      ]
    },
    {
      "cell_type": "code",
      "source": [
        "# 구글 드라이브 연결\n",
        "from google.colab import drive\n",
        "drive.mount('/content/drive')"
      ],
      "metadata": {
        "colab": {
          "base_uri": "https://localhost:8080/"
        },
        "id": "yU4mSMcYhCxy",
        "outputId": "205a683a-03bc-403d-ea6c-4a89f59adad3"
      },
      "execution_count": 2,
      "outputs": [
        {
          "output_type": "stream",
          "name": "stdout",
          "text": [
            "Mounted at /content/drive\n"
          ]
        }
      ]
    },
    {
      "cell_type": "code",
      "source": [
        "# csv 파일 읽어오기\n",
        "KC1 = pd.read_csv('/content/drive/MyDrive/UROP/Dataset/KC1.csv', encoding='cp949', header=None)\n",
        "print(KC1.shape)\n",
        "KC1.head(5)"
      ],
      "metadata": {
        "colab": {
          "base_uri": "https://localhost:8080/",
          "height": 225
        },
        "id": "h8Lrb_fLhGAl",
        "outputId": "4dd192ae-b10b-4ca9-efdf-6296f94367d5"
      },
      "execution_count": 4,
      "outputs": [
        {
          "output_type": "stream",
          "name": "stdout",
          "text": [
            "(2109, 22)\n"
          ]
        },
        {
          "output_type": "execute_result",
          "data": {
            "text/html": [
              "\n",
              "  <div id=\"df-2d457659-ce9d-4f92-9e78-4556c1028076\">\n",
              "    <div class=\"colab-df-container\">\n",
              "      <div>\n",
              "<style scoped>\n",
              "    .dataframe tbody tr th:only-of-type {\n",
              "        vertical-align: middle;\n",
              "    }\n",
              "\n",
              "    .dataframe tbody tr th {\n",
              "        vertical-align: top;\n",
              "    }\n",
              "\n",
              "    .dataframe thead th {\n",
              "        text-align: right;\n",
              "    }\n",
              "</style>\n",
              "<table border=\"1\" class=\"dataframe\">\n",
              "  <thead>\n",
              "    <tr style=\"text-align: right;\">\n",
              "      <th></th>\n",
              "      <th>0</th>\n",
              "      <th>1</th>\n",
              "      <th>2</th>\n",
              "      <th>3</th>\n",
              "      <th>4</th>\n",
              "      <th>5</th>\n",
              "      <th>6</th>\n",
              "      <th>7</th>\n",
              "      <th>8</th>\n",
              "      <th>9</th>\n",
              "      <th>10</th>\n",
              "      <th>11</th>\n",
              "      <th>12</th>\n",
              "      <th>13</th>\n",
              "      <th>14</th>\n",
              "      <th>15</th>\n",
              "      <th>16</th>\n",
              "      <th>17</th>\n",
              "      <th>18</th>\n",
              "      <th>19</th>\n",
              "      <th>20</th>\n",
              "      <th>21</th>\n",
              "    </tr>\n",
              "  </thead>\n",
              "  <tbody>\n",
              "    <tr>\n",
              "      <th>0</th>\n",
              "      <td>1.1</td>\n",
              "      <td>1.4</td>\n",
              "      <td>1.4</td>\n",
              "      <td>1.4</td>\n",
              "      <td>1.3</td>\n",
              "      <td>1.30</td>\n",
              "      <td>1.30</td>\n",
              "      <td>1.30</td>\n",
              "      <td>1.30</td>\n",
              "      <td>1.30</td>\n",
              "      <td>1.30</td>\n",
              "      <td>1.30</td>\n",
              "      <td>2</td>\n",
              "      <td>2</td>\n",
              "      <td>2</td>\n",
              "      <td>2</td>\n",
              "      <td>1.2</td>\n",
              "      <td>1.2</td>\n",
              "      <td>1.2</td>\n",
              "      <td>1.2</td>\n",
              "      <td>1.4</td>\n",
              "      <td>False</td>\n",
              "    </tr>\n",
              "    <tr>\n",
              "      <th>1</th>\n",
              "      <td>1.0</td>\n",
              "      <td>1.0</td>\n",
              "      <td>1.0</td>\n",
              "      <td>1.0</td>\n",
              "      <td>1.0</td>\n",
              "      <td>1.00</td>\n",
              "      <td>1.00</td>\n",
              "      <td>1.00</td>\n",
              "      <td>1.00</td>\n",
              "      <td>1.00</td>\n",
              "      <td>1.00</td>\n",
              "      <td>1.00</td>\n",
              "      <td>1</td>\n",
              "      <td>1</td>\n",
              "      <td>1</td>\n",
              "      <td>1</td>\n",
              "      <td>1.0</td>\n",
              "      <td>1.0</td>\n",
              "      <td>1.0</td>\n",
              "      <td>1.0</td>\n",
              "      <td>1.0</td>\n",
              "      <td>True</td>\n",
              "    </tr>\n",
              "    <tr>\n",
              "      <th>2</th>\n",
              "      <td>83.0</td>\n",
              "      <td>11.0</td>\n",
              "      <td>1.0</td>\n",
              "      <td>11.0</td>\n",
              "      <td>171.0</td>\n",
              "      <td>927.89</td>\n",
              "      <td>0.04</td>\n",
              "      <td>23.04</td>\n",
              "      <td>40.27</td>\n",
              "      <td>21378.61</td>\n",
              "      <td>0.31</td>\n",
              "      <td>1187.70</td>\n",
              "      <td>65</td>\n",
              "      <td>10</td>\n",
              "      <td>6</td>\n",
              "      <td>0</td>\n",
              "      <td>18.0</td>\n",
              "      <td>25.0</td>\n",
              "      <td>107.0</td>\n",
              "      <td>64.0</td>\n",
              "      <td>21.0</td>\n",
              "      <td>True</td>\n",
              "    </tr>\n",
              "    <tr>\n",
              "      <th>3</th>\n",
              "      <td>46.0</td>\n",
              "      <td>8.0</td>\n",
              "      <td>6.0</td>\n",
              "      <td>8.0</td>\n",
              "      <td>141.0</td>\n",
              "      <td>769.78</td>\n",
              "      <td>0.07</td>\n",
              "      <td>14.86</td>\n",
              "      <td>51.81</td>\n",
              "      <td>11436.73</td>\n",
              "      <td>0.26</td>\n",
              "      <td>635.37</td>\n",
              "      <td>37</td>\n",
              "      <td>2</td>\n",
              "      <td>5</td>\n",
              "      <td>0</td>\n",
              "      <td>16.0</td>\n",
              "      <td>28.0</td>\n",
              "      <td>89.0</td>\n",
              "      <td>52.0</td>\n",
              "      <td>15.0</td>\n",
              "      <td>True</td>\n",
              "    </tr>\n",
              "    <tr>\n",
              "      <th>4</th>\n",
              "      <td>25.0</td>\n",
              "      <td>3.0</td>\n",
              "      <td>1.0</td>\n",
              "      <td>3.0</td>\n",
              "      <td>58.0</td>\n",
              "      <td>254.75</td>\n",
              "      <td>0.11</td>\n",
              "      <td>9.35</td>\n",
              "      <td>27.25</td>\n",
              "      <td>2381.95</td>\n",
              "      <td>0.08</td>\n",
              "      <td>132.33</td>\n",
              "      <td>21</td>\n",
              "      <td>0</td>\n",
              "      <td>2</td>\n",
              "      <td>0</td>\n",
              "      <td>11.0</td>\n",
              "      <td>10.0</td>\n",
              "      <td>41.0</td>\n",
              "      <td>17.0</td>\n",
              "      <td>5.0</td>\n",
              "      <td>True</td>\n",
              "    </tr>\n",
              "  </tbody>\n",
              "</table>\n",
              "</div>\n",
              "      <button class=\"colab-df-convert\" onclick=\"convertToInteractive('df-2d457659-ce9d-4f92-9e78-4556c1028076')\"\n",
              "              title=\"Convert this dataframe to an interactive table.\"\n",
              "              style=\"display:none;\">\n",
              "        \n",
              "  <svg xmlns=\"http://www.w3.org/2000/svg\" height=\"24px\"viewBox=\"0 0 24 24\"\n",
              "       width=\"24px\">\n",
              "    <path d=\"M0 0h24v24H0V0z\" fill=\"none\"/>\n",
              "    <path d=\"M18.56 5.44l.94 2.06.94-2.06 2.06-.94-2.06-.94-.94-2.06-.94 2.06-2.06.94zm-11 1L8.5 8.5l.94-2.06 2.06-.94-2.06-.94L8.5 2.5l-.94 2.06-2.06.94zm10 10l.94 2.06.94-2.06 2.06-.94-2.06-.94-.94-2.06-.94 2.06-2.06.94z\"/><path d=\"M17.41 7.96l-1.37-1.37c-.4-.4-.92-.59-1.43-.59-.52 0-1.04.2-1.43.59L10.3 9.45l-7.72 7.72c-.78.78-.78 2.05 0 2.83L4 21.41c.39.39.9.59 1.41.59.51 0 1.02-.2 1.41-.59l7.78-7.78 2.81-2.81c.8-.78.8-2.07 0-2.86zM5.41 20L4 18.59l7.72-7.72 1.47 1.35L5.41 20z\"/>\n",
              "  </svg>\n",
              "      </button>\n",
              "      \n",
              "  <style>\n",
              "    .colab-df-container {\n",
              "      display:flex;\n",
              "      flex-wrap:wrap;\n",
              "      gap: 12px;\n",
              "    }\n",
              "\n",
              "    .colab-df-convert {\n",
              "      background-color: #E8F0FE;\n",
              "      border: none;\n",
              "      border-radius: 50%;\n",
              "      cursor: pointer;\n",
              "      display: none;\n",
              "      fill: #1967D2;\n",
              "      height: 32px;\n",
              "      padding: 0 0 0 0;\n",
              "      width: 32px;\n",
              "    }\n",
              "\n",
              "    .colab-df-convert:hover {\n",
              "      background-color: #E2EBFA;\n",
              "      box-shadow: 0px 1px 2px rgba(60, 64, 67, 0.3), 0px 1px 3px 1px rgba(60, 64, 67, 0.15);\n",
              "      fill: #174EA6;\n",
              "    }\n",
              "\n",
              "    [theme=dark] .colab-df-convert {\n",
              "      background-color: #3B4455;\n",
              "      fill: #D2E3FC;\n",
              "    }\n",
              "\n",
              "    [theme=dark] .colab-df-convert:hover {\n",
              "      background-color: #434B5C;\n",
              "      box-shadow: 0px 1px 3px 1px rgba(0, 0, 0, 0.15);\n",
              "      filter: drop-shadow(0px 1px 2px rgba(0, 0, 0, 0.3));\n",
              "      fill: #FFFFFF;\n",
              "    }\n",
              "  </style>\n",
              "\n",
              "      <script>\n",
              "        const buttonEl =\n",
              "          document.querySelector('#df-2d457659-ce9d-4f92-9e78-4556c1028076 button.colab-df-convert');\n",
              "        buttonEl.style.display =\n",
              "          google.colab.kernel.accessAllowed ? 'block' : 'none';\n",
              "\n",
              "        async function convertToInteractive(key) {\n",
              "          const element = document.querySelector('#df-2d457659-ce9d-4f92-9e78-4556c1028076');\n",
              "          const dataTable =\n",
              "            await google.colab.kernel.invokeFunction('convertToInteractive',\n",
              "                                                     [key], {});\n",
              "          if (!dataTable) return;\n",
              "\n",
              "          const docLinkHtml = 'Like what you see? Visit the ' +\n",
              "            '<a target=\"_blank\" href=https://colab.research.google.com/notebooks/data_table.ipynb>data table notebook</a>'\n",
              "            + ' to learn more about interactive tables.';\n",
              "          element.innerHTML = '';\n",
              "          dataTable['output_type'] = 'display_data';\n",
              "          await google.colab.output.renderOutput(dataTable, element);\n",
              "          const docLink = document.createElement('div');\n",
              "          docLink.innerHTML = docLinkHtml;\n",
              "          element.appendChild(docLink);\n",
              "        }\n",
              "      </script>\n",
              "    </div>\n",
              "  </div>\n",
              "  "
            ],
            "text/plain": [
              "     0     1    2     3      4       5   ...    16    17     18    19    20     21\n",
              "0   1.1   1.4  1.4   1.4    1.3    1.30  ...   1.2   1.2    1.2   1.2   1.4  False\n",
              "1   1.0   1.0  1.0   1.0    1.0    1.00  ...   1.0   1.0    1.0   1.0   1.0   True\n",
              "2  83.0  11.0  1.0  11.0  171.0  927.89  ...  18.0  25.0  107.0  64.0  21.0   True\n",
              "3  46.0   8.0  6.0   8.0  141.0  769.78  ...  16.0  28.0   89.0  52.0  15.0   True\n",
              "4  25.0   3.0  1.0   3.0   58.0  254.75  ...  11.0  10.0   41.0  17.0   5.0   True\n",
              "\n",
              "[5 rows x 22 columns]"
            ]
          },
          "metadata": {},
          "execution_count": 4
        }
      ]
    },
    {
      "cell_type": "code",
      "source": [
        "# 입력 데이터\n",
        "input_data = KC1.loc[:,:20].to_numpy()\n",
        "print(\"input_data shape : \",input_data.shape)"
      ],
      "metadata": {
        "colab": {
          "base_uri": "https://localhost:8080/"
        },
        "id": "x660Y5BxhXXZ",
        "outputId": "b19cb2c7-b50b-456c-f4df-218ec0c66a13"
      },
      "execution_count": 5,
      "outputs": [
        {
          "output_type": "stream",
          "name": "stdout",
          "text": [
            "input_data shape :  (2109, 21)\n"
          ]
        }
      ]
    },
    {
      "cell_type": "code",
      "source": [
        "input_data[0]"
      ],
      "metadata": {
        "colab": {
          "base_uri": "https://localhost:8080/"
        },
        "id": "owZo8m7piH0Z",
        "outputId": "c07851d2-85a7-4069-a70d-49c6ef6ae9e3"
      },
      "execution_count": 6,
      "outputs": [
        {
          "output_type": "execute_result",
          "data": {
            "text/plain": [
              "array([1.1, 1.4, 1.4, 1.4, 1.3, 1.3, 1.3, 1.3, 1.3, 1.3, 1.3, 1.3, 2. ,\n",
              "       2. , 2. , 2. , 1.2, 1.2, 1.2, 1.2, 1.4])"
            ]
          },
          "metadata": {},
          "execution_count": 6
        }
      ]
    },
    {
      "cell_type": "code",
      "source": [
        "# 정답 레이블\n",
        "y_label = KC1.loc[:,21].to_numpy()\n",
        "print(\"y_label shape : \",y_label.shape)"
      ],
      "metadata": {
        "colab": {
          "base_uri": "https://localhost:8080/"
        },
        "id": "IXF8wuc-iqCT",
        "outputId": "576f9ff7-6e64-49be-91be-65734a33a62c"
      },
      "execution_count": 7,
      "outputs": [
        {
          "output_type": "stream",
          "name": "stdout",
          "text": [
            "y_label shape :  (2109,)\n"
          ]
        }
      ]
    },
    {
      "cell_type": "code",
      "source": [
        "y_label[0]"
      ],
      "metadata": {
        "colab": {
          "base_uri": "https://localhost:8080/"
        },
        "id": "BzMMT_Kwi9Ip",
        "outputId": "a455902b-2cdb-4bde-9e5a-2b65e8fdd457"
      },
      "execution_count": 8,
      "outputs": [
        {
          "output_type": "execute_result",
          "data": {
            "text/plain": [
              "False"
            ]
          },
          "metadata": {},
          "execution_count": 8
        }
      ]
    },
    {
      "cell_type": "markdown",
      "source": [
        "# **Feature Selection - Correlation**\n",
        "\n",
        "- 21번 feature이 정답 레이블이므로 21번 열과 다른 열들의 상관계수를 파악\n",
        "- 대부분의 feature이 0.2를 넘기 때문에 임계값을 0.2로 설정해보기\n"
      ],
      "metadata": {
        "id": "Y_qWwXEyjRIm"
      }
    },
    {
      "cell_type": "code",
      "source": [
        "correlation = KC1.corr()\n",
        "corr_features = correlation.index[abs(correlation[21])>=0.2]\n",
        "print(corr_features)"
      ],
      "metadata": {
        "colab": {
          "base_uri": "https://localhost:8080/"
        },
        "id": "rE6uU8_zjCxS",
        "outputId": "187f1b61-9a59-4f1e-d4ad-8bda86bde070"
      },
      "execution_count": 9,
      "outputs": [
        {
          "output_type": "stream",
          "name": "stdout",
          "text": [
            "Int64Index([0, 1, 2, 3, 4, 5, 6, 7, 8, 9, 10, 11, 12, 13, 14, 16, 17, 18, 19,\n",
            "            20, 21],\n",
            "           dtype='int64')\n"
          ]
        }
      ]
    },
    {
      "cell_type": "code",
      "source": [
        "# 시각적으로 보기 위해 표를 이용하여 확인\n",
        "import matplotlib.pyplot as plt\n",
        "import seaborn as sns\n",
        "\n",
        "#그래프 크기 결정\n",
        "plt.figure(figsize=(12,12))\n",
        "sns.heatmap(correlation,linewidths=0.1,vmax=0.5,cmap=plt.cm.gist_heat,linecolor='white',annot=True)\n",
        "plt.show()"
      ],
      "metadata": {
        "colab": {
          "base_uri": "https://localhost:8080/",
          "height": 700
        },
        "id": "zpB1wGCQj_RW",
        "outputId": "369d78a5-42c3-4c1c-c2f3-5ed232e6afff"
      },
      "execution_count": 10,
      "outputs": [
        {
          "output_type": "display_data",
          "data": {
            "image/png": "[encoded data removed]",
            "text/plain": [
              "<Figure size 864x864 with 2 Axes>"
            ]
          },
          "metadata": {
            "needs_background": "light"
          }
        }
      ]
    },
    {
      "cell_type": "code",
      "source": [
        "# 레이블 벡터화 \n",
        "y_label = np.asarray(y_label).astype('float32')"
      ],
      "metadata": {
        "id": "qvYZcwGlqjgd"
      },
      "execution_count": 11,
      "outputs": []
    },
    {
      "cell_type": "code",
      "source": [
        "y_label.shape"
      ],
      "metadata": {
        "colab": {
          "base_uri": "https://localhost:8080/"
        },
        "id": "TEyFwaeVqqkM",
        "outputId": "2f3a924e-73b2-4dc2-c4d3-b33cd0a38d66"
      },
      "execution_count": 12,
      "outputs": [
        {
          "output_type": "execute_result",
          "data": {
            "text/plain": [
              "(2109,)"
            ]
          },
          "metadata": {},
          "execution_count": 12
        }
      ]
    },
    {
      "cell_type": "markdown",
      "source": [
        "# **정규화 (Normalization)**"
      ],
      "metadata": {
        "id": "-xBUb-q0oyB7"
      }
    },
    {
      "cell_type": "code",
      "source": [
        "from sklearn import preprocessing\n",
        "\n",
        "# 정규화 0-1로 하기\n",
        "data_normalizer = preprocessing.MinMaxScaler() # 데이터를 0~1 범위로 점철되게 하는 함수 call\n",
        "data_normalized = data_normalizer.fit_transform(input_data) # 데이터를 0~1 범위로 점철되게 함수 수행\n",
        "data_normalized.shape"
      ],
      "metadata": {
        "colab": {
          "base_uri": "https://localhost:8080/"
        },
        "id": "dJtCaACqovM7",
        "outputId": "e1f2052d-5d9b-4947-f89f-f321c0412271"
      },
      "execution_count": 13,
      "outputs": [
        {
          "output_type": "execute_result",
          "data": {
            "text/plain": [
              "(2109, 21)"
            ]
          },
          "metadata": {},
          "execution_count": 13
        }
      ]
    },
    {
      "cell_type": "code",
      "source": [
        "data_normalized[0]"
      ],
      "metadata": {
        "colab": {
          "base_uri": "https://localhost:8080/"
        },
        "id": "g4LgveVFpT9W",
        "outputId": "f829fb6b-250a-40c3-d3ba-8bba9bca92a6"
      },
      "execution_count": 14,
      "outputs": [
        {
          "output_type": "execute_result",
          "data": {
            "text/plain": [
              "array([3.48432056e-04, 9.09090909e-03, 1.60000000e-02, 9.09090909e-03,\n",
              "       1.17540687e-03, 1.64165873e-04, 6.50000000e-01, 2.41860465e-02,\n",
              "       6.73365793e-03, 4.00241980e-06, 4.92424242e-01, 7.20435542e-05,\n",
              "       7.63358779e-03, 4.54545455e-02, 3.44827586e-02, 1.66666667e-01,\n",
              "       3.24324324e-02, 1.00000000e-02, 1.76991150e-03, 2.80373832e-03,\n",
              "       4.54545455e-03])"
            ]
          },
          "metadata": {},
          "execution_count": 14
        }
      ]
    },
    {
      "cell_type": "markdown",
      "source": [
        "# **TrainData와 TestData의 분리**"
      ],
      "metadata": {
        "id": "y2b_RmUNpvQE"
      }
    },
    {
      "cell_type": "code",
      "source": [
        "from sklearn.model_selection import train_test_split\n",
        "\n",
        "#학습셋과 테스트셋의 구분\n",
        "seed=0\n",
        "X_train, X_test, Y_train, Y_test = train_test_split(data_normalized,y_label, test_size =0.3, random_state = seed)\n",
        "\n",
        "print(\"X_train의 shape:\", X_train.shape)\n",
        "print(\"X_test shape:\", X_test.shape)\n",
        "print(\"Y_train shape:\", Y_train.shape)\n",
        "print(\"Y_test shape:\", Y_test.shape)"
      ],
      "metadata": {
        "colab": {
          "base_uri": "https://localhost:8080/"
        },
        "id": "LsRi50QCpWWJ",
        "outputId": "cd291c09-39d2-4b4f-cd5f-f15db0e01e21"
      },
      "execution_count": 15,
      "outputs": [
        {
          "output_type": "stream",
          "name": "stdout",
          "text": [
            "X_train의 shape: (1476, 21)\n",
            "X_test shape: (633, 21)\n",
            "Y_train shape: (1476,)\n",
            "Y_test shape: (633,)\n"
          ]
        }
      ]
    },
    {
      "cell_type": "markdown",
      "source": [
        "# **모델 설계**"
      ],
      "metadata": {
        "id": "SRsa_y2YrOZN"
      }
    },
    {
      "cell_type": "markdown",
      "source": [
        "# **실험 2**\n",
        "- epoch : 200\n",
        "- optimizer : adam 함수"
      ],
      "metadata": {
        "id": "OxH7xJ_lIKvn"
      }
    },
    {
      "cell_type": "code",
      "source": [
        "from keras import models\n",
        "from keras import layers\n",
        "\n",
        "model = models.Sequential()\n",
        "model.add(layers.Dense(40, activation='relu', input_shape=(21,)))\n",
        "model.add(layers.Dropout(0.5))\n",
        "model.add(layers.Dense(50, activation='relu'))\n",
        "model.add(layers.Dropout(0.5))\n",
        "model.add(layers.Dense(50, activation='relu'))\n",
        "model.add(layers.Dropout(0.5))\n",
        "model.add(layers.Dense(60, activation='relu'))\n",
        "model.add(layers.Dropout(0.5))\n",
        "model.add(layers.Dense(70, activation='relu'))\n",
        "model.add(layers.Dropout(0.5))\n",
        "model.add(layers.Dense(1, activation='sigmoid')) "
      ],
      "metadata": {
        "id": "cqSlzBDbHqen"
      },
      "execution_count": 16,
      "outputs": []
    },
    {
      "cell_type": "code",
      "source": [
        "model.compile(optimizer='adam',\n",
        "             loss='binary_crossentropy',\n",
        "             metrics=['AUC'])"
      ],
      "metadata": {
        "id": "c5y8PgqZHrQf"
      },
      "execution_count": 17,
      "outputs": []
    },
    {
      "cell_type": "code",
      "source": [
        "hist = model.fit(X_train, Y_train, validation_data=(X_test, Y_test), epochs=200, batch_size=7, verbose=1)"
      ],
      "metadata": {
        "colab": {
          "base_uri": "https://localhost:8080/"
        },
        "id": "qO1BueeEHvwE",
        "outputId": "65d6d7b0-410f-4123-9652-3fe5416bdfa0"
      },
      "execution_count": 18,
      "outputs": [
        {
          "output_type": "stream",
          "name": "stdout",
          "text": [
            "Epoch 1/200\n",
            "211/211 [==============================] - 2s 5ms/step - loss: 0.4689 - auc: 0.5407 - val_loss: 0.4270 - val_auc: 0.7254\n",
            "Epoch 2/200\n",
            "211/211 [==============================] - 1s 3ms/step - loss: 0.4008 - auc: 0.6808 - val_loss: 0.4098 - val_auc: 0.7332\n",
            "Epoch 3/200\n",
            "211/211 [==============================] - 1s 3ms/step - loss: 0.3941 - auc: 0.7224 - val_loss: 0.4116 - val_auc: 0.7368\n",
            "Epoch 4/200\n",
            "211/211 [==============================] - 1s 3ms/step - loss: 0.3620 - auc: 0.7630 - val_loss: 0.4085 - val_auc: 0.7393\n",
            "Epoch 5/200\n",
            "211/211 [==============================] - 1s 3ms/step - loss: 0.3613 - auc: 0.7762 - val_loss: 0.4315 - val_auc: 0.7406\n",
            "Epoch 6/200\n",
            "211/211 [==============================] - 1s 3ms/step - loss: 0.3716 - auc: 0.7617 - val_loss: 0.4106 - val_auc: 0.7411\n",
            "Epoch 7/200\n",
            "211/211 [==============================] - 1s 4ms/step - loss: 0.3690 - auc: 0.7824 - val_loss: 0.4081 - val_auc: 0.7424\n",
            "Epoch 8/200\n",
            "211/211 [==============================] - 1s 3ms/step - loss: 0.3514 - auc: 0.7905 - val_loss: 0.4144 - val_auc: 0.7420\n",
            "Epoch 9/200\n",
            "211/211 [==============================] - 1s 4ms/step - loss: 0.3610 - auc: 0.7804 - val_loss: 0.4092 - val_auc: 0.7419\n",
            "Epoch 10/200\n",
            "211/211 [==============================] - 1s 3ms/step - loss: 0.3495 - auc: 0.7950 - val_loss: 0.4230 - val_auc: 0.7424\n",
            "Epoch 11/200\n",
            "211/211 [==============================] - 1s 3ms/step - loss: 0.3546 - auc: 0.7913 - val_loss: 0.4069 - val_auc: 0.7431\n",
            "Epoch 12/200\n",
            "211/211 [==============================] - 1s 3ms/step - loss: 0.3665 - auc: 0.7738 - val_loss: 0.4080 - val_auc: 0.7442\n",
            "Epoch 13/200\n",
            "211/211 [==============================] - 1s 3ms/step - loss: 0.3417 - auc: 0.8058 - val_loss: 0.3994 - val_auc: 0.7467\n",
            "Epoch 14/200\n",
            "211/211 [==============================] - 1s 3ms/step - loss: 0.3487 - auc: 0.8009 - val_loss: 0.4099 - val_auc: 0.7453\n",
            "Epoch 15/200\n",
            "211/211 [==============================] - 1s 3ms/step - loss: 0.3444 - auc: 0.8042 - val_loss: 0.4030 - val_auc: 0.7473\n",
            "Epoch 16/200\n",
            "211/211 [==============================] - 1s 3ms/step - loss: 0.3555 - auc: 0.7996 - val_loss: 0.4046 - val_auc: 0.7490\n",
            "Epoch 17/200\n",
            "211/211 [==============================] - 1s 4ms/step - loss: 0.3359 - auc: 0.8146 - val_loss: 0.4109 - val_auc: 0.7449\n",
            "Epoch 18/200\n",
            "211/211 [==============================] - 1s 3ms/step - loss: 0.3511 - auc: 0.7937 - val_loss: 0.4146 - val_auc: 0.7447\n",
            "Epoch 19/200\n",
            "211/211 [==============================] - 1s 3ms/step - loss: 0.3517 - auc: 0.7911 - val_loss: 0.4040 - val_auc: 0.7434\n",
            "Epoch 20/200\n",
            "211/211 [==============================] - 1s 3ms/step - loss: 0.3436 - auc: 0.8083 - val_loss: 0.4105 - val_auc: 0.7452\n",
            "Epoch 21/200\n",
            "211/211 [==============================] - 1s 3ms/step - loss: 0.3405 - auc: 0.8071 - val_loss: 0.4166 - val_auc: 0.7455\n",
            "Epoch 22/200\n",
            "211/211 [==============================] - 1s 3ms/step - loss: 0.3456 - auc: 0.8061 - val_loss: 0.4069 - val_auc: 0.7465\n",
            "Epoch 23/200\n",
            "211/211 [==============================] - 1s 3ms/step - loss: 0.3447 - auc: 0.8020 - val_loss: 0.4021 - val_auc: 0.7439\n",
            "Epoch 24/200\n",
            "211/211 [==============================] - 1s 3ms/step - loss: 0.3472 - auc: 0.8052 - val_loss: 0.4185 - val_auc: 0.7435\n",
            "Epoch 25/200\n",
            "211/211 [==============================] - 1s 3ms/step - loss: 0.3407 - auc: 0.8085 - val_loss: 0.4171 - val_auc: 0.7467\n",
            "Epoch 26/200\n",
            "211/211 [==============================] - 1s 4ms/step - loss: 0.3554 - auc: 0.7996 - val_loss: 0.3987 - val_auc: 0.7424\n",
            "Epoch 27/200\n",
            "211/211 [==============================] - 1s 3ms/step - loss: 0.3454 - auc: 0.7956 - val_loss: 0.4168 - val_auc: 0.7440\n",
            "Epoch 28/200\n",
            "211/211 [==============================] - 1s 3ms/step - loss: 0.3407 - auc: 0.8053 - val_loss: 0.4038 - val_auc: 0.7456\n",
            "Epoch 29/200\n",
            "211/211 [==============================] - 1s 3ms/step - loss: 0.3404 - auc: 0.8115 - val_loss: 0.4241 - val_auc: 0.7461\n",
            "Epoch 30/200\n",
            "211/211 [==============================] - 1s 3ms/step - loss: 0.3500 - auc: 0.8014 - val_loss: 0.4059 - val_auc: 0.7532\n",
            "Epoch 31/200\n",
            "211/211 [==============================] - 1s 3ms/step - loss: 0.3354 - auc: 0.8190 - val_loss: 0.4043 - val_auc: 0.7453\n",
            "Epoch 32/200\n",
            "211/211 [==============================] - 1s 3ms/step - loss: 0.3404 - auc: 0.8123 - val_loss: 0.4073 - val_auc: 0.7446\n",
            "Epoch 33/200\n",
            "211/211 [==============================] - 1s 4ms/step - loss: 0.3394 - auc: 0.8152 - val_loss: 0.4034 - val_auc: 0.7446\n",
            "Epoch 34/200\n",
            "211/211 [==============================] - 1s 3ms/step - loss: 0.3389 - auc: 0.8178 - val_loss: 0.3989 - val_auc: 0.7467\n",
            "Epoch 35/200\n",
            "211/211 [==============================] - 1s 4ms/step - loss: 0.3398 - auc: 0.8157 - val_loss: 0.4077 - val_auc: 0.7482\n",
            "Epoch 36/200\n",
            "211/211 [==============================] - 1s 3ms/step - loss: 0.3384 - auc: 0.8056 - val_loss: 0.4358 - val_auc: 0.7429\n",
            "Epoch 37/200\n",
            "211/211 [==============================] - 1s 3ms/step - loss: 0.3444 - auc: 0.8121 - val_loss: 0.4008 - val_auc: 0.7431\n",
            "Epoch 38/200\n",
            "211/211 [==============================] - 1s 3ms/step - loss: 0.3293 - auc: 0.8262 - val_loss: 0.3969 - val_auc: 0.7461\n",
            "Epoch 39/200\n",
            "211/211 [==============================] - 1s 3ms/step - loss: 0.3350 - auc: 0.8183 - val_loss: 0.3990 - val_auc: 0.7491\n",
            "Epoch 40/200\n",
            "211/211 [==============================] - 1s 3ms/step - loss: 0.3330 - auc: 0.8167 - val_loss: 0.4090 - val_auc: 0.7479\n",
            "Epoch 41/200\n",
            "211/211 [==============================] - 1s 3ms/step - loss: 0.3326 - auc: 0.8250 - val_loss: 0.3997 - val_auc: 0.7462\n",
            "Epoch 42/200\n",
            "211/211 [==============================] - 1s 3ms/step - loss: 0.3410 - auc: 0.8094 - val_loss: 0.4130 - val_auc: 0.7442\n",
            "Epoch 43/200\n",
            "211/211 [==============================] - 1s 3ms/step - loss: 0.3329 - auc: 0.8171 - val_loss: 0.4093 - val_auc: 0.7456\n",
            "Epoch 44/200\n",
            "211/211 [==============================] - 1s 3ms/step - loss: 0.3346 - auc: 0.8119 - val_loss: 0.4043 - val_auc: 0.7457\n",
            "Epoch 45/200\n",
            "211/211 [==============================] - 1s 3ms/step - loss: 0.3361 - auc: 0.8183 - val_loss: 0.4456 - val_auc: 0.7457\n",
            "Epoch 46/200\n",
            "211/211 [==============================] - 1s 3ms/step - loss: 0.3332 - auc: 0.8157 - val_loss: 0.4115 - val_auc: 0.7459\n",
            "Epoch 47/200\n",
            "211/211 [==============================] - 1s 3ms/step - loss: 0.3308 - auc: 0.8131 - val_loss: 0.4056 - val_auc: 0.7474\n",
            "Epoch 48/200\n",
            "211/211 [==============================] - 1s 3ms/step - loss: 0.3419 - auc: 0.8125 - val_loss: 0.4031 - val_auc: 0.7459\n",
            "Epoch 49/200\n",
            "211/211 [==============================] - 1s 3ms/step - loss: 0.3339 - auc: 0.8189 - val_loss: 0.3973 - val_auc: 0.7422\n",
            "Epoch 50/200\n",
            "211/211 [==============================] - 1s 5ms/step - loss: 0.3243 - auc: 0.8258 - val_loss: 0.4026 - val_auc: 0.7469\n",
            "Epoch 51/200\n",
            "211/211 [==============================] - 1s 5ms/step - loss: 0.3312 - auc: 0.8185 - val_loss: 0.4017 - val_auc: 0.7436\n",
            "Epoch 52/200\n",
            "211/211 [==============================] - 1s 5ms/step - loss: 0.3419 - auc: 0.8000 - val_loss: 0.4126 - val_auc: 0.7463\n",
            "Epoch 53/200\n",
            "211/211 [==============================] - 1s 5ms/step - loss: 0.3190 - auc: 0.8306 - val_loss: 0.4094 - val_auc: 0.7404\n",
            "Epoch 54/200\n",
            "211/211 [==============================] - 1s 5ms/step - loss: 0.3351 - auc: 0.8157 - val_loss: 0.4148 - val_auc: 0.7448\n",
            "Epoch 55/200\n",
            "211/211 [==============================] - 1s 4ms/step - loss: 0.3313 - auc: 0.8206 - val_loss: 0.4168 - val_auc: 0.7487\n",
            "Epoch 56/200\n",
            "211/211 [==============================] - 1s 5ms/step - loss: 0.3299 - auc: 0.8230 - val_loss: 0.4055 - val_auc: 0.7443\n",
            "Epoch 57/200\n",
            "211/211 [==============================] - 1s 4ms/step - loss: 0.3237 - auc: 0.8299 - val_loss: 0.4166 - val_auc: 0.7480\n",
            "Epoch 58/200\n",
            "211/211 [==============================] - 1s 5ms/step - loss: 0.3336 - auc: 0.8193 - val_loss: 0.4078 - val_auc: 0.7496\n",
            "Epoch 59/200\n",
            "211/211 [==============================] - 1s 6ms/step - loss: 0.3294 - auc: 0.8231 - val_loss: 0.4099 - val_auc: 0.7497\n",
            "Epoch 60/200\n",
            "211/211 [==============================] - 1s 7ms/step - loss: 0.3277 - auc: 0.8296 - val_loss: 0.4359 - val_auc: 0.7484\n",
            "Epoch 61/200\n",
            "211/211 [==============================] - 1s 3ms/step - loss: 0.3276 - auc: 0.8232 - val_loss: 0.4160 - val_auc: 0.7449\n",
            "Epoch 62/200\n",
            "211/211 [==============================] - 1s 3ms/step - loss: 0.3274 - auc: 0.8226 - val_loss: 0.4076 - val_auc: 0.7453\n",
            "Epoch 63/200\n",
            "211/211 [==============================] - 1s 3ms/step - loss: 0.3312 - auc: 0.8160 - val_loss: 0.4214 - val_auc: 0.7465\n",
            "Epoch 64/200\n",
            "211/211 [==============================] - 1s 3ms/step - loss: 0.3258 - auc: 0.8276 - val_loss: 0.4139 - val_auc: 0.7467\n",
            "Epoch 65/200\n",
            "211/211 [==============================] - 1s 3ms/step - loss: 0.3317 - auc: 0.8172 - val_loss: 0.4157 - val_auc: 0.7465\n",
            "Epoch 66/200\n",
            "211/211 [==============================] - 1s 3ms/step - loss: 0.3317 - auc: 0.8216 - val_loss: 0.4016 - val_auc: 0.7484\n",
            "Epoch 67/200\n",
            "211/211 [==============================] - 1s 3ms/step - loss: 0.3264 - auc: 0.8247 - val_loss: 0.4047 - val_auc: 0.7486\n",
            "Epoch 68/200\n",
            "211/211 [==============================] - 1s 3ms/step - loss: 0.3324 - auc: 0.8173 - val_loss: 0.4029 - val_auc: 0.7471\n",
            "Epoch 69/200\n",
            "211/211 [==============================] - 1s 4ms/step - loss: 0.3380 - auc: 0.8215 - val_loss: 0.4087 - val_auc: 0.7464\n",
            "Epoch 70/200\n",
            "211/211 [==============================] - 1s 3ms/step - loss: 0.3288 - auc: 0.8212 - val_loss: 0.4321 - val_auc: 0.7490\n",
            "Epoch 71/200\n",
            "211/211 [==============================] - 1s 3ms/step - loss: 0.3310 - auc: 0.8252 - val_loss: 0.4272 - val_auc: 0.7451\n",
            "Epoch 72/200\n",
            "211/211 [==============================] - 1s 3ms/step - loss: 0.3237 - auc: 0.8276 - val_loss: 0.3972 - val_auc: 0.7478\n",
            "Epoch 73/200\n",
            "211/211 [==============================] - 1s 3ms/step - loss: 0.3156 - auc: 0.8408 - val_loss: 0.4509 - val_auc: 0.7419\n",
            "Epoch 74/200\n",
            "211/211 [==============================] - 1s 3ms/step - loss: 0.3286 - auc: 0.8244 - val_loss: 0.3988 - val_auc: 0.7412\n",
            "Epoch 75/200\n",
            "211/211 [==============================] - 1s 4ms/step - loss: 0.3271 - auc: 0.8248 - val_loss: 0.4264 - val_auc: 0.7457\n",
            "Epoch 76/200\n",
            "211/211 [==============================] - 1s 3ms/step - loss: 0.3317 - auc: 0.8216 - val_loss: 0.4077 - val_auc: 0.7384\n",
            "Epoch 77/200\n",
            "211/211 [==============================] - 1s 3ms/step - loss: 0.3296 - auc: 0.8251 - val_loss: 0.4155 - val_auc: 0.7415\n",
            "Epoch 78/200\n",
            "211/211 [==============================] - 1s 3ms/step - loss: 0.3258 - auc: 0.8328 - val_loss: 0.4216 - val_auc: 0.7435\n",
            "Epoch 79/200\n",
            "211/211 [==============================] - 1s 3ms/step - loss: 0.3419 - auc: 0.8175 - val_loss: 0.4203 - val_auc: 0.7496\n",
            "Epoch 80/200\n",
            "211/211 [==============================] - 1s 3ms/step - loss: 0.3266 - auc: 0.8282 - val_loss: 0.4142 - val_auc: 0.7517\n",
            "Epoch 81/200\n",
            "211/211 [==============================] - 1s 4ms/step - loss: 0.3405 - auc: 0.8051 - val_loss: 0.4097 - val_auc: 0.7488\n",
            "Epoch 82/200\n",
            "211/211 [==============================] - 1s 3ms/step - loss: 0.3289 - auc: 0.8269 - val_loss: 0.4223 - val_auc: 0.7458\n",
            "Epoch 83/200\n",
            "211/211 [==============================] - 1s 3ms/step - loss: 0.3293 - auc: 0.8299 - val_loss: 0.4042 - val_auc: 0.7497\n",
            "Epoch 84/200\n",
            "211/211 [==============================] - 1s 3ms/step - loss: 0.3179 - auc: 0.8318 - val_loss: 0.4112 - val_auc: 0.7359\n",
            "Epoch 85/200\n",
            "211/211 [==============================] - 1s 3ms/step - loss: 0.3273 - auc: 0.8219 - val_loss: 0.4152 - val_auc: 0.7395\n",
            "Epoch 86/200\n",
            "211/211 [==============================] - 1s 3ms/step - loss: 0.3255 - auc: 0.8252 - val_loss: 0.4090 - val_auc: 0.7449\n",
            "Epoch 87/200\n",
            "211/211 [==============================] - 1s 3ms/step - loss: 0.3306 - auc: 0.8210 - val_loss: 0.4170 - val_auc: 0.7496\n",
            "Epoch 88/200\n",
            "211/211 [==============================] - 1s 3ms/step - loss: 0.3153 - auc: 0.8374 - val_loss: 0.4243 - val_auc: 0.7348\n",
            "Epoch 89/200\n",
            "211/211 [==============================] - 1s 4ms/step - loss: 0.3309 - auc: 0.8284 - val_loss: 0.4164 - val_auc: 0.7438\n",
            "Epoch 90/200\n",
            "211/211 [==============================] - 1s 3ms/step - loss: 0.3401 - auc: 0.8153 - val_loss: 0.4044 - val_auc: 0.7371\n",
            "Epoch 91/200\n",
            "211/211 [==============================] - 1s 4ms/step - loss: 0.3137 - auc: 0.8340 - val_loss: 0.4260 - val_auc: 0.7453\n",
            "Epoch 92/200\n",
            "211/211 [==============================] - 1s 4ms/step - loss: 0.3142 - auc: 0.8352 - val_loss: 0.4532 - val_auc: 0.7412\n",
            "Epoch 93/200\n",
            "211/211 [==============================] - 1s 3ms/step - loss: 0.3223 - auc: 0.8317 - val_loss: 0.4250 - val_auc: 0.7491\n",
            "Epoch 94/200\n",
            "211/211 [==============================] - 1s 3ms/step - loss: 0.3230 - auc: 0.8350 - val_loss: 0.4112 - val_auc: 0.7435\n",
            "Epoch 95/200\n",
            "211/211 [==============================] - 1s 3ms/step - loss: 0.3252 - auc: 0.8304 - val_loss: 0.4186 - val_auc: 0.7394\n",
            "Epoch 96/200\n",
            "211/211 [==============================] - 1s 4ms/step - loss: 0.3213 - auc: 0.8389 - val_loss: 0.4090 - val_auc: 0.7424\n",
            "Epoch 97/200\n",
            "211/211 [==============================] - 1s 3ms/step - loss: 0.3204 - auc: 0.8293 - val_loss: 0.4136 - val_auc: 0.7443\n",
            "Epoch 98/200\n",
            "211/211 [==============================] - 1s 3ms/step - loss: 0.3243 - auc: 0.8290 - val_loss: 0.4031 - val_auc: 0.7484\n",
            "Epoch 99/200\n",
            "211/211 [==============================] - 1s 3ms/step - loss: 0.3172 - auc: 0.8418 - val_loss: 0.4079 - val_auc: 0.7447\n",
            "Epoch 100/200\n",
            "211/211 [==============================] - 1s 3ms/step - loss: 0.3210 - auc: 0.8289 - val_loss: 0.4231 - val_auc: 0.7337\n",
            "Epoch 101/200\n",
            "211/211 [==============================] - 1s 3ms/step - loss: 0.3252 - auc: 0.8220 - val_loss: 0.4140 - val_auc: 0.7463\n",
            "Epoch 102/200\n",
            "211/211 [==============================] - 1s 3ms/step - loss: 0.3173 - auc: 0.8388 - val_loss: 0.4194 - val_auc: 0.7445\n",
            "Epoch 103/200\n",
            "211/211 [==============================] - 1s 4ms/step - loss: 0.3280 - auc: 0.8332 - val_loss: 0.4083 - val_auc: 0.7438\n",
            "Epoch 104/200\n",
            "211/211 [==============================] - 1s 4ms/step - loss: 0.3270 - auc: 0.8230 - val_loss: 0.4088 - val_auc: 0.7468\n",
            "Epoch 105/200\n",
            "211/211 [==============================] - 1s 4ms/step - loss: 0.3153 - auc: 0.8360 - val_loss: 0.4190 - val_auc: 0.7359\n",
            "Epoch 106/200\n",
            "211/211 [==============================] - 1s 3ms/step - loss: 0.3312 - auc: 0.8221 - val_loss: 0.4149 - val_auc: 0.7475\n",
            "Epoch 107/200\n",
            "211/211 [==============================] - 1s 3ms/step - loss: 0.3188 - auc: 0.8367 - val_loss: 0.4301 - val_auc: 0.7430\n",
            "Epoch 108/200\n",
            "211/211 [==============================] - 1s 4ms/step - loss: 0.3266 - auc: 0.8336 - val_loss: 0.4354 - val_auc: 0.7422\n",
            "Epoch 109/200\n",
            "211/211 [==============================] - 1s 4ms/step - loss: 0.3092 - auc: 0.8441 - val_loss: 0.4125 - val_auc: 0.7412\n",
            "Epoch 110/200\n",
            "211/211 [==============================] - 1s 4ms/step - loss: 0.3205 - auc: 0.8336 - val_loss: 0.4168 - val_auc: 0.7455\n",
            "Epoch 111/200\n",
            "211/211 [==============================] - 1s 3ms/step - loss: 0.3273 - auc: 0.8224 - val_loss: 0.4141 - val_auc: 0.7413\n",
            "Epoch 112/200\n",
            "211/211 [==============================] - 1s 3ms/step - loss: 0.3207 - auc: 0.8344 - val_loss: 0.4201 - val_auc: 0.7472\n",
            "Epoch 113/200\n",
            "211/211 [==============================] - 1s 3ms/step - loss: 0.3184 - auc: 0.8418 - val_loss: 0.4172 - val_auc: 0.7421\n",
            "Epoch 114/200\n",
            "211/211 [==============================] - 1s 4ms/step - loss: 0.3303 - auc: 0.8237 - val_loss: 0.4154 - val_auc: 0.7376\n",
            "Epoch 115/200\n",
            "211/211 [==============================] - 1s 3ms/step - loss: 0.3201 - auc: 0.8364 - val_loss: 0.4561 - val_auc: 0.7387\n",
            "Epoch 116/200\n",
            "211/211 [==============================] - 1s 4ms/step - loss: 0.3193 - auc: 0.8354 - val_loss: 0.4134 - val_auc: 0.7425\n",
            "Epoch 117/200\n",
            "211/211 [==============================] - 1s 3ms/step - loss: 0.3180 - auc: 0.8362 - val_loss: 0.4193 - val_auc: 0.7373\n",
            "Epoch 118/200\n",
            "211/211 [==============================] - 1s 3ms/step - loss: 0.3204 - auc: 0.8335 - val_loss: 0.4162 - val_auc: 0.7389\n",
            "Epoch 119/200\n",
            "211/211 [==============================] - 1s 4ms/step - loss: 0.3231 - auc: 0.8335 - val_loss: 0.4491 - val_auc: 0.7298\n",
            "Epoch 120/200\n",
            "211/211 [==============================] - 1s 3ms/step - loss: 0.3164 - auc: 0.8347 - val_loss: 0.4315 - val_auc: 0.7362\n",
            "Epoch 121/200\n",
            "211/211 [==============================] - 1s 3ms/step - loss: 0.3203 - auc: 0.8350 - val_loss: 0.4272 - val_auc: 0.7321\n",
            "Epoch 122/200\n",
            "211/211 [==============================] - 1s 3ms/step - loss: 0.3224 - auc: 0.8320 - val_loss: 0.4259 - val_auc: 0.7330\n",
            "Epoch 123/200\n",
            "211/211 [==============================] - 1s 3ms/step - loss: 0.3155 - auc: 0.8378 - val_loss: 0.4384 - val_auc: 0.7331\n",
            "Epoch 124/200\n",
            "211/211 [==============================] - 1s 3ms/step - loss: 0.3132 - auc: 0.8400 - val_loss: 0.4384 - val_auc: 0.7407\n",
            "Epoch 125/200\n",
            "211/211 [==============================] - 1s 3ms/step - loss: 0.3184 - auc: 0.8324 - val_loss: 0.4145 - val_auc: 0.7405\n",
            "Epoch 126/200\n",
            "211/211 [==============================] - 1s 3ms/step - loss: 0.3223 - auc: 0.8309 - val_loss: 0.4364 - val_auc: 0.7343\n",
            "Epoch 127/200\n",
            "211/211 [==============================] - 1s 3ms/step - loss: 0.3146 - auc: 0.8401 - val_loss: 0.4353 - val_auc: 0.7356\n",
            "Epoch 128/200\n",
            "211/211 [==============================] - 1s 3ms/step - loss: 0.3128 - auc: 0.8444 - val_loss: 0.4330 - val_auc: 0.7392\n",
            "Epoch 129/200\n",
            "211/211 [==============================] - 1s 3ms/step - loss: 0.3153 - auc: 0.8358 - val_loss: 0.4313 - val_auc: 0.7421\n",
            "Epoch 130/200\n",
            "211/211 [==============================] - 1s 3ms/step - loss: 0.3246 - auc: 0.8312 - val_loss: 0.4249 - val_auc: 0.7337\n",
            "Epoch 131/200\n",
            "211/211 [==============================] - 1s 3ms/step - loss: 0.3149 - auc: 0.8362 - val_loss: 0.4253 - val_auc: 0.7451\n",
            "Epoch 132/200\n",
            "211/211 [==============================] - 1s 3ms/step - loss: 0.3135 - auc: 0.8384 - val_loss: 0.4129 - val_auc: 0.7418\n",
            "Epoch 133/200\n",
            "211/211 [==============================] - 1s 3ms/step - loss: 0.3380 - auc: 0.8182 - val_loss: 0.4329 - val_auc: 0.7434\n",
            "Epoch 134/200\n",
            "211/211 [==============================] - 1s 3ms/step - loss: 0.3203 - auc: 0.8470 - val_loss: 0.4241 - val_auc: 0.7365\n",
            "Epoch 135/200\n",
            "211/211 [==============================] - 1s 3ms/step - loss: 0.3263 - auc: 0.8431 - val_loss: 0.4526 - val_auc: 0.7341\n",
            "Epoch 136/200\n",
            "211/211 [==============================] - 1s 3ms/step - loss: 0.3287 - auc: 0.8219 - val_loss: 0.4179 - val_auc: 0.7389\n",
            "Epoch 137/200\n",
            "211/211 [==============================] - 1s 3ms/step - loss: 0.3261 - auc: 0.8323 - val_loss: 0.4250 - val_auc: 0.7381\n",
            "Epoch 138/200\n",
            "211/211 [==============================] - 1s 3ms/step - loss: 0.3215 - auc: 0.8319 - val_loss: 0.4122 - val_auc: 0.7443\n",
            "Epoch 139/200\n",
            "211/211 [==============================] - 1s 3ms/step - loss: 0.3171 - auc: 0.8345 - val_loss: 0.4421 - val_auc: 0.7417\n",
            "Epoch 140/200\n",
            "211/211 [==============================] - 1s 3ms/step - loss: 0.3255 - auc: 0.8321 - val_loss: 0.4026 - val_auc: 0.7469\n",
            "Epoch 141/200\n",
            "211/211 [==============================] - 1s 3ms/step - loss: 0.3162 - auc: 0.8355 - val_loss: 0.4183 - val_auc: 0.7438\n",
            "Epoch 142/200\n",
            "211/211 [==============================] - 1s 3ms/step - loss: 0.3170 - auc: 0.8384 - val_loss: 0.4092 - val_auc: 0.7434\n",
            "Epoch 143/200\n",
            "211/211 [==============================] - 1s 3ms/step - loss: 0.3226 - auc: 0.8294 - val_loss: 0.4480 - val_auc: 0.7319\n",
            "Epoch 144/200\n",
            "211/211 [==============================] - 1s 4ms/step - loss: 0.3148 - auc: 0.8373 - val_loss: 0.4228 - val_auc: 0.7367\n",
            "Epoch 145/200\n",
            "211/211 [==============================] - 1s 3ms/step - loss: 0.3257 - auc: 0.8297 - val_loss: 0.4218 - val_auc: 0.7376\n",
            "Epoch 146/200\n",
            "211/211 [==============================] - 1s 4ms/step - loss: 0.3202 - auc: 0.8334 - val_loss: 0.4206 - val_auc: 0.7389\n",
            "Epoch 147/200\n",
            "211/211 [==============================] - 1s 3ms/step - loss: 0.3160 - auc: 0.8311 - val_loss: 0.4189 - val_auc: 0.7328\n",
            "Epoch 148/200\n",
            "211/211 [==============================] - 1s 3ms/step - loss: 0.3233 - auc: 0.8295 - val_loss: 0.4281 - val_auc: 0.7431\n",
            "Epoch 149/200\n",
            "211/211 [==============================] - 1s 3ms/step - loss: 0.3130 - auc: 0.8336 - val_loss: 0.4408 - val_auc: 0.7427\n",
            "Epoch 150/200\n",
            "211/211 [==============================] - 1s 4ms/step - loss: 0.3096 - auc: 0.8419 - val_loss: 0.4464 - val_auc: 0.7346\n",
            "Epoch 151/200\n",
            "211/211 [==============================] - 1s 3ms/step - loss: 0.3156 - auc: 0.8460 - val_loss: 0.4122 - val_auc: 0.7359\n",
            "Epoch 152/200\n",
            "211/211 [==============================] - 1s 3ms/step - loss: 0.3251 - auc: 0.8420 - val_loss: 0.4512 - val_auc: 0.7427\n",
            "Epoch 153/200\n",
            "211/211 [==============================] - 1s 3ms/step - loss: 0.3192 - auc: 0.8402 - val_loss: 0.4471 - val_auc: 0.7398\n",
            "Epoch 154/200\n",
            "211/211 [==============================] - 1s 3ms/step - loss: 0.3161 - auc: 0.8413 - val_loss: 0.4495 - val_auc: 0.7276\n",
            "Epoch 155/200\n",
            "211/211 [==============================] - 1s 3ms/step - loss: 0.3154 - auc: 0.8446 - val_loss: 0.4444 - val_auc: 0.7299\n",
            "Epoch 156/200\n",
            "211/211 [==============================] - 1s 3ms/step - loss: 0.3117 - auc: 0.8441 - val_loss: 0.4178 - val_auc: 0.7384\n",
            "Epoch 157/200\n",
            "211/211 [==============================] - 1s 4ms/step - loss: 0.3209 - auc: 0.8363 - val_loss: 0.4571 - val_auc: 0.7417\n",
            "Epoch 158/200\n",
            "211/211 [==============================] - 1s 3ms/step - loss: 0.3112 - auc: 0.8418 - val_loss: 0.4494 - val_auc: 0.7376\n",
            "Epoch 159/200\n",
            "211/211 [==============================] - 1s 3ms/step - loss: 0.3110 - auc: 0.8416 - val_loss: 0.4440 - val_auc: 0.7319\n",
            "Epoch 160/200\n",
            "211/211 [==============================] - 1s 3ms/step - loss: 0.3155 - auc: 0.8400 - val_loss: 0.4137 - val_auc: 0.7312\n",
            "Epoch 161/200\n",
            "211/211 [==============================] - 1s 4ms/step - loss: 0.3191 - auc: 0.8283 - val_loss: 0.4154 - val_auc: 0.7389\n",
            "Epoch 162/200\n",
            "211/211 [==============================] - 1s 4ms/step - loss: 0.3246 - auc: 0.8341 - val_loss: 0.4192 - val_auc: 0.7430\n",
            "Epoch 163/200\n",
            "211/211 [==============================] - 1s 3ms/step - loss: 0.3176 - auc: 0.8339 - val_loss: 0.4129 - val_auc: 0.7363\n",
            "Epoch 164/200\n",
            "211/211 [==============================] - 1s 4ms/step - loss: 0.3196 - auc: 0.8318 - val_loss: 0.4247 - val_auc: 0.7404\n",
            "Epoch 165/200\n",
            "211/211 [==============================] - 1s 3ms/step - loss: 0.3226 - auc: 0.8292 - val_loss: 0.4256 - val_auc: 0.7318\n",
            "Epoch 166/200\n",
            "211/211 [==============================] - 1s 3ms/step - loss: 0.3107 - auc: 0.8400 - val_loss: 0.4381 - val_auc: 0.7364\n",
            "Epoch 167/200\n",
            "211/211 [==============================] - 1s 3ms/step - loss: 0.3172 - auc: 0.8363 - val_loss: 0.4321 - val_auc: 0.7305\n",
            "Epoch 168/200\n",
            "211/211 [==============================] - 1s 3ms/step - loss: 0.3105 - auc: 0.8354 - val_loss: 0.4632 - val_auc: 0.7383\n",
            "Epoch 169/200\n",
            "211/211 [==============================] - 1s 3ms/step - loss: 0.3177 - auc: 0.8381 - val_loss: 0.4311 - val_auc: 0.7421\n",
            "Epoch 170/200\n",
            "211/211 [==============================] - 1s 4ms/step - loss: 0.3214 - auc: 0.8404 - val_loss: 0.4200 - val_auc: 0.7434\n",
            "Epoch 171/200\n",
            "211/211 [==============================] - 1s 4ms/step - loss: 0.3099 - auc: 0.8442 - val_loss: 0.4195 - val_auc: 0.7391\n",
            "Epoch 172/200\n",
            "211/211 [==============================] - 1s 4ms/step - loss: 0.3111 - auc: 0.8421 - val_loss: 0.4266 - val_auc: 0.7266\n",
            "Epoch 173/200\n",
            "211/211 [==============================] - 1s 3ms/step - loss: 0.3066 - auc: 0.8448 - val_loss: 0.4289 - val_auc: 0.7357\n",
            "Epoch 174/200\n",
            "211/211 [==============================] - 1s 3ms/step - loss: 0.3147 - auc: 0.8415 - val_loss: 0.4278 - val_auc: 0.7374\n",
            "Epoch 175/200\n",
            "211/211 [==============================] - 1s 3ms/step - loss: 0.3083 - auc: 0.8515 - val_loss: 0.4353 - val_auc: 0.7362\n",
            "Epoch 176/200\n",
            "211/211 [==============================] - 1s 3ms/step - loss: 0.3110 - auc: 0.8396 - val_loss: 0.4346 - val_auc: 0.7295\n",
            "Epoch 177/200\n",
            "211/211 [==============================] - 1s 3ms/step - loss: 0.3026 - auc: 0.8556 - val_loss: 0.4453 - val_auc: 0.7368\n",
            "Epoch 178/200\n",
            "211/211 [==============================] - 1s 3ms/step - loss: 0.3224 - auc: 0.8237 - val_loss: 0.4552 - val_auc: 0.7309\n",
            "Epoch 179/200\n",
            "211/211 [==============================] - 1s 3ms/step - loss: 0.3125 - auc: 0.8460 - val_loss: 0.4208 - val_auc: 0.7376\n",
            "Epoch 180/200\n",
            "211/211 [==============================] - 1s 3ms/step - loss: 0.3139 - auc: 0.8453 - val_loss: 0.4303 - val_auc: 0.7313\n",
            "Epoch 181/200\n",
            "211/211 [==============================] - 1s 3ms/step - loss: 0.3118 - auc: 0.8414 - val_loss: 0.4486 - val_auc: 0.7332\n",
            "Epoch 182/200\n",
            "211/211 [==============================] - 1s 3ms/step - loss: 0.3158 - auc: 0.8303 - val_loss: 0.4526 - val_auc: 0.7353\n",
            "Epoch 183/200\n",
            "211/211 [==============================] - 1s 3ms/step - loss: 0.3128 - auc: 0.8378 - val_loss: 0.4494 - val_auc: 0.7166\n",
            "Epoch 184/200\n",
            "211/211 [==============================] - 1s 4ms/step - loss: 0.3061 - auc: 0.8477 - val_loss: 0.4279 - val_auc: 0.7413\n",
            "Epoch 185/200\n",
            "211/211 [==============================] - 1s 4ms/step - loss: 0.3060 - auc: 0.8482 - val_loss: 0.4494 - val_auc: 0.7094\n",
            "Epoch 186/200\n",
            "211/211 [==============================] - 1s 3ms/step - loss: 0.3235 - auc: 0.8370 - val_loss: 0.4758 - val_auc: 0.7186\n",
            "Epoch 187/200\n",
            "211/211 [==============================] - 1s 4ms/step - loss: 0.3221 - auc: 0.8299 - val_loss: 0.4287 - val_auc: 0.7377\n",
            "Epoch 188/200\n",
            "211/211 [==============================] - 1s 4ms/step - loss: 0.3117 - auc: 0.8376 - val_loss: 0.4447 - val_auc: 0.7261\n",
            "Epoch 189/200\n",
            "211/211 [==============================] - 1s 3ms/step - loss: 0.3124 - auc: 0.8433 - val_loss: 0.4353 - val_auc: 0.7426\n",
            "Epoch 190/200\n",
            "211/211 [==============================] - 1s 3ms/step - loss: 0.3140 - auc: 0.8418 - val_loss: 0.4336 - val_auc: 0.7372\n",
            "Epoch 191/200\n",
            "211/211 [==============================] - 1s 3ms/step - loss: 0.3076 - auc: 0.8497 - val_loss: 0.4473 - val_auc: 0.7317\n",
            "Epoch 192/200\n",
            "211/211 [==============================] - 1s 4ms/step - loss: 0.3091 - auc: 0.8417 - val_loss: 0.4538 - val_auc: 0.7246\n",
            "Epoch 193/200\n",
            "211/211 [==============================] - 1s 4ms/step - loss: 0.3105 - auc: 0.8415 - val_loss: 0.4324 - val_auc: 0.7263\n",
            "Epoch 194/200\n",
            "211/211 [==============================] - 1s 3ms/step - loss: 0.3048 - auc: 0.8438 - val_loss: 0.4441 - val_auc: 0.7283\n",
            "Epoch 195/200\n",
            "211/211 [==============================] - 1s 3ms/step - loss: 0.3090 - auc: 0.8428 - val_loss: 0.4392 - val_auc: 0.7150\n",
            "Epoch 196/200\n",
            "211/211 [==============================] - 1s 3ms/step - loss: 0.3147 - auc: 0.8446 - val_loss: 0.4605 - val_auc: 0.7232\n",
            "Epoch 197/200\n",
            "211/211 [==============================] - 1s 4ms/step - loss: 0.3195 - auc: 0.8432 - val_loss: 0.4545 - val_auc: 0.7275\n",
            "Epoch 198/200\n",
            "211/211 [==============================] - 1s 3ms/step - loss: 0.3125 - auc: 0.8421 - val_loss: 0.4797 - val_auc: 0.7133\n",
            "Epoch 199/200\n",
            "211/211 [==============================] - 1s 3ms/step - loss: 0.3142 - auc: 0.8386 - val_loss: 0.4885 - val_auc: 0.7164\n",
            "Epoch 200/200\n",
            "211/211 [==============================] - 1s 7ms/step - loss: 0.3236 - auc: 0.8206 - val_loss: 0.4315 - val_auc: 0.7237\n"
          ]
        }
      ]
    },
    {
      "cell_type": "code",
      "source": [
        "#그래프 그려보기\n",
        "\n",
        "import matplotlib.pyplot as plt\n",
        "%matplotlib inline\n",
        "\n",
        "plt.figure(figsize=(10,8))\n",
        "\n",
        "#loss 그래프\n",
        "history_dict = hist.history\n",
        "auc = history_dict['auc']\n",
        "val_auc = history_dict['val_auc']\n",
        "\n",
        "x_len = np.arange(len(auc))\n",
        "plt.plot(x_len, val_auc, marker='.', c=\"red\", label = \"Testset_auc\")\n",
        "plt.plot(x_len, auc, marker='.', c=\"blue\", label = \"Trainset_auc\")\n",
        "\n",
        "#그래프에 그리드를 주고 레이블을 표시\n",
        "plt.legend(loc='upper right')\n",
        "plt.grid()\n",
        "plt.xlabel('epoch')\n",
        "plt.ylabel('auc')\n",
        "plt.show()"
      ],
      "metadata": {
        "colab": {
          "base_uri": "https://localhost:8080/",
          "height": 497
        },
        "id": "IqSvl35zIMrY",
        "outputId": "5d446d5f-22c5-4527-f1f8-6fd6f66ffc82"
      },
      "execution_count": null,
      "outputs": [
        {
          "output_type": "display_data",
          "data": {
            "image/png": "[encoded data removed]",
            "text/plain": [
              "<Figure size 720x576 with 1 Axes>"
            ]
          },
          "metadata": {
            "needs_background": "light"
          }
        }
      ]
    },
    {
      "cell_type": "code",
      "source": [
        "print(\"\\n Train AUC : %.4f\" % (model.evaluate(X_train, Y_train)[1]))\n",
        "print(\"\\n Test AUC : %.4f\" % (model.evaluate(X_test, Y_test)[1]))"
      ],
      "metadata": {
        "colab": {
          "base_uri": "https://localhost:8080/"
        },
        "id": "GsBTwyEHHyxi",
        "outputId": "e9e114cf-363a-4d7f-fddd-a07239ad1f26"
      },
      "execution_count": null,
      "outputs": [
        {
          "output_type": "stream",
          "name": "stdout",
          "text": [
            "11/11 [==============================] - 0s 2ms/step - loss: 0.2386 - auc: 0.8535\n",
            "\n",
            " Train AUC : 0.8535\n",
            "5/5 [==============================] - 0s 4ms/step - loss: 0.4156 - auc: 0.8109\n",
            "\n",
            " Test AUC : 0.8109\n"
          ]
        }
      ]
    },
    {
      "cell_type": "code",
      "source": [
        ""
      ],
      "metadata": {
        "id": "CIZnu40wcNY4"
      },
      "execution_count": null,
      "outputs": []
    }
  ]
}