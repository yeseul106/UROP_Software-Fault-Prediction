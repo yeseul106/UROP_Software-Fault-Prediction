{
  "nbformat": 4,
  "nbformat_minor": 0,
  "metadata": {
    "colab": {
      "name": "UROP_IQR.ipynb",
      "provenance": [],
      "collapsed_sections": [],
      "authorship_tag": "ABX9TyOtYOPR+XVhPJrBsekdy3VY",
      "include_colab_link": true
    },
    "kernelspec": {
      "name": "python3",
      "display_name": "Python 3"
    },
    "language_info": {
      "name": "python"
    }
  },
  "cells": [
    {
      "cell_type": "markdown",
      "metadata": {
        "id": "view-in-github",
        "colab_type": "text"
      },
      "source": [
        "<a href=\"https://colab.research.google.com/github/yeseul106/UROP_Software-Fault-Prediction/blob/main/UROP_IQR.ipynb\" target=\"_parent\"><img src=\"https://colab.research.google.com/assets/colab-badge.svg\" alt=\"Open In Colab\"/></a>"
      ]
    },
    {
      "cell_type": "code",
      "execution_count": 48,
      "metadata": {
        "id": "iYPmQ2YCLSCZ"
      },
      "outputs": [],
      "source": [
        "import numpy as np\n",
        "import pandas as pd\n",
        "import tensorflow as tf"
      ]
    },
    {
      "cell_type": "code",
      "source": [
        "# 구글 드라이브 연결\n",
        "from google.colab import drive\n",
        "drive.mount('/content/drive')"
      ],
      "metadata": {
        "colab": {
          "base_uri": "https://localhost:8080/"
        },
        "id": "zyNDsJE1LbW6",
        "outputId": "ce3b92a9-d2e6-4ced-a384-af9c5d845592"
      },
      "execution_count": 49,
      "outputs": [
        {
          "output_type": "stream",
          "name": "stdout",
          "text": [
            "Drive already mounted at /content/drive; to attempt to forcibly remount, call drive.mount(\"/content/drive\", force_remount=True).\n"
          ]
        }
      ]
    },
    {
      "cell_type": "code",
      "source": [
        "# 원본 csv 파일 읽어오기\n",
        "JM1_original = pd.read_csv('/content/drive/MyDrive/UROP/UROP dataset/JM1_proff(PROMISE).csv', encoding='cp949')\n",
        "print(JM1_original.shape)\n",
        "JM1_original.head(5)"
      ],
      "metadata": {
        "colab": {
          "base_uri": "https://localhost:8080/",
          "height": 225
        },
        "id": "sDMwbFoPMGsH",
        "outputId": "71de8d01-1ef8-4bab-9af9-7069a0269725"
      },
      "execution_count": 50,
      "outputs": [
        {
          "output_type": "stream",
          "name": "stdout",
          "text": [
            "(10885, 22)\n"
          ]
        },
        {
          "output_type": "execute_result",
          "data": {
            "text/html": [
              "\n",
              "  <div id=\"df-85bf09f6-4416-414c-bf9f-0f605d89aa2f\">\n",
              "    <div class=\"colab-df-container\">\n",
              "      <div>\n",
              "<style scoped>\n",
              "    .dataframe tbody tr th:only-of-type {\n",
              "        vertical-align: middle;\n",
              "    }\n",
              "\n",
              "    .dataframe tbody tr th {\n",
              "        vertical-align: top;\n",
              "    }\n",
              "\n",
              "    .dataframe thead th {\n",
              "        text-align: right;\n",
              "    }\n",
              "</style>\n",
              "<table border=\"1\" class=\"dataframe\">\n",
              "  <thead>\n",
              "    <tr style=\"text-align: right;\">\n",
              "      <th></th>\n",
              "      <th>loc</th>\n",
              "      <th>v(g)</th>\n",
              "      <th>ev(g)</th>\n",
              "      <th>iv(g)</th>\n",
              "      <th>n</th>\n",
              "      <th>v</th>\n",
              "      <th>l</th>\n",
              "      <th>d</th>\n",
              "      <th>i</th>\n",
              "      <th>e</th>\n",
              "      <th>b</th>\n",
              "      <th>t</th>\n",
              "      <th>lOCode</th>\n",
              "      <th>lOComment</th>\n",
              "      <th>lOBlank</th>\n",
              "      <th>locCodeAndComment</th>\n",
              "      <th>uniq_Op</th>\n",
              "      <th>uniq_Opnd</th>\n",
              "      <th>total_Op</th>\n",
              "      <th>total_Opnd</th>\n",
              "      <th>branchCount</th>\n",
              "      <th>defects</th>\n",
              "    </tr>\n",
              "  </thead>\n",
              "  <tbody>\n",
              "    <tr>\n",
              "      <th>0</th>\n",
              "      <td>1.1</td>\n",
              "      <td>1.4</td>\n",
              "      <td>1.4</td>\n",
              "      <td>1.4</td>\n",
              "      <td>1.3</td>\n",
              "      <td>1.30</td>\n",
              "      <td>1.30</td>\n",
              "      <td>1.30</td>\n",
              "      <td>1.30</td>\n",
              "      <td>1.30</td>\n",
              "      <td>1.30</td>\n",
              "      <td>1.30</td>\n",
              "      <td>2</td>\n",
              "      <td>2</td>\n",
              "      <td>2</td>\n",
              "      <td>2</td>\n",
              "      <td>1.2</td>\n",
              "      <td>1.2</td>\n",
              "      <td>1.2</td>\n",
              "      <td>1.2</td>\n",
              "      <td>1.4</td>\n",
              "      <td>False</td>\n",
              "    </tr>\n",
              "    <tr>\n",
              "      <th>1</th>\n",
              "      <td>1.0</td>\n",
              "      <td>1.0</td>\n",
              "      <td>1.0</td>\n",
              "      <td>1.0</td>\n",
              "      <td>1.0</td>\n",
              "      <td>1.00</td>\n",
              "      <td>1.00</td>\n",
              "      <td>1.00</td>\n",
              "      <td>1.00</td>\n",
              "      <td>1.00</td>\n",
              "      <td>1.00</td>\n",
              "      <td>1.00</td>\n",
              "      <td>1</td>\n",
              "      <td>1</td>\n",
              "      <td>1</td>\n",
              "      <td>1</td>\n",
              "      <td>1</td>\n",
              "      <td>1</td>\n",
              "      <td>1</td>\n",
              "      <td>1</td>\n",
              "      <td>1</td>\n",
              "      <td>True</td>\n",
              "    </tr>\n",
              "    <tr>\n",
              "      <th>2</th>\n",
              "      <td>72.0</td>\n",
              "      <td>7.0</td>\n",
              "      <td>1.0</td>\n",
              "      <td>6.0</td>\n",
              "      <td>198.0</td>\n",
              "      <td>1134.13</td>\n",
              "      <td>0.05</td>\n",
              "      <td>20.31</td>\n",
              "      <td>55.85</td>\n",
              "      <td>23029.10</td>\n",
              "      <td>0.38</td>\n",
              "      <td>1279.39</td>\n",
              "      <td>51</td>\n",
              "      <td>10</td>\n",
              "      <td>8</td>\n",
              "      <td>1</td>\n",
              "      <td>17</td>\n",
              "      <td>36</td>\n",
              "      <td>112</td>\n",
              "      <td>86</td>\n",
              "      <td>13</td>\n",
              "      <td>True</td>\n",
              "    </tr>\n",
              "    <tr>\n",
              "      <th>3</th>\n",
              "      <td>190.0</td>\n",
              "      <td>3.0</td>\n",
              "      <td>1.0</td>\n",
              "      <td>3.0</td>\n",
              "      <td>600.0</td>\n",
              "      <td>4348.76</td>\n",
              "      <td>0.06</td>\n",
              "      <td>17.06</td>\n",
              "      <td>254.87</td>\n",
              "      <td>74202.67</td>\n",
              "      <td>1.45</td>\n",
              "      <td>4122.37</td>\n",
              "      <td>129</td>\n",
              "      <td>29</td>\n",
              "      <td>28</td>\n",
              "      <td>2</td>\n",
              "      <td>17</td>\n",
              "      <td>135</td>\n",
              "      <td>329</td>\n",
              "      <td>271</td>\n",
              "      <td>5</td>\n",
              "      <td>True</td>\n",
              "    </tr>\n",
              "    <tr>\n",
              "      <th>4</th>\n",
              "      <td>37.0</td>\n",
              "      <td>4.0</td>\n",
              "      <td>1.0</td>\n",
              "      <td>4.0</td>\n",
              "      <td>126.0</td>\n",
              "      <td>599.12</td>\n",
              "      <td>0.06</td>\n",
              "      <td>17.19</td>\n",
              "      <td>34.86</td>\n",
              "      <td>10297.30</td>\n",
              "      <td>0.20</td>\n",
              "      <td>572.07</td>\n",
              "      <td>28</td>\n",
              "      <td>1</td>\n",
              "      <td>6</td>\n",
              "      <td>0</td>\n",
              "      <td>11</td>\n",
              "      <td>16</td>\n",
              "      <td>76</td>\n",
              "      <td>50</td>\n",
              "      <td>7</td>\n",
              "      <td>True</td>\n",
              "    </tr>\n",
              "  </tbody>\n",
              "</table>\n",
              "</div>\n",
              "      <button class=\"colab-df-convert\" onclick=\"convertToInteractive('df-85bf09f6-4416-414c-bf9f-0f605d89aa2f')\"\n",
              "              title=\"Convert this dataframe to an interactive table.\"\n",
              "              style=\"display:none;\">\n",
              "        \n",
              "  <svg xmlns=\"http://www.w3.org/2000/svg\" height=\"24px\"viewBox=\"0 0 24 24\"\n",
              "       width=\"24px\">\n",
              "    <path d=\"M0 0h24v24H0V0z\" fill=\"none\"/>\n",
              "    <path d=\"M18.56 5.44l.94 2.06.94-2.06 2.06-.94-2.06-.94-.94-2.06-.94 2.06-2.06.94zm-11 1L8.5 8.5l.94-2.06 2.06-.94-2.06-.94L8.5 2.5l-.94 2.06-2.06.94zm10 10l.94 2.06.94-2.06 2.06-.94-2.06-.94-.94-2.06-.94 2.06-2.06.94z\"/><path d=\"M17.41 7.96l-1.37-1.37c-.4-.4-.92-.59-1.43-.59-.52 0-1.04.2-1.43.59L10.3 9.45l-7.72 7.72c-.78.78-.78 2.05 0 2.83L4 21.41c.39.39.9.59 1.41.59.51 0 1.02-.2 1.41-.59l7.78-7.78 2.81-2.81c.8-.78.8-2.07 0-2.86zM5.41 20L4 18.59l7.72-7.72 1.47 1.35L5.41 20z\"/>\n",
              "  </svg>\n",
              "      </button>\n",
              "      \n",
              "  <style>\n",
              "    .colab-df-container {\n",
              "      display:flex;\n",
              "      flex-wrap:wrap;\n",
              "      gap: 12px;\n",
              "    }\n",
              "\n",
              "    .colab-df-convert {\n",
              "      background-color: #E8F0FE;\n",
              "      border: none;\n",
              "      border-radius: 50%;\n",
              "      cursor: pointer;\n",
              "      display: none;\n",
              "      fill: #1967D2;\n",
              "      height: 32px;\n",
              "      padding: 0 0 0 0;\n",
              "      width: 32px;\n",
              "    }\n",
              "\n",
              "    .colab-df-convert:hover {\n",
              "      background-color: #E2EBFA;\n",
              "      box-shadow: 0px 1px 2px rgba(60, 64, 67, 0.3), 0px 1px 3px 1px rgba(60, 64, 67, 0.15);\n",
              "      fill: #174EA6;\n",
              "    }\n",
              "\n",
              "    [theme=dark] .colab-df-convert {\n",
              "      background-color: #3B4455;\n",
              "      fill: #D2E3FC;\n",
              "    }\n",
              "\n",
              "    [theme=dark] .colab-df-convert:hover {\n",
              "      background-color: #434B5C;\n",
              "      box-shadow: 0px 1px 3px 1px rgba(0, 0, 0, 0.15);\n",
              "      filter: drop-shadow(0px 1px 2px rgba(0, 0, 0, 0.3));\n",
              "      fill: #FFFFFF;\n",
              "    }\n",
              "  </style>\n",
              "\n",
              "      <script>\n",
              "        const buttonEl =\n",
              "          document.querySelector('#df-85bf09f6-4416-414c-bf9f-0f605d89aa2f button.colab-df-convert');\n",
              "        buttonEl.style.display =\n",
              "          google.colab.kernel.accessAllowed ? 'block' : 'none';\n",
              "\n",
              "        async function convertToInteractive(key) {\n",
              "          const element = document.querySelector('#df-85bf09f6-4416-414c-bf9f-0f605d89aa2f');\n",
              "          const dataTable =\n",
              "            await google.colab.kernel.invokeFunction('convertToInteractive',\n",
              "                                                     [key], {});\n",
              "          if (!dataTable) return;\n",
              "\n",
              "          const docLinkHtml = 'Like what you see? Visit the ' +\n",
              "            '<a target=\"_blank\" href=https://colab.research.google.com/notebooks/data_table.ipynb>data table notebook</a>'\n",
              "            + ' to learn more about interactive tables.';\n",
              "          element.innerHTML = '';\n",
              "          dataTable['output_type'] = 'display_data';\n",
              "          await google.colab.output.renderOutput(dataTable, element);\n",
              "          const docLink = document.createElement('div');\n",
              "          docLink.innerHTML = docLinkHtml;\n",
              "          element.appendChild(docLink);\n",
              "        }\n",
              "      </script>\n",
              "    </div>\n",
              "  </div>\n",
              "  "
            ],
            "text/plain": [
              "     loc  v(g)  ev(g)  iv(g)  ...  total_Op  total_Opnd  branchCount  defects\n",
              "0    1.1   1.4    1.4    1.4  ...       1.2         1.2          1.4    False\n",
              "1    1.0   1.0    1.0    1.0  ...         1           1            1     True\n",
              "2   72.0   7.0    1.0    6.0  ...       112          86           13     True\n",
              "3  190.0   3.0    1.0    3.0  ...       329         271            5     True\n",
              "4   37.0   4.0    1.0    4.0  ...        76          50            7     True\n",
              "\n",
              "[5 rows x 22 columns]"
            ]
          },
          "metadata": {},
          "execution_count": 50
        }
      ]
    },
    {
      "cell_type": "code",
      "source": [
        "print(JM1_original.loc[JM1_original['uniq_Op'] == '?'])"
      ],
      "metadata": {
        "colab": {
          "base_uri": "https://localhost:8080/"
        },
        "id": "E202XeOpdfrs",
        "outputId": "34864850-05b2-48fd-c71d-74b6270fcb65"
      },
      "execution_count": 51,
      "outputs": [
        {
          "output_type": "stream",
          "name": "stdout",
          "text": [
            "       loc  v(g)  ev(g)  iv(g)  ...  total_Op  total_Opnd  branchCount  defects\n",
            "143   49.0   4.0    3.0    3.0  ...         ?           ?            ?     True\n",
            "358   27.0   5.0    3.0    3.0  ...         ?           ?            ?     True\n",
            "1598  76.0  18.0   11.0   11.0  ...         ?           ?            ?     True\n",
            "4214   6.0   1.0    1.0    1.0  ...         ?           ?            ?    False\n",
            "8279   9.0  13.0   10.0    4.0  ...         ?           ?            ?    False\n",
            "\n",
            "[5 rows x 22 columns]\n"
          ]
        }
      ]
    },
    {
      "cell_type": "code",
      "source": [
        "# 이상 값이 있는 행 삭제\n",
        "JM1_original = JM1_original.drop([143,358,1598,4214,8279], axis=0)"
      ],
      "metadata": {
        "id": "sAxHJJTFZ0Zu"
      },
      "execution_count": 52,
      "outputs": []
    },
    {
      "cell_type": "code",
      "source": [
        "print(JM1_original.shape)"
      ],
      "metadata": {
        "colab": {
          "base_uri": "https://localhost:8080/"
        },
        "id": "eWQsVfwOeqHk",
        "outputId": "8470a50c-c99c-41ec-a5d5-567207bec60f"
      },
      "execution_count": 53,
      "outputs": [
        {
          "output_type": "stream",
          "name": "stdout",
          "text": [
            "(10880, 22)\n"
          ]
        }
      ]
    },
    {
      "cell_type": "markdown",
      "source": [
        "# **1) 이상치 데이터 제거 후 모델 학습/예측/평가**\n",
        "\n",
        "- 21개의 feature 들 중에서 가장 상관계수가 높은 'loc'에 대해서만 이상치를 찾아서 제거함.\n",
        "\n",
        "- IQR을 이용해 이상치를 검출하는 함수를 생성한 뒤, 이를 이용해 검출된 이상치를 삭제한다.\n"
      ],
      "metadata": {
        "id": "lcRrY1eaklgN"
      }
    },
    {
      "cell_type": "code",
      "source": [
        "def get_outlier(df=None, column=None, weight=1.5):\n",
        "  #fraud에 해당하는 column 데이터만 추출, 1/4 분위와 3/4 분위 지점을 np.percentile로 구함.\n",
        "  fraud = df[df['defects']==0][column]\n",
        "  quantile_25 = np.percentile(fraud.values,25)\n",
        "  quantile_75 = np.percentile(fraud.values,75)\n",
        "\n",
        "  #IQR을 구하고 IQR에 1.5를 곱해 최댓값과 최솟값 지점을 구함\n",
        "  iqr = quantile_75 - quantile_25\n",
        "  iqr_weight = iqr * weight\n",
        "  lowest_val = quantile_25 - iqr_weight\n",
        "  highest_val = quantile_75 + iqr_weight\n",
        "\n",
        "  #최댓값보다 크거나, 최솟값보다 작은 값을 이상치 데이터로 설정하고 DataFrame index 반환\n",
        "  outlier_index = fraud[(fraud<lowest_val)|(fraud>highest_val)].index\n",
        "  return outlier_index"
      ],
      "metadata": {
        "id": "PNUqJitvlNsC"
      },
      "execution_count": 54,
      "outputs": []
    },
    {
      "cell_type": "code",
      "source": [
        "outlier_index = get_outlier(df=JM1_original, column='loc', weight=1.5)\n",
        "print(\"이상치 데이터 인덱스:\", outlier_index)"
      ],
      "metadata": {
        "colab": {
          "base_uri": "https://localhost:8080/"
        },
        "id": "cpoD1HcGBPNq",
        "outputId": "4270e603-c0a4-4dc9-c46d-dfa776e341a8"
      },
      "execution_count": 55,
      "outputs": [
        {
          "output_type": "stream",
          "name": "stdout",
          "text": [
            "이상치 데이터 인덱스: Int64Index([ 2107,  2109,  2110,  2111,  2113,  2114,  2115,  2116,  2121,\n",
            "             2127,\n",
            "            ...\n",
            "            10840, 10841, 10842, 10843, 10855, 10856, 10858, 10859, 10860,\n",
            "            10862],\n",
            "           dtype='int64', length=779)\n"
          ]
        }
      ]
    },
    {
      "cell_type": "code",
      "source": [
        "# 이상치 제거\n",
        "JM1_original.drop(outlier_index, axis=0, inplace=True)\n",
        "print(JM1_original.shape)"
      ],
      "metadata": {
        "colab": {
          "base_uri": "https://localhost:8080/"
        },
        "id": "IyOj44LOK7uV",
        "outputId": "daeafa0c-4391-4a29-c61d-5c64adffe4dc"
      },
      "execution_count": 56,
      "outputs": [
        {
          "output_type": "stream",
          "name": "stdout",
          "text": [
            "(10101, 22)\n"
          ]
        }
      ]
    },
    {
      "cell_type": "code",
      "source": [
        "# 입력 데이터\n",
        "input_data = JM1_original.iloc[:,:21]\n",
        "print(\"input_data shape : \",input_data.shape)"
      ],
      "metadata": {
        "colab": {
          "base_uri": "https://localhost:8080/"
        },
        "id": "Zsfscj58WRcE",
        "outputId": "65dd6c9a-9f49-475f-aae7-7eb54646641e"
      },
      "execution_count": 57,
      "outputs": [
        {
          "output_type": "stream",
          "name": "stdout",
          "text": [
            "input_data shape :  (10101, 21)\n"
          ]
        }
      ]
    },
    {
      "cell_type": "code",
      "source": [
        "input_data = np.asarray(input_data,dtype=np.float)"
      ],
      "metadata": {
        "id": "DB0v13oEPsah"
      },
      "execution_count": 58,
      "outputs": []
    },
    {
      "cell_type": "code",
      "source": [
        "input_data[0]"
      ],
      "metadata": {
        "colab": {
          "base_uri": "https://localhost:8080/"
        },
        "id": "g92RW6N8fFMB",
        "outputId": "fa4db096-a656-4966-8c62-d17d3bc84162"
      },
      "execution_count": 59,
      "outputs": [
        {
          "output_type": "execute_result",
          "data": {
            "text/plain": [
              "array([1.1, 1.4, 1.4, 1.4, 1.3, 1.3, 1.3, 1.3, 1.3, 1.3, 1.3, 1.3, 2. ,\n",
              "       2. , 2. , 2. , 1.2, 1.2, 1.2, 1.2, 1.4])"
            ]
          },
          "metadata": {},
          "execution_count": 59
        }
      ]
    },
    {
      "cell_type": "code",
      "source": [
        "input_data.shape"
      ],
      "metadata": {
        "colab": {
          "base_uri": "https://localhost:8080/"
        },
        "id": "E2bk__bzfJLP",
        "outputId": "5f6d3f0e-40aa-40be-e0bf-33926b87b425"
      },
      "execution_count": 60,
      "outputs": [
        {
          "output_type": "execute_result",
          "data": {
            "text/plain": [
              "(10101, 21)"
            ]
          },
          "metadata": {},
          "execution_count": 60
        }
      ]
    },
    {
      "cell_type": "code",
      "source": [
        "# 정답 레이블\n",
        "y_label = JM1_original.iloc[:,21].to_numpy()\n",
        "print(\"y_label shape : \",y_label.shape)"
      ],
      "metadata": {
        "colab": {
          "base_uri": "https://localhost:8080/"
        },
        "id": "nncsa_ZDWwJ9",
        "outputId": "84ace868-79dd-47b1-da9b-fc699b1b7cc3"
      },
      "execution_count": 61,
      "outputs": [
        {
          "output_type": "stream",
          "name": "stdout",
          "text": [
            "y_label shape :  (10101,)\n"
          ]
        }
      ]
    },
    {
      "cell_type": "code",
      "source": [
        "y_label[0]"
      ],
      "metadata": {
        "colab": {
          "base_uri": "https://localhost:8080/"
        },
        "id": "yNqBDkIoW3Tt",
        "outputId": "d46d66cb-987d-4e5c-8db6-8fbf7bd427da"
      },
      "execution_count": 62,
      "outputs": [
        {
          "output_type": "execute_result",
          "data": {
            "text/plain": [
              "False"
            ]
          },
          "metadata": {},
          "execution_count": 62
        }
      ]
    },
    {
      "cell_type": "code",
      "source": [
        "cnt_true =0\n",
        "cnt_false=0\n",
        "# 정답 레이블 확인 해보기\n",
        "for i in range(len(y_label)):\n",
        "  if y_label[i]:\n",
        "    cnt_true+=1\n",
        "  else:\n",
        "    cnt_false+=1\n",
        "\n",
        "print(\"fault-prone: \", cnt_true)\n",
        "print(\"non-fault-prone: \", cnt_false)"
      ],
      "metadata": {
        "colab": {
          "base_uri": "https://localhost:8080/"
        },
        "id": "xyJirJ_ltd0z",
        "outputId": "d06e0d16-8373-4aa6-f310-2f3679ac9ae2"
      },
      "execution_count": 63,
      "outputs": [
        {
          "output_type": "stream",
          "name": "stdout",
          "text": [
            "fault-prone:  2103\n",
            "non-fault-prone:  7998\n"
          ]
        }
      ]
    },
    {
      "cell_type": "code",
      "source": [
        "# 레이블 벡터화 \n",
        "y_label = np.asarray(y_label).astype('float32')"
      ],
      "metadata": {
        "id": "dgMVinPiW67G"
      },
      "execution_count": 64,
      "outputs": []
    },
    {
      "cell_type": "code",
      "source": [
        "y_label.shape"
      ],
      "metadata": {
        "colab": {
          "base_uri": "https://localhost:8080/"
        },
        "id": "X_qCKUt3W8_x",
        "outputId": "7e97d2c5-56a7-435d-8582-36c4b001db81"
      },
      "execution_count": 65,
      "outputs": [
        {
          "output_type": "execute_result",
          "data": {
            "text/plain": [
              "(10101,)"
            ]
          },
          "metadata": {},
          "execution_count": 65
        }
      ]
    },
    {
      "cell_type": "code",
      "source": [
        "from sklearn import preprocessing\n",
        "\n",
        "# 정규화 0-1로 하기\n",
        "data_normalizer = preprocessing.MinMaxScaler() # 데이터를 0~1 범위로 점철되게 하는 함수 call\n",
        "data_normalized = data_normalizer.fit_transform(input_data) # 데이터를 0~1 범위로 점철되게 함수 수행\n",
        "data_normalized.shape"
      ],
      "metadata": {
        "colab": {
          "base_uri": "https://localhost:8080/"
        },
        "id": "mpvA1ylJN22Y",
        "outputId": "640a9ea1-0866-447c-9404-d20e7af2ec53"
      },
      "execution_count": 66,
      "outputs": [
        {
          "output_type": "execute_result",
          "data": {
            "text/plain": [
              "(10101, 21)"
            ]
          },
          "metadata": {},
          "execution_count": 66
        }
      ]
    },
    {
      "cell_type": "code",
      "source": [
        "data_normalized[0]"
      ],
      "metadata": {
        "colab": {
          "base_uri": "https://localhost:8080/"
        },
        "id": "GSwaGv1LW-TA",
        "outputId": "441cdbce-5ac1-4833-dac7-1bac6a5423f5"
      },
      "execution_count": 67,
      "outputs": [
        {
          "output_type": "execute_result",
          "data": {
            "text/plain": [
              "array([2.90613194e-05, 8.52878465e-04, 2.87769784e-03, 9.97506234e-04,\n",
              "       1.54010188e-04, 1.60805353e-05, 1.00000000e+00, 3.18058376e-03,\n",
              "       2.28158237e-03, 4.18278349e-08, 4.82374768e-02, 7.52901028e-07,\n",
              "       7.08215297e-04, 5.81395349e-03, 4.47427293e-03, 1.85185185e-02,\n",
              "       2.91970803e-03, 1.16959064e-03, 2.21402214e-04, 3.97219464e-04,\n",
              "       4.84848485e-04])"
            ]
          },
          "metadata": {},
          "execution_count": 67
        }
      ]
    },
    {
      "cell_type": "markdown",
      "source": [
        "# **10-fold cross-valid**"
      ],
      "metadata": {
        "id": "Yrqrv8VkXBw9"
      }
    },
    {
      "cell_type": "code",
      "source": [
        "from sklearn.model_selection import StratifiedKFold\n",
        "from keras import models\n",
        "from keras import layers\n",
        "from keras.callbacks import EarlyStopping\n",
        "\n",
        "# 5개의 파일로 쪼갬\n",
        "n_fold = 5\n",
        "seed = 0\n",
        "skf = StratifiedKFold(n_splits=n_fold, shuffle=True, random_state=seed)\n",
        "\n",
        "#빈 metrics 배열\n",
        "accuracy = []\n",
        "loss = []\n",
        "auc = []\n",
        "FPR = []\n",
        "FNR = []"
      ],
      "metadata": {
        "id": "4rqxVTuLW_oE"
      },
      "execution_count": 68,
      "outputs": []
    },
    {
      "cell_type": "code",
      "source": [
        "from typing import Pattern\n",
        "# 학습 자동 중단 설정\n",
        "early_stopping_callback = EarlyStopping(monitor='loss', patience=100)"
      ],
      "metadata": {
        "id": "xhhC544fXGZG"
      },
      "execution_count": 69,
      "outputs": []
    },
    {
      "cell_type": "code",
      "source": [
        "for train, test in skf.split(data_normalized, y_label):\n",
        "  model = models.Sequential()\n",
        "  model.add(layers.Dense(64, input_shape = (21, )))\n",
        "  model.add(layers.BatchNormalization())\n",
        "  model.add(layers.Activation('relu'))\n",
        "  model.add(layers.Dropout(0.5))\n",
        "  model.add(layers.Dense(64))\n",
        "  model.add(layers.BatchNormalization())\n",
        "  model.add(layers.Activation('relu'))\n",
        "  model.add(layers.Dropout(0.5))\n",
        "  model.add(layers.Dense(64))\n",
        "  model.add(layers.BatchNormalization())\n",
        "  model.add(layers.Activation('relu'))\n",
        "  model.add(layers.Dropout(0.5))\n",
        "  model.add(layers.Dense(64))\n",
        "  model.add(layers.BatchNormalization())\n",
        "  model.add(layers.Activation('relu'))\n",
        "  model.add(layers.Dropout(0.5))\n",
        "  model.add(layers.Dense(64))\n",
        "  model.add(layers.BatchNormalization())\n",
        "  model.add(layers.Activation('relu'))\n",
        "  model.add(layers.Dropout(0.5))\n",
        "  model.add(layers.Dense(1))\n",
        "  model.add(layers.Activation('sigmoid'))\n",
        "\n",
        "  model.compile(optimizer='adam',\n",
        "             loss='binary_crossentropy',\n",
        "             metrics=[tf.keras.metrics.TruePositives(),tf.keras.metrics.FalseNegatives(),tf.keras.metrics.FalsePositives(),tf.keras.metrics.TrueNegatives(),\"AUC\"])\n",
        "  hist = model.fit(data_normalized[train], y_label[train], epochs=600, batch_size=5, verbose=1, callbacks=[early_stopping_callback])\n",
        "  TP = model.evaluate(data_normalized[test],y_label[test])[1]\n",
        "  FN = model.evaluate(data_normalized[test],y_label[test])[2]\n",
        "  FP = model.evaluate(data_normalized[test],y_label[test])[3]\n",
        "  TN = model.evaluate(data_normalized[test],y_label[test])[4]\n",
        "  k_accuracy = \"%.4f\"%((TP+TN)/(TP+FP+FN+TN))\n",
        "  k_loss = \"%.4f\"%(model.evaluate(data_normalized[test],y_label[test])[0])\n",
        "  k_FPR = \"%.4f\"%((FP)/(FP+TN))\n",
        "  k_FNR=\"%.4f\"%((FN)/(TP+FN))\n",
        "  k_auc = \"%.4f\"%(model.evaluate(data_normalized[test],y_label[test])[5])\n",
        "  accuracy.append(k_accuracy)\n",
        "  loss.append(k_loss)\n",
        "  FNR.append(k_FNR)\n",
        "  FPR.append(k_FPR)\n",
        "  auc.append(k_auc)"
      ],
      "metadata": {
        "id": "5PLVYK6IXJEs"
      },
      "execution_count": null,
      "outputs": []
    },
    {
      "cell_type": "code",
      "source": [
        "print(\"\\n %.f fold accuracy:\" % n_fold, accuracy)\n",
        "print(\"모든 fold의 평균 accuracy: \", (float(accuracy[0]) + float(accuracy[1]) + float(accuracy[2]) + float(accuracy[3]) + float(accuracy[4])) / 5)\n",
        "\n",
        "print(\"\\n %.f fold loss:\" % n_fold, loss)\n",
        "print(\"모든 fold의 평균 loss: \", (float(loss[0]) + float(loss[1]) + float(loss[2]) + float(loss[3]) + float(loss[4])) / 5)\n",
        "\n",
        "print(\"\\n %.f fold FNR:\" % n_fold, FNR)\n",
        "print(\"모든 fold의 평균 FNR: \", (float(FNR[0]) + float(FNR[1]) + float(FNR[2]) + float(FNR[3]) + float(FNR[4])) / 5)\n",
        "\n",
        "print(\"\\n %.f fold FPR:\" % n_fold, FPR)\n",
        "print(\"모든 fold의 평균 FPR: \", (float(FPR[0]) + float(FPR[1]) + float(FPR[2]) + float(FPR[3]) + float(FPR[4])) / 5)\n",
        "\n",
        "print(\"\\n %.f fold auc:\" % n_fold, auc)\n",
        "print(\"모든 fold의 평균 auc: \", (float(auc[0]) + float(auc[1]) + float(auc[2]) + float(auc[3]) + float(auc[4])) / 5)"
      ],
      "metadata": {
        "id": "s0QvI--gXlbG"
      },
      "execution_count": null,
      "outputs": []
    },
    {
      "cell_type": "code",
      "source": [
        ""
      ],
      "metadata": {
        "id": "wg8PYhcCPten"
      },
      "execution_count": null,
      "outputs": []
    }
  ]
}