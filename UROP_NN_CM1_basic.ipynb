{
  "nbformat": 4,
  "nbformat_minor": 0,
  "metadata": {
    "colab": {
      "name": "UROP_NN_CM1_basic.ipynb",
      "provenance": [],
      "authorship_tag": "ABX9TyPe3fEJBBHN0ITRKieD581j",
      "include_colab_link": true
    },
    "kernelspec": {
      "name": "python3",
      "display_name": "Python 3"
    },
    "language_info": {
      "name": "python"
    }
  },
  "cells": [
    {
      "cell_type": "markdown",
      "metadata": {
        "id": "view-in-github",
        "colab_type": "text"
      },
      "source": [
        "<a href=\"https://colab.research.google.com/github/yeseul106/UROP_Software-Fault-Prediction/blob/main/UROP_NN_CM1_basic.ipynb\" target=\"_parent\"><img src=\"https://colab.research.google.com/assets/colab-badge.svg\" alt=\"Open In Colab\"/></a>"
      ]
    },
    {
      "cell_type": "code",
      "execution_count": 1,
      "metadata": {
        "id": "HmiAZ3iNa6Ux"
      },
      "outputs": [],
      "source": [
        "import numpy as np\n",
        "import pandas as pd"
      ]
    },
    {
      "cell_type": "code",
      "source": [
        "# 구글 드라이브 연결\n",
        "from google.colab import drive\n",
        "drive.mount('/content/drive')"
      ],
      "metadata": {
        "colab": {
          "base_uri": "https://localhost:8080/"
        },
        "id": "yU4mSMcYhCxy",
        "outputId": "f142b283-b044-4a77-958e-a5a5841404f4"
      },
      "execution_count": 2,
      "outputs": [
        {
          "output_type": "stream",
          "name": "stdout",
          "text": [
            "Mounted at /content/drive\n"
          ]
        }
      ]
    },
    {
      "cell_type": "code",
      "source": [
        "# csv 파일 읽어오기\n",
        "CM1 = pd.read_csv('/content/drive/MyDrive/UROP/Dataset/CM1.csv', encoding='cp949', header=None)\n",
        "print(CM1.shape)\n",
        "CM1.head(5)"
      ],
      "metadata": {
        "colab": {
          "base_uri": "https://localhost:8080/",
          "height": 225
        },
        "id": "h8Lrb_fLhGAl",
        "outputId": "4b63ef8e-86a9-4614-86b6-3fae847bcb33"
      },
      "execution_count": 10,
      "outputs": [
        {
          "output_type": "stream",
          "name": "stdout",
          "text": [
            "(498, 22)\n"
          ]
        },
        {
          "output_type": "execute_result",
          "data": {
            "text/html": [
              "\n",
              "  <div id=\"df-fcd79eb7-3543-4c84-b3fd-31519664e4fd\">\n",
              "    <div class=\"colab-df-container\">\n",
              "      <div>\n",
              "<style scoped>\n",
              "    .dataframe tbody tr th:only-of-type {\n",
              "        vertical-align: middle;\n",
              "    }\n",
              "\n",
              "    .dataframe tbody tr th {\n",
              "        vertical-align: top;\n",
              "    }\n",
              "\n",
              "    .dataframe thead th {\n",
              "        text-align: right;\n",
              "    }\n",
              "</style>\n",
              "<table border=\"1\" class=\"dataframe\">\n",
              "  <thead>\n",
              "    <tr style=\"text-align: right;\">\n",
              "      <th></th>\n",
              "      <th>0</th>\n",
              "      <th>1</th>\n",
              "      <th>2</th>\n",
              "      <th>3</th>\n",
              "      <th>4</th>\n",
              "      <th>5</th>\n",
              "      <th>6</th>\n",
              "      <th>7</th>\n",
              "      <th>8</th>\n",
              "      <th>9</th>\n",
              "      <th>10</th>\n",
              "      <th>11</th>\n",
              "      <th>12</th>\n",
              "      <th>13</th>\n",
              "      <th>14</th>\n",
              "      <th>15</th>\n",
              "      <th>16</th>\n",
              "      <th>17</th>\n",
              "      <th>18</th>\n",
              "      <th>19</th>\n",
              "      <th>20</th>\n",
              "      <th>21</th>\n",
              "    </tr>\n",
              "  </thead>\n",
              "  <tbody>\n",
              "    <tr>\n",
              "      <th>0</th>\n",
              "      <td>1.1</td>\n",
              "      <td>1.4</td>\n",
              "      <td>1.4</td>\n",
              "      <td>1.4</td>\n",
              "      <td>1.3</td>\n",
              "      <td>1.30</td>\n",
              "      <td>1.30</td>\n",
              "      <td>1.30</td>\n",
              "      <td>1.30</td>\n",
              "      <td>1.30</td>\n",
              "      <td>1.30</td>\n",
              "      <td>1.30</td>\n",
              "      <td>2</td>\n",
              "      <td>2</td>\n",
              "      <td>2</td>\n",
              "      <td>2</td>\n",
              "      <td>1.2</td>\n",
              "      <td>1.2</td>\n",
              "      <td>1.2</td>\n",
              "      <td>1.2</td>\n",
              "      <td>1.4</td>\n",
              "      <td>False</td>\n",
              "    </tr>\n",
              "    <tr>\n",
              "      <th>1</th>\n",
              "      <td>1.0</td>\n",
              "      <td>1.0</td>\n",
              "      <td>1.0</td>\n",
              "      <td>1.0</td>\n",
              "      <td>1.0</td>\n",
              "      <td>1.00</td>\n",
              "      <td>1.00</td>\n",
              "      <td>1.00</td>\n",
              "      <td>1.00</td>\n",
              "      <td>1.00</td>\n",
              "      <td>1.00</td>\n",
              "      <td>1.00</td>\n",
              "      <td>1</td>\n",
              "      <td>1</td>\n",
              "      <td>1</td>\n",
              "      <td>1</td>\n",
              "      <td>1.0</td>\n",
              "      <td>1.0</td>\n",
              "      <td>1.0</td>\n",
              "      <td>1.0</td>\n",
              "      <td>1.0</td>\n",
              "      <td>True</td>\n",
              "    </tr>\n",
              "    <tr>\n",
              "      <th>2</th>\n",
              "      <td>24.0</td>\n",
              "      <td>5.0</td>\n",
              "      <td>1.0</td>\n",
              "      <td>3.0</td>\n",
              "      <td>63.0</td>\n",
              "      <td>309.13</td>\n",
              "      <td>0.11</td>\n",
              "      <td>9.50</td>\n",
              "      <td>32.54</td>\n",
              "      <td>2936.77</td>\n",
              "      <td>0.10</td>\n",
              "      <td>163.15</td>\n",
              "      <td>1</td>\n",
              "      <td>0</td>\n",
              "      <td>6</td>\n",
              "      <td>0</td>\n",
              "      <td>15.0</td>\n",
              "      <td>15.0</td>\n",
              "      <td>44.0</td>\n",
              "      <td>19.0</td>\n",
              "      <td>9.0</td>\n",
              "      <td>False</td>\n",
              "    </tr>\n",
              "    <tr>\n",
              "      <th>3</th>\n",
              "      <td>20.0</td>\n",
              "      <td>4.0</td>\n",
              "      <td>4.0</td>\n",
              "      <td>2.0</td>\n",
              "      <td>47.0</td>\n",
              "      <td>215.49</td>\n",
              "      <td>0.06</td>\n",
              "      <td>16.00</td>\n",
              "      <td>13.47</td>\n",
              "      <td>3447.89</td>\n",
              "      <td>0.07</td>\n",
              "      <td>191.55</td>\n",
              "      <td>0</td>\n",
              "      <td>0</td>\n",
              "      <td>3</td>\n",
              "      <td>0</td>\n",
              "      <td>16.0</td>\n",
              "      <td>8.0</td>\n",
              "      <td>31.0</td>\n",
              "      <td>16.0</td>\n",
              "      <td>7.0</td>\n",
              "      <td>False</td>\n",
              "    </tr>\n",
              "    <tr>\n",
              "      <th>4</th>\n",
              "      <td>24.0</td>\n",
              "      <td>6.0</td>\n",
              "      <td>6.0</td>\n",
              "      <td>2.0</td>\n",
              "      <td>72.0</td>\n",
              "      <td>346.13</td>\n",
              "      <td>0.06</td>\n",
              "      <td>17.33</td>\n",
              "      <td>19.97</td>\n",
              "      <td>5999.58</td>\n",
              "      <td>0.12</td>\n",
              "      <td>333.31</td>\n",
              "      <td>0</td>\n",
              "      <td>0</td>\n",
              "      <td>3</td>\n",
              "      <td>0</td>\n",
              "      <td>16.0</td>\n",
              "      <td>12.0</td>\n",
              "      <td>46.0</td>\n",
              "      <td>26.0</td>\n",
              "      <td>11.0</td>\n",
              "      <td>False</td>\n",
              "    </tr>\n",
              "  </tbody>\n",
              "</table>\n",
              "</div>\n",
              "      <button class=\"colab-df-convert\" onclick=\"convertToInteractive('df-fcd79eb7-3543-4c84-b3fd-31519664e4fd')\"\n",
              "              title=\"Convert this dataframe to an interactive table.\"\n",
              "              style=\"display:none;\">\n",
              "        \n",
              "  <svg xmlns=\"http://www.w3.org/2000/svg\" height=\"24px\"viewBox=\"0 0 24 24\"\n",
              "       width=\"24px\">\n",
              "    <path d=\"M0 0h24v24H0V0z\" fill=\"none\"/>\n",
              "    <path d=\"M18.56 5.44l.94 2.06.94-2.06 2.06-.94-2.06-.94-.94-2.06-.94 2.06-2.06.94zm-11 1L8.5 8.5l.94-2.06 2.06-.94-2.06-.94L8.5 2.5l-.94 2.06-2.06.94zm10 10l.94 2.06.94-2.06 2.06-.94-2.06-.94-.94-2.06-.94 2.06-2.06.94z\"/><path d=\"M17.41 7.96l-1.37-1.37c-.4-.4-.92-.59-1.43-.59-.52 0-1.04.2-1.43.59L10.3 9.45l-7.72 7.72c-.78.78-.78 2.05 0 2.83L4 21.41c.39.39.9.59 1.41.59.51 0 1.02-.2 1.41-.59l7.78-7.78 2.81-2.81c.8-.78.8-2.07 0-2.86zM5.41 20L4 18.59l7.72-7.72 1.47 1.35L5.41 20z\"/>\n",
              "  </svg>\n",
              "      </button>\n",
              "      \n",
              "  <style>\n",
              "    .colab-df-container {\n",
              "      display:flex;\n",
              "      flex-wrap:wrap;\n",
              "      gap: 12px;\n",
              "    }\n",
              "\n",
              "    .colab-df-convert {\n",
              "      background-color: #E8F0FE;\n",
              "      border: none;\n",
              "      border-radius: 50%;\n",
              "      cursor: pointer;\n",
              "      display: none;\n",
              "      fill: #1967D2;\n",
              "      height: 32px;\n",
              "      padding: 0 0 0 0;\n",
              "      width: 32px;\n",
              "    }\n",
              "\n",
              "    .colab-df-convert:hover {\n",
              "      background-color: #E2EBFA;\n",
              "      box-shadow: 0px 1px 2px rgba(60, 64, 67, 0.3), 0px 1px 3px 1px rgba(60, 64, 67, 0.15);\n",
              "      fill: #174EA6;\n",
              "    }\n",
              "\n",
              "    [theme=dark] .colab-df-convert {\n",
              "      background-color: #3B4455;\n",
              "      fill: #D2E3FC;\n",
              "    }\n",
              "\n",
              "    [theme=dark] .colab-df-convert:hover {\n",
              "      background-color: #434B5C;\n",
              "      box-shadow: 0px 1px 3px 1px rgba(0, 0, 0, 0.15);\n",
              "      filter: drop-shadow(0px 1px 2px rgba(0, 0, 0, 0.3));\n",
              "      fill: #FFFFFF;\n",
              "    }\n",
              "  </style>\n",
              "\n",
              "      <script>\n",
              "        const buttonEl =\n",
              "          document.querySelector('#df-fcd79eb7-3543-4c84-b3fd-31519664e4fd button.colab-df-convert');\n",
              "        buttonEl.style.display =\n",
              "          google.colab.kernel.accessAllowed ? 'block' : 'none';\n",
              "\n",
              "        async function convertToInteractive(key) {\n",
              "          const element = document.querySelector('#df-fcd79eb7-3543-4c84-b3fd-31519664e4fd');\n",
              "          const dataTable =\n",
              "            await google.colab.kernel.invokeFunction('convertToInteractive',\n",
              "                                                     [key], {});\n",
              "          if (!dataTable) return;\n",
              "\n",
              "          const docLinkHtml = 'Like what you see? Visit the ' +\n",
              "            '<a target=\"_blank\" href=https://colab.research.google.com/notebooks/data_table.ipynb>data table notebook</a>'\n",
              "            + ' to learn more about interactive tables.';\n",
              "          element.innerHTML = '';\n",
              "          dataTable['output_type'] = 'display_data';\n",
              "          await google.colab.output.renderOutput(dataTable, element);\n",
              "          const docLink = document.createElement('div');\n",
              "          docLink.innerHTML = docLinkHtml;\n",
              "          element.appendChild(docLink);\n",
              "        }\n",
              "      </script>\n",
              "    </div>\n",
              "  </div>\n",
              "  "
            ],
            "text/plain": [
              "     0    1    2    3     4       5   ...    16    17    18    19    20     21\n",
              "0   1.1  1.4  1.4  1.4   1.3    1.30  ...   1.2   1.2   1.2   1.2   1.4  False\n",
              "1   1.0  1.0  1.0  1.0   1.0    1.00  ...   1.0   1.0   1.0   1.0   1.0   True\n",
              "2  24.0  5.0  1.0  3.0  63.0  309.13  ...  15.0  15.0  44.0  19.0   9.0  False\n",
              "3  20.0  4.0  4.0  2.0  47.0  215.49  ...  16.0   8.0  31.0  16.0   7.0  False\n",
              "4  24.0  6.0  6.0  2.0  72.0  346.13  ...  16.0  12.0  46.0  26.0  11.0  False\n",
              "\n",
              "[5 rows x 22 columns]"
            ]
          },
          "metadata": {},
          "execution_count": 10
        }
      ]
    },
    {
      "cell_type": "code",
      "source": [
        "# 입력 데이터\n",
        "input_data = CM1.loc[:,:20].to_numpy()\n",
        "print(\"input_data shape : \",input_data.shape)"
      ],
      "metadata": {
        "colab": {
          "base_uri": "https://localhost:8080/"
        },
        "id": "x660Y5BxhXXZ",
        "outputId": "98b6515f-3430-4c69-f7e0-b8065b2d0b53"
      },
      "execution_count": 11,
      "outputs": [
        {
          "output_type": "stream",
          "name": "stdout",
          "text": [
            "input_data shape :  (498, 21)\n"
          ]
        }
      ]
    },
    {
      "cell_type": "code",
      "source": [
        "input_data[0]"
      ],
      "metadata": {
        "colab": {
          "base_uri": "https://localhost:8080/"
        },
        "id": "owZo8m7piH0Z",
        "outputId": "d1e35d48-ef5e-472e-ba2a-e821d17c4a17"
      },
      "execution_count": 12,
      "outputs": [
        {
          "output_type": "execute_result",
          "data": {
            "text/plain": [
              "array([1.1, 1.4, 1.4, 1.4, 1.3, 1.3, 1.3, 1.3, 1.3, 1.3, 1.3, 1.3, 2. ,\n",
              "       2. , 2. , 2. , 1.2, 1.2, 1.2, 1.2, 1.4])"
            ]
          },
          "metadata": {},
          "execution_count": 12
        }
      ]
    },
    {
      "cell_type": "code",
      "source": [
        "# 정답 레이블\n",
        "y_label = CM1.loc[:,21].to_numpy()\n",
        "print(\"y_label shape : \",y_label.shape)"
      ],
      "metadata": {
        "colab": {
          "base_uri": "https://localhost:8080/"
        },
        "id": "IXF8wuc-iqCT",
        "outputId": "2a7954ca-49ee-4508-9b64-ed37008316da"
      },
      "execution_count": 13,
      "outputs": [
        {
          "output_type": "stream",
          "name": "stdout",
          "text": [
            "y_label shape :  (498,)\n"
          ]
        }
      ]
    },
    {
      "cell_type": "code",
      "source": [
        "y_label[0]"
      ],
      "metadata": {
        "colab": {
          "base_uri": "https://localhost:8080/"
        },
        "id": "BzMMT_Kwi9Ip",
        "outputId": "08eb1854-2e0c-4b15-f796-f000d5ccea8c"
      },
      "execution_count": 14,
      "outputs": [
        {
          "output_type": "execute_result",
          "data": {
            "text/plain": [
              "False"
            ]
          },
          "metadata": {},
          "execution_count": 14
        }
      ]
    },
    {
      "cell_type": "code",
      "source": [
        "# 레이블 벡터화 \n",
        "y_label = np.asarray(y_label).astype('float32')"
      ],
      "metadata": {
        "id": "qvYZcwGlqjgd"
      },
      "execution_count": 15,
      "outputs": []
    },
    {
      "cell_type": "code",
      "source": [
        "y_label.shape"
      ],
      "metadata": {
        "colab": {
          "base_uri": "https://localhost:8080/"
        },
        "id": "TEyFwaeVqqkM",
        "outputId": "30cf56b3-661e-4bd5-f459-891d55ccc997"
      },
      "execution_count": 16,
      "outputs": [
        {
          "output_type": "execute_result",
          "data": {
            "text/plain": [
              "(498,)"
            ]
          },
          "metadata": {},
          "execution_count": 16
        }
      ]
    },
    {
      "cell_type": "markdown",
      "source": [
        "# **정규화 (Normalization)**"
      ],
      "metadata": {
        "id": "-xBUb-q0oyB7"
      }
    },
    {
      "cell_type": "code",
      "source": [
        "from sklearn import preprocessing\n",
        "\n",
        "# 정규화 0-1로 하기\n",
        "data_normalizer = preprocessing.MinMaxScaler() # 데이터를 0~1 범위로 점철되게 하는 함수 call\n",
        "data_normalized = data_normalizer.fit_transform(input_data) # 데이터를 0~1 범위로 점철되게 함수 수행\n",
        "data_normalized.shape"
      ],
      "metadata": {
        "colab": {
          "base_uri": "https://localhost:8080/"
        },
        "id": "dJtCaACqovM7",
        "outputId": "0b2a3a88-e75c-40c7-9ed4-6182b65da440"
      },
      "execution_count": 17,
      "outputs": [
        {
          "output_type": "execute_result",
          "data": {
            "text/plain": [
              "(498, 21)"
            ]
          },
          "metadata": {},
          "execution_count": 17
        }
      ]
    },
    {
      "cell_type": "code",
      "source": [
        "data_normalized[0]"
      ],
      "metadata": {
        "colab": {
          "base_uri": "https://localhost:8080/"
        },
        "id": "g4LgveVFpT9W",
        "outputId": "6d6d0de0-093a-4b0d-b9a8-c8a6bc2f35e3"
      },
      "execution_count": 18,
      "outputs": [
        {
          "output_type": "execute_result",
          "data": {
            "text/plain": [
              "array([2.36966825e-04, 4.21052632e-03, 1.37931034e-02, 6.45161290e-03,\n",
              "       1.44648023e-04, 7.59156005e-05, 1.00000000e+00, 1.03363282e-02,\n",
              "       4.42658676e-03, 6.03615014e-07, 2.27670753e-01, 1.08650702e-05,\n",
              "       2.50000000e-02, 5.89970501e-03, 1.21951220e-02, 1.00000000e+00,\n",
              "       2.81690141e-03, 3.82165605e-03, 1.58730159e-04, 1.47420147e-03,\n",
              "       2.48447205e-03])"
            ]
          },
          "metadata": {},
          "execution_count": 18
        }
      ]
    },
    {
      "cell_type": "markdown",
      "source": [
        "# **TrainData와 TestData의 분리**"
      ],
      "metadata": {
        "id": "y2b_RmUNpvQE"
      }
    },
    {
      "cell_type": "code",
      "source": [
        "from sklearn.model_selection import train_test_split\n",
        "\n",
        "#학습셋과 테스트셋의 구분\n",
        "seed=0\n",
        "X_train, X_test, Y_train, Y_test = train_test_split(data_normalized,y_label, test_size =0.3, random_state = seed)\n",
        "\n",
        "print(\"X_train의 shape:\", X_train.shape)\n",
        "print(\"X_test shape:\", X_test.shape)\n",
        "print(\"Y_train shape:\", Y_train.shape)\n",
        "print(\"Y_test shape:\", Y_test.shape)"
      ],
      "metadata": {
        "colab": {
          "base_uri": "https://localhost:8080/"
        },
        "id": "LsRi50QCpWWJ",
        "outputId": "6ce3567a-409c-4a6c-a696-bc8d347b7d7a"
      },
      "execution_count": 19,
      "outputs": [
        {
          "output_type": "stream",
          "name": "stdout",
          "text": [
            "X_train의 shape: (348, 21)\n",
            "X_test shape: (150, 21)\n",
            "Y_train shape: (348,)\n",
            "Y_test shape: (150,)\n"
          ]
        }
      ]
    },
    {
      "cell_type": "markdown",
      "source": [
        "# **모델 설계**"
      ],
      "metadata": {
        "id": "SRsa_y2YrOZN"
      }
    },
    {
      "cell_type": "markdown",
      "source": [
        "# **실험 2**\n",
        "- epoch : 200\n",
        "- optimizer : adam 함수"
      ],
      "metadata": {
        "id": "OxH7xJ_lIKvn"
      }
    },
    {
      "cell_type": "code",
      "source": [
        "from keras import models\n",
        "from keras import layers\n",
        "\n",
        "model = models.Sequential()\n",
        "model.add(layers.Dense(40, activation='relu', input_shape=(21,)))\n",
        "model.add(layers.Dropout(0.5))\n",
        "model.add(layers.Dense(50, activation='relu'))\n",
        "model.add(layers.Dropout(0.5))\n",
        "model.add(layers.Dense(50, activation='relu'))\n",
        "model.add(layers.Dropout(0.5))\n",
        "model.add(layers.Dense(60, activation='relu'))\n",
        "model.add(layers.Dropout(0.5))\n",
        "model.add(layers.Dense(70, activation='relu'))\n",
        "model.add(layers.Dropout(0.5))\n",
        "model.add(layers.Dense(1, activation='sigmoid')) "
      ],
      "metadata": {
        "id": "cqSlzBDbHqen"
      },
      "execution_count": 34,
      "outputs": []
    },
    {
      "cell_type": "code",
      "source": [
        "model.compile(optimizer='adam',\n",
        "             loss='binary_crossentropy',\n",
        "             metrics=['AUC'])"
      ],
      "metadata": {
        "id": "c5y8PgqZHrQf"
      },
      "execution_count": 35,
      "outputs": []
    },
    {
      "cell_type": "code",
      "source": [
        "hist = model.fit(X_train, Y_train, validation_data=(X_test, Y_test), epochs=200, batch_size=7, verbose=1)"
      ],
      "metadata": {
        "colab": {
          "base_uri": "https://localhost:8080/"
        },
        "id": "qO1BueeEHvwE",
        "outputId": "0fb8e84c-2e09-4fa6-c2b7-b8e192764a4a"
      },
      "execution_count": 36,
      "outputs": [
        {
          "output_type": "stream",
          "name": "stdout",
          "text": [
            "Epoch 1/200\n",
            "50/50 [==============================] - 2s 11ms/step - loss: 0.5254 - auc: 0.5284 - val_loss: 0.3993 - val_auc: 0.2521\n",
            "Epoch 2/200\n",
            "50/50 [==============================] - 0s 4ms/step - loss: 0.3987 - auc: 0.4178 - val_loss: 0.3605 - val_auc: 0.3323\n",
            "Epoch 3/200\n",
            "50/50 [==============================] - 0s 4ms/step - loss: 0.3958 - auc: 0.3934 - val_loss: 0.3402 - val_auc: 0.4980\n",
            "Epoch 4/200\n",
            "50/50 [==============================] - 0s 4ms/step - loss: 0.3681 - auc: 0.5096 - val_loss: 0.3262 - val_auc: 0.6195\n",
            "Epoch 5/200\n",
            "50/50 [==============================] - 0s 3ms/step - loss: 0.3406 - auc: 0.5487 - val_loss: 0.3205 - val_auc: 0.6607\n",
            "Epoch 6/200\n",
            "50/50 [==============================] - 0s 4ms/step - loss: 0.3250 - auc: 0.6079 - val_loss: 0.3177 - val_auc: 0.6756\n",
            "Epoch 7/200\n",
            "50/50 [==============================] - 0s 4ms/step - loss: 0.3190 - auc: 0.6229 - val_loss: 0.3198 - val_auc: 0.6921\n",
            "Epoch 8/200\n",
            "50/50 [==============================] - 0s 4ms/step - loss: 0.2922 - auc: 0.7235 - val_loss: 0.3159 - val_auc: 0.6825\n",
            "Epoch 9/200\n",
            "50/50 [==============================] - 0s 4ms/step - loss: 0.3144 - auc: 0.6377 - val_loss: 0.3153 - val_auc: 0.6938\n",
            "Epoch 10/200\n",
            "50/50 [==============================] - 0s 4ms/step - loss: 0.3272 - auc: 0.6233 - val_loss: 0.3171 - val_auc: 0.7040\n",
            "Epoch 11/200\n",
            "50/50 [==============================] - 0s 4ms/step - loss: 0.2953 - auc: 0.7174 - val_loss: 0.3170 - val_auc: 0.7111\n",
            "Epoch 12/200\n",
            "50/50 [==============================] - 0s 5ms/step - loss: 0.3248 - auc: 0.6515 - val_loss: 0.3185 - val_auc: 0.7027\n",
            "Epoch 13/200\n",
            "50/50 [==============================] - 0s 4ms/step - loss: 0.3109 - auc: 0.6496 - val_loss: 0.3174 - val_auc: 0.6973\n",
            "Epoch 14/200\n",
            "50/50 [==============================] - 0s 3ms/step - loss: 0.3118 - auc: 0.6695 - val_loss: 0.3166 - val_auc: 0.6941\n",
            "Epoch 15/200\n",
            "50/50 [==============================] - 0s 4ms/step - loss: 0.3257 - auc: 0.6623 - val_loss: 0.3162 - val_auc: 0.7067\n",
            "Epoch 16/200\n",
            "50/50 [==============================] - 0s 4ms/step - loss: 0.3092 - auc: 0.6546 - val_loss: 0.3162 - val_auc: 0.7062\n",
            "Epoch 17/200\n",
            "50/50 [==============================] - 0s 4ms/step - loss: 0.3007 - auc: 0.6946 - val_loss: 0.3159 - val_auc: 0.7123\n",
            "Epoch 18/200\n",
            "50/50 [==============================] - 0s 4ms/step - loss: 0.3077 - auc: 0.6773 - val_loss: 0.3182 - val_auc: 0.7104\n",
            "Epoch 19/200\n",
            "50/50 [==============================] - 0s 4ms/step - loss: 0.3005 - auc: 0.7362 - val_loss: 0.3147 - val_auc: 0.7146\n",
            "Epoch 20/200\n",
            "50/50 [==============================] - 0s 4ms/step - loss: 0.3005 - auc: 0.6995 - val_loss: 0.3171 - val_auc: 0.7111\n",
            "Epoch 21/200\n",
            "50/50 [==============================] - 0s 4ms/step - loss: 0.3297 - auc: 0.6516 - val_loss: 0.3148 - val_auc: 0.7178\n",
            "Epoch 22/200\n",
            "50/50 [==============================] - 0s 4ms/step - loss: 0.2931 - auc: 0.7191 - val_loss: 0.3145 - val_auc: 0.7148\n",
            "Epoch 23/200\n",
            "50/50 [==============================] - 0s 4ms/step - loss: 0.3090 - auc: 0.6674 - val_loss: 0.3145 - val_auc: 0.7153\n",
            "Epoch 24/200\n",
            "50/50 [==============================] - 0s 3ms/step - loss: 0.3108 - auc: 0.6724 - val_loss: 0.3153 - val_auc: 0.7143\n",
            "Epoch 25/200\n",
            "50/50 [==============================] - 0s 4ms/step - loss: 0.2966 - auc: 0.7271 - val_loss: 0.3141 - val_auc: 0.7319\n",
            "Epoch 26/200\n",
            "50/50 [==============================] - 0s 4ms/step - loss: 0.3045 - auc: 0.6735 - val_loss: 0.3160 - val_auc: 0.7316\n",
            "Epoch 27/200\n",
            "50/50 [==============================] - 0s 4ms/step - loss: 0.2847 - auc: 0.7450 - val_loss: 0.3228 - val_auc: 0.7331\n",
            "Epoch 28/200\n",
            "50/50 [==============================] - 0s 4ms/step - loss: 0.2996 - auc: 0.7062 - val_loss: 0.3210 - val_auc: 0.7259\n",
            "Epoch 29/200\n",
            "50/50 [==============================] - 0s 4ms/step - loss: 0.2995 - auc: 0.7115 - val_loss: 0.3193 - val_auc: 0.7393\n",
            "Epoch 30/200\n",
            "50/50 [==============================] - 0s 4ms/step - loss: 0.3351 - auc: 0.6809 - val_loss: 0.3216 - val_auc: 0.7390\n",
            "Epoch 31/200\n",
            "50/50 [==============================] - 0s 4ms/step - loss: 0.2951 - auc: 0.7124 - val_loss: 0.3149 - val_auc: 0.7412\n",
            "Epoch 32/200\n",
            "50/50 [==============================] - 0s 4ms/step - loss: 0.2847 - auc: 0.7492 - val_loss: 0.3161 - val_auc: 0.7526\n",
            "Epoch 33/200\n",
            "50/50 [==============================] - 0s 4ms/step - loss: 0.2975 - auc: 0.7189 - val_loss: 0.3189 - val_auc: 0.7385\n",
            "Epoch 34/200\n",
            "50/50 [==============================] - 0s 4ms/step - loss: 0.3171 - auc: 0.6762 - val_loss: 0.3168 - val_auc: 0.7422\n",
            "Epoch 35/200\n",
            "50/50 [==============================] - 0s 4ms/step - loss: 0.3006 - auc: 0.7037 - val_loss: 0.3151 - val_auc: 0.7533\n",
            "Epoch 36/200\n",
            "50/50 [==============================] - 0s 4ms/step - loss: 0.3019 - auc: 0.6892 - val_loss: 0.3194 - val_auc: 0.7380\n",
            "Epoch 37/200\n",
            "50/50 [==============================] - 0s 5ms/step - loss: 0.2943 - auc: 0.7109 - val_loss: 0.3190 - val_auc: 0.7494\n",
            "Epoch 38/200\n",
            "50/50 [==============================] - 0s 4ms/step - loss: 0.2836 - auc: 0.7503 - val_loss: 0.3228 - val_auc: 0.7405\n",
            "Epoch 39/200\n",
            "50/50 [==============================] - 0s 4ms/step - loss: 0.2781 - auc: 0.7713 - val_loss: 0.3219 - val_auc: 0.7454\n",
            "Epoch 40/200\n",
            "50/50 [==============================] - 0s 5ms/step - loss: 0.2802 - auc: 0.7658 - val_loss: 0.3210 - val_auc: 0.7578\n",
            "Epoch 41/200\n",
            "50/50 [==============================] - 0s 4ms/step - loss: 0.3149 - auc: 0.7185 - val_loss: 0.3230 - val_auc: 0.7432\n",
            "Epoch 42/200\n",
            "50/50 [==============================] - 0s 4ms/step - loss: 0.2948 - auc: 0.7365 - val_loss: 0.3163 - val_auc: 0.7568\n",
            "Epoch 43/200\n",
            "50/50 [==============================] - 0s 3ms/step - loss: 0.2820 - auc: 0.7674 - val_loss: 0.3269 - val_auc: 0.7578\n",
            "Epoch 44/200\n",
            "50/50 [==============================] - 0s 3ms/step - loss: 0.2717 - auc: 0.7790 - val_loss: 0.3228 - val_auc: 0.7622\n",
            "Epoch 45/200\n",
            "50/50 [==============================] - 0s 3ms/step - loss: 0.2946 - auc: 0.7311 - val_loss: 0.3170 - val_auc: 0.7840\n",
            "Epoch 46/200\n",
            "50/50 [==============================] - 0s 4ms/step - loss: 0.2687 - auc: 0.7909 - val_loss: 0.3199 - val_auc: 0.7822\n",
            "Epoch 47/200\n",
            "50/50 [==============================] - 0s 4ms/step - loss: 0.2969 - auc: 0.7309 - val_loss: 0.3261 - val_auc: 0.7679\n",
            "Epoch 48/200\n",
            "50/50 [==============================] - 0s 4ms/step - loss: 0.3120 - auc: 0.6959 - val_loss: 0.3165 - val_auc: 0.7832\n",
            "Epoch 49/200\n",
            "50/50 [==============================] - 0s 4ms/step - loss: 0.2824 - auc: 0.7596 - val_loss: 0.3149 - val_auc: 0.7928\n",
            "Epoch 50/200\n",
            "50/50 [==============================] - 0s 4ms/step - loss: 0.2717 - auc: 0.7907 - val_loss: 0.3176 - val_auc: 0.7983\n",
            "Epoch 51/200\n",
            "50/50 [==============================] - 0s 4ms/step - loss: 0.2840 - auc: 0.7735 - val_loss: 0.3168 - val_auc: 0.8077\n",
            "Epoch 52/200\n",
            "50/50 [==============================] - 0s 4ms/step - loss: 0.2692 - auc: 0.7931 - val_loss: 0.3260 - val_auc: 0.8037\n",
            "Epoch 53/200\n",
            "50/50 [==============================] - 0s 4ms/step - loss: 0.2963 - auc: 0.7446 - val_loss: 0.3203 - val_auc: 0.7980\n",
            "Epoch 54/200\n",
            "50/50 [==============================] - 0s 3ms/step - loss: 0.2653 - auc: 0.8053 - val_loss: 0.3134 - val_auc: 0.8123\n",
            "Epoch 55/200\n",
            "50/50 [==============================] - 0s 4ms/step - loss: 0.2813 - auc: 0.7606 - val_loss: 0.3201 - val_auc: 0.7926\n",
            "Epoch 56/200\n",
            "50/50 [==============================] - 0s 4ms/step - loss: 0.2935 - auc: 0.7481 - val_loss: 0.3132 - val_auc: 0.8047\n",
            "Epoch 57/200\n",
            "50/50 [==============================] - 0s 4ms/step - loss: 0.2831 - auc: 0.7974 - val_loss: 0.3064 - val_auc: 0.8272\n",
            "Epoch 58/200\n",
            "50/50 [==============================] - 0s 4ms/step - loss: 0.3120 - auc: 0.7261 - val_loss: 0.3186 - val_auc: 0.8207\n",
            "Epoch 59/200\n",
            "50/50 [==============================] - 0s 4ms/step - loss: 0.2860 - auc: 0.7540 - val_loss: 0.3129 - val_auc: 0.8153\n",
            "Epoch 60/200\n",
            "50/50 [==============================] - 0s 4ms/step - loss: 0.2702 - auc: 0.7822 - val_loss: 0.3259 - val_auc: 0.7978\n",
            "Epoch 61/200\n",
            "50/50 [==============================] - 0s 4ms/step - loss: 0.2793 - auc: 0.7717 - val_loss: 0.3176 - val_auc: 0.8002\n",
            "Epoch 62/200\n",
            "50/50 [==============================] - 0s 4ms/step - loss: 0.2887 - auc: 0.7609 - val_loss: 0.3231 - val_auc: 0.8032\n",
            "Epoch 63/200\n",
            "50/50 [==============================] - 0s 4ms/step - loss: 0.2752 - auc: 0.7848 - val_loss: 0.3180 - val_auc: 0.8136\n",
            "Epoch 64/200\n",
            "50/50 [==============================] - 0s 4ms/step - loss: 0.2935 - auc: 0.7604 - val_loss: 0.3147 - val_auc: 0.8193\n",
            "Epoch 65/200\n",
            "50/50 [==============================] - 0s 4ms/step - loss: 0.2657 - auc: 0.8052 - val_loss: 0.3185 - val_auc: 0.8091\n",
            "Epoch 66/200\n",
            "50/50 [==============================] - 0s 4ms/step - loss: 0.2805 - auc: 0.7769 - val_loss: 0.3120 - val_auc: 0.8294\n",
            "Epoch 67/200\n",
            "50/50 [==============================] - 0s 4ms/step - loss: 0.2786 - auc: 0.7636 - val_loss: 0.3163 - val_auc: 0.8242\n",
            "Epoch 68/200\n",
            "50/50 [==============================] - 0s 3ms/step - loss: 0.2797 - auc: 0.7966 - val_loss: 0.3136 - val_auc: 0.8198\n",
            "Epoch 69/200\n",
            "50/50 [==============================] - 0s 5ms/step - loss: 0.3082 - auc: 0.7341 - val_loss: 0.3067 - val_auc: 0.8267\n",
            "Epoch 70/200\n",
            "50/50 [==============================] - 0s 4ms/step - loss: 0.2725 - auc: 0.7800 - val_loss: 0.3164 - val_auc: 0.8200\n",
            "Epoch 71/200\n",
            "50/50 [==============================] - 0s 4ms/step - loss: 0.2828 - auc: 0.7685 - val_loss: 0.3095 - val_auc: 0.8281\n",
            "Epoch 72/200\n",
            "50/50 [==============================] - 0s 4ms/step - loss: 0.2764 - auc: 0.7738 - val_loss: 0.3180 - val_auc: 0.8227\n",
            "Epoch 73/200\n",
            "50/50 [==============================] - 0s 3ms/step - loss: 0.2675 - auc: 0.7946 - val_loss: 0.3161 - val_auc: 0.8331\n",
            "Epoch 74/200\n",
            "50/50 [==============================] - 0s 4ms/step - loss: 0.2724 - auc: 0.7930 - val_loss: 0.3241 - val_auc: 0.8207\n",
            "Epoch 75/200\n",
            "50/50 [==============================] - 0s 3ms/step - loss: 0.2751 - auc: 0.7882 - val_loss: 0.3186 - val_auc: 0.8274\n",
            "Epoch 76/200\n",
            "50/50 [==============================] - 0s 4ms/step - loss: 0.2887 - auc: 0.7557 - val_loss: 0.3154 - val_auc: 0.8286\n",
            "Epoch 77/200\n",
            "50/50 [==============================] - 0s 4ms/step - loss: 0.2783 - auc: 0.7815 - val_loss: 0.3171 - val_auc: 0.8299\n",
            "Epoch 78/200\n",
            "50/50 [==============================] - 0s 4ms/step - loss: 0.2747 - auc: 0.7715 - val_loss: 0.3242 - val_auc: 0.8188\n",
            "Epoch 79/200\n",
            "50/50 [==============================] - 0s 4ms/step - loss: 0.2592 - auc: 0.8268 - val_loss: 0.3249 - val_auc: 0.8328\n",
            "Epoch 80/200\n",
            "50/50 [==============================] - 0s 4ms/step - loss: 0.2761 - auc: 0.7811 - val_loss: 0.3187 - val_auc: 0.8257\n",
            "Epoch 81/200\n",
            "50/50 [==============================] - 0s 4ms/step - loss: 0.2761 - auc: 0.7821 - val_loss: 0.3247 - val_auc: 0.8217\n",
            "Epoch 82/200\n",
            "50/50 [==============================] - 0s 4ms/step - loss: 0.2544 - auc: 0.8351 - val_loss: 0.3264 - val_auc: 0.8281\n",
            "Epoch 83/200\n",
            "50/50 [==============================] - 0s 4ms/step - loss: 0.2639 - auc: 0.8040 - val_loss: 0.3273 - val_auc: 0.8373\n",
            "Epoch 84/200\n",
            "50/50 [==============================] - 0s 4ms/step - loss: 0.2702 - auc: 0.7880 - val_loss: 0.3287 - val_auc: 0.8469\n",
            "Epoch 85/200\n",
            "50/50 [==============================] - 0s 4ms/step - loss: 0.2697 - auc: 0.8002 - val_loss: 0.3215 - val_auc: 0.8536\n",
            "Epoch 86/200\n",
            "50/50 [==============================] - 0s 4ms/step - loss: 0.2678 - auc: 0.7892 - val_loss: 0.3356 - val_auc: 0.8351\n",
            "Epoch 87/200\n",
            "50/50 [==============================] - 0s 4ms/step - loss: 0.2655 - auc: 0.8008 - val_loss: 0.3451 - val_auc: 0.8296\n",
            "Epoch 88/200\n",
            "50/50 [==============================] - 0s 4ms/step - loss: 0.2783 - auc: 0.8082 - val_loss: 0.3410 - val_auc: 0.8328\n",
            "Epoch 89/200\n",
            "50/50 [==============================] - 0s 5ms/step - loss: 0.2801 - auc: 0.7835 - val_loss: 0.3290 - val_auc: 0.8341\n",
            "Epoch 90/200\n",
            "50/50 [==============================] - 0s 4ms/step - loss: 0.2532 - auc: 0.8280 - val_loss: 0.3283 - val_auc: 0.8314\n",
            "Epoch 91/200\n",
            "50/50 [==============================] - 0s 4ms/step - loss: 0.2489 - auc: 0.8323 - val_loss: 0.3413 - val_auc: 0.8286\n",
            "Epoch 92/200\n",
            "50/50 [==============================] - 0s 5ms/step - loss: 0.2838 - auc: 0.7641 - val_loss: 0.3499 - val_auc: 0.8202\n",
            "Epoch 93/200\n",
            "50/50 [==============================] - 0s 5ms/step - loss: 0.2863 - auc: 0.7538 - val_loss: 0.3455 - val_auc: 0.8235\n",
            "Epoch 94/200\n",
            "50/50 [==============================] - 0s 4ms/step - loss: 0.2683 - auc: 0.8017 - val_loss: 0.3407 - val_auc: 0.8227\n",
            "Epoch 95/200\n",
            "50/50 [==============================] - 0s 4ms/step - loss: 0.2688 - auc: 0.7855 - val_loss: 0.3480 - val_auc: 0.8235\n",
            "Epoch 96/200\n",
            "50/50 [==============================] - 0s 4ms/step - loss: 0.2471 - auc: 0.8388 - val_loss: 0.3613 - val_auc: 0.8240\n",
            "Epoch 97/200\n",
            "50/50 [==============================] - 0s 4ms/step - loss: 0.2669 - auc: 0.8136 - val_loss: 0.3604 - val_auc: 0.8227\n",
            "Epoch 98/200\n",
            "50/50 [==============================] - 0s 4ms/step - loss: 0.2789 - auc: 0.7781 - val_loss: 0.3438 - val_auc: 0.8235\n",
            "Epoch 99/200\n",
            "50/50 [==============================] - 0s 4ms/step - loss: 0.2646 - auc: 0.8039 - val_loss: 0.3519 - val_auc: 0.8232\n",
            "Epoch 100/200\n",
            "50/50 [==============================] - 0s 4ms/step - loss: 0.2821 - auc: 0.7826 - val_loss: 0.3464 - val_auc: 0.8336\n",
            "Epoch 101/200\n",
            "50/50 [==============================] - 0s 5ms/step - loss: 0.2580 - auc: 0.8196 - val_loss: 0.3479 - val_auc: 0.8405\n",
            "Epoch 102/200\n",
            "50/50 [==============================] - 0s 4ms/step - loss: 0.2604 - auc: 0.8204 - val_loss: 0.3512 - val_auc: 0.8412\n",
            "Epoch 103/200\n",
            "50/50 [==============================] - 0s 4ms/step - loss: 0.2565 - auc: 0.8269 - val_loss: 0.3577 - val_auc: 0.8323\n",
            "Epoch 104/200\n",
            "50/50 [==============================] - 0s 5ms/step - loss: 0.2832 - auc: 0.7630 - val_loss: 0.3437 - val_auc: 0.8390\n",
            "Epoch 105/200\n",
            "50/50 [==============================] - 0s 4ms/step - loss: 0.2488 - auc: 0.8425 - val_loss: 0.3792 - val_auc: 0.8395\n",
            "Epoch 106/200\n",
            "50/50 [==============================] - 0s 4ms/step - loss: 0.2456 - auc: 0.8469 - val_loss: 0.3600 - val_auc: 0.8368\n",
            "Epoch 107/200\n",
            "50/50 [==============================] - 0s 3ms/step - loss: 0.2622 - auc: 0.8208 - val_loss: 0.3689 - val_auc: 0.8346\n",
            "Epoch 108/200\n",
            "50/50 [==============================] - 0s 4ms/step - loss: 0.2513 - auc: 0.8308 - val_loss: 0.3797 - val_auc: 0.8252\n",
            "Epoch 109/200\n",
            "50/50 [==============================] - 0s 4ms/step - loss: 0.2663 - auc: 0.8005 - val_loss: 0.3663 - val_auc: 0.8230\n",
            "Epoch 110/200\n",
            "50/50 [==============================] - 0s 4ms/step - loss: 0.2682 - auc: 0.8005 - val_loss: 0.3736 - val_auc: 0.8198\n",
            "Epoch 111/200\n",
            "50/50 [==============================] - 0s 4ms/step - loss: 0.2549 - auc: 0.8339 - val_loss: 0.3735 - val_auc: 0.8244\n",
            "Epoch 112/200\n",
            "50/50 [==============================] - 0s 4ms/step - loss: 0.2496 - auc: 0.8390 - val_loss: 0.3954 - val_auc: 0.8257\n",
            "Epoch 113/200\n",
            "50/50 [==============================] - 0s 4ms/step - loss: 0.2577 - auc: 0.8192 - val_loss: 0.3840 - val_auc: 0.8304\n",
            "Epoch 114/200\n",
            "50/50 [==============================] - 0s 4ms/step - loss: 0.2542 - auc: 0.8316 - val_loss: 0.3845 - val_auc: 0.8160\n",
            "Epoch 115/200\n",
            "50/50 [==============================] - 0s 4ms/step - loss: 0.2599 - auc: 0.8450 - val_loss: 0.3820 - val_auc: 0.8230\n",
            "Epoch 116/200\n",
            "50/50 [==============================] - 0s 4ms/step - loss: 0.2702 - auc: 0.8033 - val_loss: 0.3720 - val_auc: 0.8316\n",
            "Epoch 117/200\n",
            "50/50 [==============================] - 0s 4ms/step - loss: 0.2769 - auc: 0.8178 - val_loss: 0.3752 - val_auc: 0.8195\n",
            "Epoch 118/200\n",
            "50/50 [==============================] - 0s 4ms/step - loss: 0.2738 - auc: 0.7994 - val_loss: 0.3762 - val_auc: 0.8232\n",
            "Epoch 119/200\n",
            "50/50 [==============================] - 0s 4ms/step - loss: 0.2631 - auc: 0.8055 - val_loss: 0.3692 - val_auc: 0.8252\n",
            "Epoch 120/200\n",
            "50/50 [==============================] - 0s 4ms/step - loss: 0.2559 - auc: 0.8253 - val_loss: 0.3839 - val_auc: 0.8363\n",
            "Epoch 121/200\n",
            "50/50 [==============================] - 0s 4ms/step - loss: 0.2510 - auc: 0.8337 - val_loss: 0.3859 - val_auc: 0.8351\n",
            "Epoch 122/200\n",
            "50/50 [==============================] - 0s 4ms/step - loss: 0.2618 - auc: 0.8147 - val_loss: 0.3859 - val_auc: 0.8296\n",
            "Epoch 123/200\n",
            "50/50 [==============================] - 0s 4ms/step - loss: 0.2567 - auc: 0.8175 - val_loss: 0.3735 - val_auc: 0.8420\n",
            "Epoch 124/200\n",
            "50/50 [==============================] - 0s 4ms/step - loss: 0.2425 - auc: 0.8516 - val_loss: 0.3878 - val_auc: 0.8491\n",
            "Epoch 125/200\n",
            "50/50 [==============================] - 0s 4ms/step - loss: 0.2362 - auc: 0.8643 - val_loss: 0.3918 - val_auc: 0.8370\n",
            "Epoch 126/200\n",
            "50/50 [==============================] - 0s 4ms/step - loss: 0.2375 - auc: 0.8581 - val_loss: 0.4062 - val_auc: 0.8457\n",
            "Epoch 127/200\n",
            "50/50 [==============================] - 0s 4ms/step - loss: 0.2521 - auc: 0.8403 - val_loss: 0.3784 - val_auc: 0.8373\n",
            "Epoch 128/200\n",
            "50/50 [==============================] - 0s 4ms/step - loss: 0.2461 - auc: 0.8390 - val_loss: 0.3856 - val_auc: 0.8442\n",
            "Epoch 129/200\n",
            "50/50 [==============================] - 0s 4ms/step - loss: 0.2589 - auc: 0.8237 - val_loss: 0.3797 - val_auc: 0.8519\n",
            "Epoch 130/200\n",
            "50/50 [==============================] - 0s 4ms/step - loss: 0.2502 - auc: 0.8429 - val_loss: 0.3879 - val_auc: 0.8595\n",
            "Epoch 131/200\n",
            "50/50 [==============================] - 0s 4ms/step - loss: 0.2490 - auc: 0.8394 - val_loss: 0.3799 - val_auc: 0.8568\n",
            "Epoch 132/200\n",
            "50/50 [==============================] - 0s 4ms/step - loss: 0.2434 - auc: 0.8442 - val_loss: 0.4016 - val_auc: 0.8509\n",
            "Epoch 133/200\n",
            "50/50 [==============================] - 0s 3ms/step - loss: 0.2601 - auc: 0.8405 - val_loss: 0.3951 - val_auc: 0.8521\n",
            "Epoch 134/200\n",
            "50/50 [==============================] - 0s 4ms/step - loss: 0.2476 - auc: 0.8410 - val_loss: 0.3994 - val_auc: 0.8358\n",
            "Epoch 135/200\n",
            "50/50 [==============================] - 0s 4ms/step - loss: 0.2660 - auc: 0.8514 - val_loss: 0.3906 - val_auc: 0.8328\n",
            "Epoch 136/200\n",
            "50/50 [==============================] - 0s 4ms/step - loss: 0.2442 - auc: 0.8491 - val_loss: 0.3906 - val_auc: 0.8294\n",
            "Epoch 137/200\n",
            "50/50 [==============================] - 0s 4ms/step - loss: 0.2445 - auc: 0.8406 - val_loss: 0.3937 - val_auc: 0.8388\n",
            "Epoch 138/200\n",
            "50/50 [==============================] - 0s 5ms/step - loss: 0.2604 - auc: 0.8197 - val_loss: 0.4065 - val_auc: 0.8558\n",
            "Epoch 139/200\n",
            "50/50 [==============================] - 0s 4ms/step - loss: 0.2422 - auc: 0.8417 - val_loss: 0.4012 - val_auc: 0.8459\n",
            "Epoch 140/200\n",
            "50/50 [==============================] - 0s 4ms/step - loss: 0.2478 - auc: 0.8428 - val_loss: 0.4233 - val_auc: 0.8457\n",
            "Epoch 141/200\n",
            "50/50 [==============================] - 0s 5ms/step - loss: 0.2485 - auc: 0.8351 - val_loss: 0.4163 - val_auc: 0.8420\n",
            "Epoch 142/200\n",
            "50/50 [==============================] - 0s 4ms/step - loss: 0.2376 - auc: 0.8551 - val_loss: 0.4208 - val_auc: 0.8323\n",
            "Epoch 143/200\n",
            "50/50 [==============================] - 0s 3ms/step - loss: 0.2378 - auc: 0.8536 - val_loss: 0.4302 - val_auc: 0.8252\n",
            "Epoch 144/200\n",
            "50/50 [==============================] - 0s 4ms/step - loss: 0.2428 - auc: 0.8509 - val_loss: 0.4680 - val_auc: 0.8269\n",
            "Epoch 145/200\n",
            "50/50 [==============================] - 0s 4ms/step - loss: 0.2530 - auc: 0.8517 - val_loss: 0.4700 - val_auc: 0.8272\n",
            "Epoch 146/200\n",
            "50/50 [==============================] - 0s 4ms/step - loss: 0.2602 - auc: 0.8308 - val_loss: 0.4215 - val_auc: 0.8412\n",
            "Epoch 147/200\n",
            "50/50 [==============================] - 0s 4ms/step - loss: 0.2649 - auc: 0.8209 - val_loss: 0.4261 - val_auc: 0.8437\n",
            "Epoch 148/200\n",
            "50/50 [==============================] - 0s 4ms/step - loss: 0.2343 - auc: 0.8658 - val_loss: 0.4388 - val_auc: 0.8331\n",
            "Epoch 149/200\n",
            "50/50 [==============================] - 0s 4ms/step - loss: 0.2389 - auc: 0.8506 - val_loss: 0.4631 - val_auc: 0.8378\n",
            "Epoch 150/200\n",
            "50/50 [==============================] - 0s 4ms/step - loss: 0.2385 - auc: 0.8587 - val_loss: 0.4680 - val_auc: 0.8227\n",
            "Epoch 151/200\n",
            "50/50 [==============================] - 0s 4ms/step - loss: 0.2298 - auc: 0.8705 - val_loss: 0.4639 - val_auc: 0.8259\n",
            "Epoch 152/200\n",
            "50/50 [==============================] - 0s 4ms/step - loss: 0.2496 - auc: 0.8432 - val_loss: 0.4565 - val_auc: 0.8380\n",
            "Epoch 153/200\n",
            "50/50 [==============================] - 0s 4ms/step - loss: 0.2298 - auc: 0.8706 - val_loss: 0.4485 - val_auc: 0.8417\n",
            "Epoch 154/200\n",
            "50/50 [==============================] - 0s 4ms/step - loss: 0.2235 - auc: 0.8886 - val_loss: 0.4684 - val_auc: 0.8284\n",
            "Epoch 155/200\n",
            "50/50 [==============================] - 0s 4ms/step - loss: 0.2502 - auc: 0.8374 - val_loss: 0.4612 - val_auc: 0.8207\n",
            "Epoch 156/200\n",
            "50/50 [==============================] - 0s 4ms/step - loss: 0.2248 - auc: 0.8777 - val_loss: 0.4508 - val_auc: 0.8311\n",
            "Epoch 157/200\n",
            "50/50 [==============================] - 0s 4ms/step - loss: 0.2314 - auc: 0.8780 - val_loss: 0.4932 - val_auc: 0.8165\n",
            "Epoch 158/200\n",
            "50/50 [==============================] - 0s 5ms/step - loss: 0.2456 - auc: 0.8504 - val_loss: 0.5087 - val_auc: 0.8193\n",
            "Epoch 159/200\n",
            "50/50 [==============================] - 0s 4ms/step - loss: 0.2321 - auc: 0.8743 - val_loss: 0.4604 - val_auc: 0.8202\n",
            "Epoch 160/200\n",
            "50/50 [==============================] - 0s 4ms/step - loss: 0.2220 - auc: 0.8860 - val_loss: 0.4623 - val_auc: 0.8081\n",
            "Epoch 161/200\n",
            "50/50 [==============================] - 0s 4ms/step - loss: 0.2420 - auc: 0.8560 - val_loss: 0.4519 - val_auc: 0.7993\n",
            "Epoch 162/200\n",
            "50/50 [==============================] - 0s 4ms/step - loss: 0.2206 - auc: 0.8891 - val_loss: 0.4669 - val_auc: 0.8358\n",
            "Epoch 163/200\n",
            "50/50 [==============================] - 0s 4ms/step - loss: 0.2108 - auc: 0.8983 - val_loss: 0.5160 - val_auc: 0.8370\n",
            "Epoch 164/200\n",
            "50/50 [==============================] - 0s 5ms/step - loss: 0.2501 - auc: 0.8367 - val_loss: 0.4445 - val_auc: 0.8435\n",
            "Epoch 165/200\n",
            "50/50 [==============================] - 0s 4ms/step - loss: 0.2386 - auc: 0.8577 - val_loss: 0.4473 - val_auc: 0.8180\n",
            "Epoch 166/200\n",
            "50/50 [==============================] - 0s 4ms/step - loss: 0.2251 - auc: 0.8854 - val_loss: 0.5082 - val_auc: 0.8091\n",
            "Epoch 167/200\n",
            "50/50 [==============================] - 0s 4ms/step - loss: 0.2207 - auc: 0.8835 - val_loss: 0.4989 - val_auc: 0.8375\n",
            "Epoch 168/200\n",
            "50/50 [==============================] - 0s 5ms/step - loss: 0.2509 - auc: 0.8353 - val_loss: 0.4548 - val_auc: 0.8314\n",
            "Epoch 169/200\n",
            "50/50 [==============================] - 0s 4ms/step - loss: 0.2442 - auc: 0.8463 - val_loss: 0.4808 - val_auc: 0.8338\n",
            "Epoch 170/200\n",
            "50/50 [==============================] - 0s 4ms/step - loss: 0.2548 - auc: 0.8309 - val_loss: 0.4224 - val_auc: 0.8501\n",
            "Epoch 171/200\n",
            "50/50 [==============================] - 0s 4ms/step - loss: 0.2485 - auc: 0.8417 - val_loss: 0.4504 - val_auc: 0.8370\n",
            "Epoch 172/200\n",
            "50/50 [==============================] - 0s 4ms/step - loss: 0.2562 - auc: 0.8246 - val_loss: 0.4419 - val_auc: 0.8459\n",
            "Epoch 173/200\n",
            "50/50 [==============================] - 0s 4ms/step - loss: 0.2337 - auc: 0.8628 - val_loss: 0.4450 - val_auc: 0.8496\n",
            "Epoch 174/200\n",
            "50/50 [==============================] - 0s 4ms/step - loss: 0.2308 - auc: 0.8710 - val_loss: 0.4622 - val_auc: 0.8368\n",
            "Epoch 175/200\n",
            "50/50 [==============================] - 0s 5ms/step - loss: 0.2250 - auc: 0.8728 - val_loss: 0.4835 - val_auc: 0.8442\n",
            "Epoch 176/200\n",
            "50/50 [==============================] - 0s 5ms/step - loss: 0.2347 - auc: 0.8619 - val_loss: 0.4819 - val_auc: 0.8321\n",
            "Epoch 177/200\n",
            "50/50 [==============================] - 0s 5ms/step - loss: 0.2247 - auc: 0.8737 - val_loss: 0.5142 - val_auc: 0.8326\n",
            "Epoch 178/200\n",
            "50/50 [==============================] - 0s 4ms/step - loss: 0.2701 - auc: 0.8120 - val_loss: 0.4582 - val_auc: 0.8141\n",
            "Epoch 179/200\n",
            "50/50 [==============================] - 0s 4ms/step - loss: 0.2421 - auc: 0.8455 - val_loss: 0.4767 - val_auc: 0.8316\n",
            "Epoch 180/200\n",
            "50/50 [==============================] - 0s 5ms/step - loss: 0.2198 - auc: 0.8981 - val_loss: 0.5039 - val_auc: 0.8121\n",
            "Epoch 181/200\n",
            "50/50 [==============================] - 0s 4ms/step - loss: 0.2504 - auc: 0.8377 - val_loss: 0.4850 - val_auc: 0.8119\n",
            "Epoch 182/200\n",
            "50/50 [==============================] - 0s 4ms/step - loss: 0.2210 - auc: 0.8880 - val_loss: 0.5305 - val_auc: 0.8225\n",
            "Epoch 183/200\n",
            "50/50 [==============================] - 0s 4ms/step - loss: 0.2443 - auc: 0.8383 - val_loss: 0.4865 - val_auc: 0.8225\n",
            "Epoch 184/200\n",
            "50/50 [==============================] - 0s 5ms/step - loss: 0.2436 - auc: 0.8594 - val_loss: 0.4912 - val_auc: 0.8190\n",
            "Epoch 185/200\n",
            "50/50 [==============================] - 0s 4ms/step - loss: 0.2152 - auc: 0.8953 - val_loss: 0.4973 - val_auc: 0.8269\n",
            "Epoch 186/200\n",
            "50/50 [==============================] - 0s 5ms/step - loss: 0.2383 - auc: 0.8568 - val_loss: 0.4992 - val_auc: 0.8375\n",
            "Epoch 187/200\n",
            "50/50 [==============================] - 0s 5ms/step - loss: 0.2549 - auc: 0.8592 - val_loss: 0.4957 - val_auc: 0.8227\n",
            "Epoch 188/200\n",
            "50/50 [==============================] - 0s 4ms/step - loss: 0.2277 - auc: 0.8734 - val_loss: 0.5299 - val_auc: 0.8183\n",
            "Epoch 189/200\n",
            "50/50 [==============================] - 0s 4ms/step - loss: 0.2202 - auc: 0.8879 - val_loss: 0.5257 - val_auc: 0.8121\n",
            "Epoch 190/200\n",
            "50/50 [==============================] - 0s 4ms/step - loss: 0.2211 - auc: 0.8792 - val_loss: 0.5143 - val_auc: 0.8365\n",
            "Epoch 191/200\n",
            "50/50 [==============================] - 0s 4ms/step - loss: 0.2605 - auc: 0.8494 - val_loss: 0.4842 - val_auc: 0.8175\n",
            "Epoch 192/200\n",
            "50/50 [==============================] - 0s 4ms/step - loss: 0.2500 - auc: 0.8410 - val_loss: 0.4926 - val_auc: 0.8412\n",
            "Epoch 193/200\n",
            "50/50 [==============================] - 0s 4ms/step - loss: 0.2406 - auc: 0.8584 - val_loss: 0.5661 - val_auc: 0.8230\n",
            "Epoch 194/200\n",
            "50/50 [==============================] - 0s 4ms/step - loss: 0.2218 - auc: 0.8772 - val_loss: 0.5347 - val_auc: 0.8207\n",
            "Epoch 195/200\n",
            "50/50 [==============================] - 0s 4ms/step - loss: 0.2164 - auc: 0.8950 - val_loss: 0.5568 - val_auc: 0.8148\n",
            "Epoch 196/200\n",
            "50/50 [==============================] - 0s 5ms/step - loss: 0.2468 - auc: 0.8487 - val_loss: 0.5441 - val_auc: 0.8264\n",
            "Epoch 197/200\n",
            "50/50 [==============================] - 0s 4ms/step - loss: 0.2381 - auc: 0.8555 - val_loss: 0.5055 - val_auc: 0.8274\n",
            "Epoch 198/200\n",
            "50/50 [==============================] - 0s 4ms/step - loss: 0.2239 - auc: 0.8845 - val_loss: 0.5327 - val_auc: 0.8237\n",
            "Epoch 199/200\n",
            "50/50 [==============================] - 0s 4ms/step - loss: 0.2199 - auc: 0.8810 - val_loss: 0.5446 - val_auc: 0.8388\n",
            "Epoch 200/200\n",
            "50/50 [==============================] - 0s 4ms/step - loss: 0.2255 - auc: 0.8745 - val_loss: 0.5331 - val_auc: 0.8309\n"
          ]
        }
      ]
    },
    {
      "cell_type": "code",
      "source": [
        "#그래프 그려보기\n",
        "\n",
        "import matplotlib.pyplot as plt\n",
        "%matplotlib inline\n",
        "\n",
        "plt.figure(figsize=(10,8))\n",
        "\n",
        "#loss 그래프\n",
        "history_dict = hist.history\n",
        "auc = history_dict['auc']\n",
        "val_auc = history_dict['val_auc']\n",
        "\n",
        "x_len = np.arange(len(auc))\n",
        "plt.plot(x_len, val_auc, marker='.', c=\"red\", label = \"Testset_auc\")\n",
        "plt.plot(x_len, auc, marker='.', c=\"blue\", label = \"Trainset_auc\")\n",
        "\n",
        "#그래프에 그리드를 주고 레이블을 표시\n",
        "plt.legend(loc='upper right')\n",
        "plt.grid()\n",
        "plt.xlabel('epoch')\n",
        "plt.ylabel('auc')\n",
        "plt.show()"
      ],
      "metadata": {
        "colab": {
          "base_uri": "https://localhost:8080/",
          "height": 497
        },
        "id": "IqSvl35zIMrY",
        "outputId": "1a8e4752-1486-44fb-e824-d27d803c5a72"
      },
      "execution_count": 37,
      "outputs": [
        {
          "output_type": "display_data",
          "data": {
            "image/png": "[encoded data removed]",
            "text/plain": [
              "<Figure size 720x576 with 1 Axes>"
            ]
          },
          "metadata": {
            "needs_background": "light"
          }
        }
      ]
    },
    {
      "cell_type": "code",
      "source": [
        "print(\"\\n Train AUC : %.4f\" % (model.evaluate(X_train, Y_train)[1]))\n",
        "print(\"\\n Test AUC : %.4f\" % (model.evaluate(X_test, Y_test)[1]))"
      ],
      "metadata": {
        "colab": {
          "base_uri": "https://localhost:8080/"
        },
        "id": "GsBTwyEHHyxi",
        "outputId": "df63f7e3-a30e-4455-8d19-e88e878a3793"
      },
      "execution_count": 38,
      "outputs": [
        {
          "output_type": "stream",
          "name": "stdout",
          "text": [
            "11/11 [==============================] - 0s 2ms/step - loss: 0.1919 - auc: 0.9289\n",
            "\n",
            " Train AUC : 0.9289\n",
            "5/5 [==============================] - 0s 3ms/step - loss: 0.5331 - auc: 0.8309\n",
            "\n",
            " Test AUC : 0.8309\n"
          ]
        }
      ]
    },
    {
      "cell_type": "code",
      "source": [
        "print(\"\\n Train Loss : %.4f\" % (model.evaluate(X_train, Y_train)[0]))\n",
        "print(\"\\n Test Loss : %.4f\" % (model.evaluate(X_test, Y_test)[0]))"
      ],
      "metadata": {
        "colab": {
          "base_uri": "https://localhost:8080/"
        },
        "id": "09xfHI1eOlxY",
        "outputId": "62a44a83-a6db-4758-c7b7-efc41ba17f4c"
      },
      "execution_count": 39,
      "outputs": [
        {
          "output_type": "stream",
          "name": "stdout",
          "text": [
            "11/11 [==============================] - 0s 2ms/step - loss: 0.1919 - auc: 0.9289\n",
            "\n",
            " Train Loss : 0.1919\n",
            "5/5 [==============================] - 0s 3ms/step - loss: 0.5331 - auc: 0.8309\n",
            "\n",
            " Test Loss : 0.5331\n"
          ]
        }
      ]
    },
    {
      "cell_type": "markdown",
      "source": [
        "# **Accuracy로 컴파일**"
      ],
      "metadata": {
        "id": "oOYif8WJNdX1"
      }
    },
    {
      "cell_type": "code",
      "source": [
        "from keras import models\n",
        "from keras import layers\n",
        "\n",
        "model = models.Sequential()\n",
        "model.add(layers.Dense(40, activation='relu', input_shape=(21,)))\n",
        "model.add(layers.Dropout(0.5))\n",
        "model.add(layers.Dense(50, activation='relu'))\n",
        "model.add(layers.Dropout(0.5))\n",
        "model.add(layers.Dense(50, activation='relu'))\n",
        "model.add(layers.Dropout(0.5))\n",
        "model.add(layers.Dense(60, activation='relu'))\n",
        "model.add(layers.Dropout(0.5))\n",
        "model.add(layers.Dense(70, activation='relu'))\n",
        "model.add(layers.Dropout(0.5))\n",
        "model.add(layers.Dense(1, activation='sigmoid')) "
      ],
      "metadata": {
        "id": "9MFFyxxxIs6e"
      },
      "execution_count": 29,
      "outputs": []
    },
    {
      "cell_type": "code",
      "source": [
        "model.compile(optimizer='adam',\n",
        "             loss='binary_crossentropy',\n",
        "             metrics=['accuracy'])"
      ],
      "metadata": {
        "id": "Q2gq-DgjJFNr"
      },
      "execution_count": 30,
      "outputs": []
    },
    {
      "cell_type": "code",
      "source": [
        "hist = model.fit(X_train, Y_train, validation_data=(X_test, Y_test), epochs=200, batch_size=7, verbose=1)"
      ],
      "metadata": {
        "colab": {
          "base_uri": "https://localhost:8080/"
        },
        "id": "b1deZiAJKGaW",
        "outputId": "4d554eb1-7808-4f66-9d8c-73753724fd92"
      },
      "execution_count": 31,
      "outputs": [
        {
          "output_type": "stream",
          "name": "stdout",
          "text": [
            "Epoch 1/200\n",
            "50/50 [==============================] - 1s 8ms/step - loss: 0.5531 - accuracy: 0.8822 - val_loss: 0.4283 - val_accuracy: 0.9000\n",
            "Epoch 2/200\n",
            "50/50 [==============================] - 0s 4ms/step - loss: 0.3524 - accuracy: 0.9023 - val_loss: 0.3489 - val_accuracy: 0.9000\n",
            "Epoch 3/200\n",
            "50/50 [==============================] - 0s 4ms/step - loss: 0.3953 - accuracy: 0.9023 - val_loss: 0.3320 - val_accuracy: 0.9000\n",
            "Epoch 4/200\n",
            "50/50 [==============================] - 0s 4ms/step - loss: 0.3388 - accuracy: 0.9023 - val_loss: 0.3225 - val_accuracy: 0.9000\n",
            "Epoch 5/200\n",
            "50/50 [==============================] - 0s 3ms/step - loss: 0.3375 - accuracy: 0.9023 - val_loss: 0.3189 - val_accuracy: 0.9000\n",
            "Epoch 6/200\n",
            "50/50 [==============================] - 0s 3ms/step - loss: 0.3365 - accuracy: 0.9023 - val_loss: 0.3153 - val_accuracy: 0.9000\n",
            "Epoch 7/200\n",
            "50/50 [==============================] - 0s 3ms/step - loss: 0.3216 - accuracy: 0.9023 - val_loss: 0.3117 - val_accuracy: 0.9000\n",
            "Epoch 8/200\n",
            "50/50 [==============================] - 0s 4ms/step - loss: 0.3327 - accuracy: 0.9023 - val_loss: 0.3164 - val_accuracy: 0.9000\n",
            "Epoch 9/200\n",
            "50/50 [==============================] - 0s 4ms/step - loss: 0.3197 - accuracy: 0.9023 - val_loss: 0.3181 - val_accuracy: 0.9000\n",
            "Epoch 10/200\n",
            "50/50 [==============================] - 0s 4ms/step - loss: 0.3270 - accuracy: 0.9023 - val_loss: 0.3156 - val_accuracy: 0.9000\n",
            "Epoch 11/200\n",
            "50/50 [==============================] - 0s 4ms/step - loss: 0.3147 - accuracy: 0.9023 - val_loss: 0.3165 - val_accuracy: 0.9000\n",
            "Epoch 12/200\n",
            "50/50 [==============================] - 0s 4ms/step - loss: 0.2822 - accuracy: 0.9023 - val_loss: 0.3205 - val_accuracy: 0.9000\n",
            "Epoch 13/200\n",
            "50/50 [==============================] - 0s 4ms/step - loss: 0.3155 - accuracy: 0.9023 - val_loss: 0.3200 - val_accuracy: 0.9000\n",
            "Epoch 14/200\n",
            "50/50 [==============================] - 0s 4ms/step - loss: 0.3068 - accuracy: 0.9023 - val_loss: 0.3207 - val_accuracy: 0.9000\n",
            "Epoch 15/200\n",
            "50/50 [==============================] - 0s 4ms/step - loss: 0.3034 - accuracy: 0.9023 - val_loss: 0.3243 - val_accuracy: 0.9000\n",
            "Epoch 16/200\n",
            "50/50 [==============================] - 0s 4ms/step - loss: 0.3080 - accuracy: 0.9023 - val_loss: 0.3245 - val_accuracy: 0.9000\n",
            "Epoch 17/200\n",
            "50/50 [==============================] - 0s 3ms/step - loss: 0.3107 - accuracy: 0.9023 - val_loss: 0.3249 - val_accuracy: 0.9000\n",
            "Epoch 18/200\n",
            "50/50 [==============================] - 0s 4ms/step - loss: 0.3086 - accuracy: 0.9023 - val_loss: 0.3263 - val_accuracy: 0.9000\n",
            "Epoch 19/200\n",
            "50/50 [==============================] - 0s 4ms/step - loss: 0.2985 - accuracy: 0.9023 - val_loss: 0.3242 - val_accuracy: 0.9000\n",
            "Epoch 20/200\n",
            "50/50 [==============================] - 0s 4ms/step - loss: 0.2897 - accuracy: 0.9023 - val_loss: 0.3274 - val_accuracy: 0.9000\n",
            "Epoch 21/200\n",
            "50/50 [==============================] - 0s 4ms/step - loss: 0.2905 - accuracy: 0.9023 - val_loss: 0.3234 - val_accuracy: 0.9000\n",
            "Epoch 22/200\n",
            "50/50 [==============================] - 0s 4ms/step - loss: 0.2837 - accuracy: 0.9023 - val_loss: 0.3303 - val_accuracy: 0.9000\n",
            "Epoch 23/200\n",
            "50/50 [==============================] - 0s 4ms/step - loss: 0.2892 - accuracy: 0.9023 - val_loss: 0.3242 - val_accuracy: 0.9000\n",
            "Epoch 24/200\n",
            "50/50 [==============================] - 0s 3ms/step - loss: 0.2924 - accuracy: 0.9023 - val_loss: 0.3202 - val_accuracy: 0.9000\n",
            "Epoch 25/200\n",
            "50/50 [==============================] - 0s 4ms/step - loss: 0.2916 - accuracy: 0.9023 - val_loss: 0.3210 - val_accuracy: 0.9000\n",
            "Epoch 26/200\n",
            "50/50 [==============================] - 0s 3ms/step - loss: 0.3071 - accuracy: 0.9023 - val_loss: 0.3211 - val_accuracy: 0.9000\n",
            "Epoch 27/200\n",
            "50/50 [==============================] - 0s 4ms/step - loss: 0.2726 - accuracy: 0.9023 - val_loss: 0.3234 - val_accuracy: 0.9000\n",
            "Epoch 28/200\n",
            "50/50 [==============================] - 0s 5ms/step - loss: 0.2947 - accuracy: 0.9023 - val_loss: 0.3178 - val_accuracy: 0.9000\n",
            "Epoch 29/200\n",
            "50/50 [==============================] - 0s 4ms/step - loss: 0.2992 - accuracy: 0.9023 - val_loss: 0.3222 - val_accuracy: 0.9000\n",
            "Epoch 30/200\n",
            "50/50 [==============================] - 0s 3ms/step - loss: 0.3024 - accuracy: 0.9023 - val_loss: 0.3211 - val_accuracy: 0.9000\n",
            "Epoch 31/200\n",
            "50/50 [==============================] - 0s 3ms/step - loss: 0.2879 - accuracy: 0.9023 - val_loss: 0.3237 - val_accuracy: 0.9000\n",
            "Epoch 32/200\n",
            "50/50 [==============================] - 0s 4ms/step - loss: 0.2746 - accuracy: 0.9023 - val_loss: 0.3251 - val_accuracy: 0.9000\n",
            "Epoch 33/200\n",
            "50/50 [==============================] - 0s 5ms/step - loss: 0.2817 - accuracy: 0.9023 - val_loss: 0.3285 - val_accuracy: 0.9000\n",
            "Epoch 34/200\n",
            "50/50 [==============================] - 0s 4ms/step - loss: 0.2766 - accuracy: 0.9023 - val_loss: 0.3304 - val_accuracy: 0.9000\n",
            "Epoch 35/200\n",
            "50/50 [==============================] - 0s 4ms/step - loss: 0.3015 - accuracy: 0.9023 - val_loss: 0.3301 - val_accuracy: 0.9000\n",
            "Epoch 36/200\n",
            "50/50 [==============================] - 0s 4ms/step - loss: 0.2950 - accuracy: 0.9023 - val_loss: 0.3330 - val_accuracy: 0.9000\n",
            "Epoch 37/200\n",
            "50/50 [==============================] - 0s 3ms/step - loss: 0.2839 - accuracy: 0.9023 - val_loss: 0.3290 - val_accuracy: 0.9000\n",
            "Epoch 38/200\n",
            "50/50 [==============================] - 0s 4ms/step - loss: 0.2692 - accuracy: 0.9023 - val_loss: 0.3342 - val_accuracy: 0.9000\n",
            "Epoch 39/200\n",
            "50/50 [==============================] - 0s 3ms/step - loss: 0.2736 - accuracy: 0.9023 - val_loss: 0.3478 - val_accuracy: 0.9000\n",
            "Epoch 40/200\n",
            "50/50 [==============================] - 0s 4ms/step - loss: 0.2907 - accuracy: 0.9023 - val_loss: 0.3336 - val_accuracy: 0.9000\n",
            "Epoch 41/200\n",
            "50/50 [==============================] - 0s 4ms/step - loss: 0.2774 - accuracy: 0.9023 - val_loss: 0.3336 - val_accuracy: 0.9000\n",
            "Epoch 42/200\n",
            "50/50 [==============================] - 0s 4ms/step - loss: 0.2801 - accuracy: 0.9023 - val_loss: 0.3334 - val_accuracy: 0.9000\n",
            "Epoch 43/200\n",
            "50/50 [==============================] - 0s 4ms/step - loss: 0.2818 - accuracy: 0.9023 - val_loss: 0.3313 - val_accuracy: 0.9000\n",
            "Epoch 44/200\n",
            "50/50 [==============================] - 0s 4ms/step - loss: 0.3035 - accuracy: 0.9023 - val_loss: 0.3311 - val_accuracy: 0.9000\n",
            "Epoch 45/200\n",
            "50/50 [==============================] - 0s 4ms/step - loss: 0.2845 - accuracy: 0.9023 - val_loss: 0.3255 - val_accuracy: 0.9000\n",
            "Epoch 46/200\n",
            "50/50 [==============================] - 0s 3ms/step - loss: 0.2855 - accuracy: 0.9023 - val_loss: 0.3341 - val_accuracy: 0.9000\n",
            "Epoch 47/200\n",
            "50/50 [==============================] - 0s 4ms/step - loss: 0.2936 - accuracy: 0.9023 - val_loss: 0.3229 - val_accuracy: 0.9000\n",
            "Epoch 48/200\n",
            "50/50 [==============================] - 0s 4ms/step - loss: 0.2902 - accuracy: 0.9023 - val_loss: 0.3235 - val_accuracy: 0.9000\n",
            "Epoch 49/200\n",
            "50/50 [==============================] - 0s 4ms/step - loss: 0.2738 - accuracy: 0.9023 - val_loss: 0.3240 - val_accuracy: 0.9000\n",
            "Epoch 50/200\n",
            "50/50 [==============================] - 0s 4ms/step - loss: 0.2867 - accuracy: 0.9023 - val_loss: 0.3295 - val_accuracy: 0.9000\n",
            "Epoch 51/200\n",
            "50/50 [==============================] - 0s 4ms/step - loss: 0.2882 - accuracy: 0.9023 - val_loss: 0.3269 - val_accuracy: 0.9000\n",
            "Epoch 52/200\n",
            "50/50 [==============================] - 0s 3ms/step - loss: 0.2971 - accuracy: 0.9023 - val_loss: 0.3246 - val_accuracy: 0.9000\n",
            "Epoch 53/200\n",
            "50/50 [==============================] - 0s 4ms/step - loss: 0.2656 - accuracy: 0.9023 - val_loss: 0.3341 - val_accuracy: 0.9000\n",
            "Epoch 54/200\n",
            "50/50 [==============================] - 0s 4ms/step - loss: 0.3012 - accuracy: 0.9023 - val_loss: 0.3285 - val_accuracy: 0.9000\n",
            "Epoch 55/200\n",
            "50/50 [==============================] - 0s 4ms/step - loss: 0.2822 - accuracy: 0.9023 - val_loss: 0.3347 - val_accuracy: 0.9000\n",
            "Epoch 56/200\n",
            "50/50 [==============================] - 0s 3ms/step - loss: 0.2699 - accuracy: 0.9023 - val_loss: 0.3536 - val_accuracy: 0.9000\n",
            "Epoch 57/200\n",
            "50/50 [==============================] - 0s 4ms/step - loss: 0.2726 - accuracy: 0.9023 - val_loss: 0.3542 - val_accuracy: 0.9000\n",
            "Epoch 58/200\n",
            "50/50 [==============================] - 0s 4ms/step - loss: 0.2770 - accuracy: 0.9023 - val_loss: 0.3497 - val_accuracy: 0.9000\n",
            "Epoch 59/200\n",
            "50/50 [==============================] - 0s 5ms/step - loss: 0.2893 - accuracy: 0.9023 - val_loss: 0.3396 - val_accuracy: 0.9000\n",
            "Epoch 60/200\n",
            "50/50 [==============================] - 0s 4ms/step - loss: 0.2590 - accuracy: 0.9023 - val_loss: 0.3506 - val_accuracy: 0.9000\n",
            "Epoch 61/200\n",
            "50/50 [==============================] - 0s 4ms/step - loss: 0.2745 - accuracy: 0.9023 - val_loss: 0.3493 - val_accuracy: 0.9000\n",
            "Epoch 62/200\n",
            "50/50 [==============================] - 0s 4ms/step - loss: 0.2742 - accuracy: 0.9023 - val_loss: 0.3405 - val_accuracy: 0.9000\n",
            "Epoch 63/200\n",
            "50/50 [==============================] - 0s 5ms/step - loss: 0.2712 - accuracy: 0.9023 - val_loss: 0.3514 - val_accuracy: 0.9000\n",
            "Epoch 64/200\n",
            "50/50 [==============================] - 0s 4ms/step - loss: 0.2717 - accuracy: 0.9023 - val_loss: 0.3483 - val_accuracy: 0.9000\n",
            "Epoch 65/200\n",
            "50/50 [==============================] - 0s 3ms/step - loss: 0.2812 - accuracy: 0.9023 - val_loss: 0.3605 - val_accuracy: 0.9000\n",
            "Epoch 66/200\n",
            "50/50 [==============================] - 0s 4ms/step - loss: 0.2979 - accuracy: 0.9023 - val_loss: 0.3510 - val_accuracy: 0.9000\n",
            "Epoch 67/200\n",
            "50/50 [==============================] - 0s 4ms/step - loss: 0.2702 - accuracy: 0.9023 - val_loss: 0.3480 - val_accuracy: 0.9000\n",
            "Epoch 68/200\n",
            "50/50 [==============================] - 0s 4ms/step - loss: 0.2816 - accuracy: 0.9023 - val_loss: 0.3472 - val_accuracy: 0.9000\n",
            "Epoch 69/200\n",
            "50/50 [==============================] - 0s 3ms/step - loss: 0.2846 - accuracy: 0.9023 - val_loss: 0.3457 - val_accuracy: 0.9000\n",
            "Epoch 70/200\n",
            "50/50 [==============================] - 0s 3ms/step - loss: 0.2696 - accuracy: 0.9023 - val_loss: 0.3514 - val_accuracy: 0.9000\n",
            "Epoch 71/200\n",
            "50/50 [==============================] - 0s 4ms/step - loss: 0.2509 - accuracy: 0.9023 - val_loss: 0.3653 - val_accuracy: 0.9000\n",
            "Epoch 72/200\n",
            "50/50 [==============================] - 0s 4ms/step - loss: 0.2960 - accuracy: 0.9023 - val_loss: 0.3393 - val_accuracy: 0.9000\n",
            "Epoch 73/200\n",
            "50/50 [==============================] - 0s 4ms/step - loss: 0.2725 - accuracy: 0.9023 - val_loss: 0.3472 - val_accuracy: 0.9000\n",
            "Epoch 74/200\n",
            "50/50 [==============================] - 0s 4ms/step - loss: 0.2841 - accuracy: 0.9023 - val_loss: 0.3466 - val_accuracy: 0.9000\n",
            "Epoch 75/200\n",
            "50/50 [==============================] - 0s 4ms/step - loss: 0.2542 - accuracy: 0.9023 - val_loss: 0.3646 - val_accuracy: 0.9000\n",
            "Epoch 76/200\n",
            "50/50 [==============================] - 0s 4ms/step - loss: 0.2822 - accuracy: 0.9023 - val_loss: 0.3763 - val_accuracy: 0.9000\n",
            "Epoch 77/200\n",
            "50/50 [==============================] - 0s 3ms/step - loss: 0.2772 - accuracy: 0.9023 - val_loss: 0.3579 - val_accuracy: 0.9000\n",
            "Epoch 78/200\n",
            "50/50 [==============================] - 0s 5ms/step - loss: 0.2626 - accuracy: 0.9023 - val_loss: 0.3608 - val_accuracy: 0.9000\n",
            "Epoch 79/200\n",
            "50/50 [==============================] - 0s 5ms/step - loss: 0.2713 - accuracy: 0.9023 - val_loss: 0.3657 - val_accuracy: 0.9000\n",
            "Epoch 80/200\n",
            "50/50 [==============================] - 0s 3ms/step - loss: 0.2823 - accuracy: 0.9023 - val_loss: 0.3553 - val_accuracy: 0.9000\n",
            "Epoch 81/200\n",
            "50/50 [==============================] - 0s 4ms/step - loss: 0.2658 - accuracy: 0.9023 - val_loss: 0.3609 - val_accuracy: 0.9000\n",
            "Epoch 82/200\n",
            "50/50 [==============================] - 0s 4ms/step - loss: 0.2726 - accuracy: 0.9023 - val_loss: 0.3578 - val_accuracy: 0.9000\n",
            "Epoch 83/200\n",
            "50/50 [==============================] - 0s 4ms/step - loss: 0.2651 - accuracy: 0.9023 - val_loss: 0.3719 - val_accuracy: 0.9000\n",
            "Epoch 84/200\n",
            "50/50 [==============================] - 0s 3ms/step - loss: 0.2599 - accuracy: 0.9023 - val_loss: 0.3603 - val_accuracy: 0.9000\n",
            "Epoch 85/200\n",
            "50/50 [==============================] - 0s 4ms/step - loss: 0.2720 - accuracy: 0.9023 - val_loss: 0.3608 - val_accuracy: 0.9000\n",
            "Epoch 86/200\n",
            "50/50 [==============================] - 0s 4ms/step - loss: 0.2687 - accuracy: 0.9023 - val_loss: 0.3700 - val_accuracy: 0.9000\n",
            "Epoch 87/200\n",
            "50/50 [==============================] - 0s 4ms/step - loss: 0.2568 - accuracy: 0.9023 - val_loss: 0.3880 - val_accuracy: 0.9000\n",
            "Epoch 88/200\n",
            "50/50 [==============================] - 0s 4ms/step - loss: 0.2598 - accuracy: 0.9023 - val_loss: 0.3627 - val_accuracy: 0.9000\n",
            "Epoch 89/200\n",
            "50/50 [==============================] - 0s 3ms/step - loss: 0.2757 - accuracy: 0.9023 - val_loss: 0.3720 - val_accuracy: 0.9000\n",
            "Epoch 90/200\n",
            "50/50 [==============================] - 0s 4ms/step - loss: 0.2820 - accuracy: 0.9023 - val_loss: 0.3820 - val_accuracy: 0.9000\n",
            "Epoch 91/200\n",
            "50/50 [==============================] - 0s 4ms/step - loss: 0.2685 - accuracy: 0.9023 - val_loss: 0.3798 - val_accuracy: 0.9000\n",
            "Epoch 92/200\n",
            "50/50 [==============================] - 0s 4ms/step - loss: 0.2728 - accuracy: 0.9023 - val_loss: 0.3755 - val_accuracy: 0.9000\n",
            "Epoch 93/200\n",
            "50/50 [==============================] - 0s 4ms/step - loss: 0.2800 - accuracy: 0.9023 - val_loss: 0.3779 - val_accuracy: 0.9000\n",
            "Epoch 94/200\n",
            "50/50 [==============================] - 0s 4ms/step - loss: 0.2587 - accuracy: 0.9023 - val_loss: 0.3917 - val_accuracy: 0.9000\n",
            "Epoch 95/200\n",
            "50/50 [==============================] - 0s 4ms/step - loss: 0.2709 - accuracy: 0.9023 - val_loss: 0.3844 - val_accuracy: 0.9000\n",
            "Epoch 96/200\n",
            "50/50 [==============================] - 0s 4ms/step - loss: 0.2586 - accuracy: 0.8994 - val_loss: 0.3792 - val_accuracy: 0.9000\n",
            "Epoch 97/200\n",
            "50/50 [==============================] - 0s 4ms/step - loss: 0.2611 - accuracy: 0.9023 - val_loss: 0.3888 - val_accuracy: 0.9000\n",
            "Epoch 98/200\n",
            "50/50 [==============================] - 0s 4ms/step - loss: 0.2533 - accuracy: 0.9023 - val_loss: 0.4115 - val_accuracy: 0.9000\n",
            "Epoch 99/200\n",
            "50/50 [==============================] - 0s 4ms/step - loss: 0.3053 - accuracy: 0.9023 - val_loss: 0.3750 - val_accuracy: 0.9000\n",
            "Epoch 100/200\n",
            "50/50 [==============================] - 0s 4ms/step - loss: 0.2659 - accuracy: 0.9023 - val_loss: 0.3883 - val_accuracy: 0.9000\n",
            "Epoch 101/200\n",
            "50/50 [==============================] - 0s 3ms/step - loss: 0.2540 - accuracy: 0.9023 - val_loss: 0.3869 - val_accuracy: 0.9000\n",
            "Epoch 102/200\n",
            "50/50 [==============================] - 0s 3ms/step - loss: 0.2699 - accuracy: 0.8994 - val_loss: 0.3944 - val_accuracy: 0.9000\n",
            "Epoch 103/200\n",
            "50/50 [==============================] - 0s 4ms/step - loss: 0.2570 - accuracy: 0.9023 - val_loss: 0.3837 - val_accuracy: 0.9000\n",
            "Epoch 104/200\n",
            "50/50 [==============================] - 0s 4ms/step - loss: 0.2581 - accuracy: 0.8994 - val_loss: 0.3988 - val_accuracy: 0.9000\n",
            "Epoch 105/200\n",
            "50/50 [==============================] - 0s 3ms/step - loss: 0.2474 - accuracy: 0.9023 - val_loss: 0.4031 - val_accuracy: 0.9000\n",
            "Epoch 106/200\n",
            "50/50 [==============================] - 0s 4ms/step - loss: 0.2661 - accuracy: 0.9023 - val_loss: 0.4242 - val_accuracy: 0.9000\n",
            "Epoch 107/200\n",
            "50/50 [==============================] - 0s 3ms/step - loss: 0.2813 - accuracy: 0.9023 - val_loss: 0.3833 - val_accuracy: 0.9000\n",
            "Epoch 108/200\n",
            "50/50 [==============================] - 0s 4ms/step - loss: 0.2589 - accuracy: 0.9023 - val_loss: 0.3882 - val_accuracy: 0.9000\n",
            "Epoch 109/200\n",
            "50/50 [==============================] - 0s 5ms/step - loss: 0.2537 - accuracy: 0.9023 - val_loss: 0.4072 - val_accuracy: 0.9000\n",
            "Epoch 110/200\n",
            "50/50 [==============================] - 0s 4ms/step - loss: 0.2440 - accuracy: 0.9023 - val_loss: 0.4141 - val_accuracy: 0.9000\n",
            "Epoch 111/200\n",
            "50/50 [==============================] - 0s 4ms/step - loss: 0.2458 - accuracy: 0.8994 - val_loss: 0.4189 - val_accuracy: 0.9000\n",
            "Epoch 112/200\n",
            "50/50 [==============================] - 0s 4ms/step - loss: 0.2541 - accuracy: 0.9023 - val_loss: 0.4111 - val_accuracy: 0.9000\n",
            "Epoch 113/200\n",
            "50/50 [==============================] - 0s 4ms/step - loss: 0.2375 - accuracy: 0.9023 - val_loss: 0.4272 - val_accuracy: 0.9000\n",
            "Epoch 114/200\n",
            "50/50 [==============================] - 0s 4ms/step - loss: 0.2672 - accuracy: 0.8994 - val_loss: 0.4160 - val_accuracy: 0.9000\n",
            "Epoch 115/200\n",
            "50/50 [==============================] - 0s 4ms/step - loss: 0.2677 - accuracy: 0.9023 - val_loss: 0.4203 - val_accuracy: 0.9000\n",
            "Epoch 116/200\n",
            "50/50 [==============================] - 0s 3ms/step - loss: 0.2562 - accuracy: 0.8994 - val_loss: 0.4285 - val_accuracy: 0.9000\n",
            "Epoch 117/200\n",
            "50/50 [==============================] - 0s 4ms/step - loss: 0.2763 - accuracy: 0.9023 - val_loss: 0.4245 - val_accuracy: 0.9000\n",
            "Epoch 118/200\n",
            "50/50 [==============================] - 0s 3ms/step - loss: 0.2858 - accuracy: 0.9023 - val_loss: 0.4088 - val_accuracy: 0.9000\n",
            "Epoch 119/200\n",
            "50/50 [==============================] - 0s 4ms/step - loss: 0.2727 - accuracy: 0.9023 - val_loss: 0.4369 - val_accuracy: 0.9000\n",
            "Epoch 120/200\n",
            "50/50 [==============================] - 0s 4ms/step - loss: 0.2490 - accuracy: 0.9023 - val_loss: 0.4321 - val_accuracy: 0.9000\n",
            "Epoch 121/200\n",
            "50/50 [==============================] - 0s 3ms/step - loss: 0.2519 - accuracy: 0.9023 - val_loss: 0.4329 - val_accuracy: 0.9000\n",
            "Epoch 122/200\n",
            "50/50 [==============================] - 0s 4ms/step - loss: 0.2511 - accuracy: 0.9023 - val_loss: 0.4318 - val_accuracy: 0.9067\n",
            "Epoch 123/200\n",
            "50/50 [==============================] - 0s 3ms/step - loss: 0.2377 - accuracy: 0.9052 - val_loss: 0.4471 - val_accuracy: 0.9067\n",
            "Epoch 124/200\n",
            "50/50 [==============================] - 0s 4ms/step - loss: 0.2557 - accuracy: 0.9080 - val_loss: 0.4380 - val_accuracy: 0.9067\n",
            "Epoch 125/200\n",
            "50/50 [==============================] - 0s 4ms/step - loss: 0.2723 - accuracy: 0.8994 - val_loss: 0.4424 - val_accuracy: 0.9067\n",
            "Epoch 126/200\n",
            "50/50 [==============================] - 0s 4ms/step - loss: 0.2634 - accuracy: 0.9023 - val_loss: 0.4421 - val_accuracy: 0.9067\n",
            "Epoch 127/200\n",
            "50/50 [==============================] - 0s 4ms/step - loss: 0.2628 - accuracy: 0.9023 - val_loss: 0.4266 - val_accuracy: 0.9067\n",
            "Epoch 128/200\n",
            "50/50 [==============================] - 0s 4ms/step - loss: 0.2412 - accuracy: 0.9080 - val_loss: 0.4326 - val_accuracy: 0.9067\n",
            "Epoch 129/200\n",
            "50/50 [==============================] - 0s 4ms/step - loss: 0.2472 - accuracy: 0.9023 - val_loss: 0.4695 - val_accuracy: 0.9067\n",
            "Epoch 130/200\n",
            "50/50 [==============================] - 0s 4ms/step - loss: 0.2659 - accuracy: 0.9023 - val_loss: 0.4238 - val_accuracy: 0.9067\n",
            "Epoch 131/200\n",
            "50/50 [==============================] - 0s 4ms/step - loss: 0.2460 - accuracy: 0.8937 - val_loss: 0.4542 - val_accuracy: 0.9067\n",
            "Epoch 132/200\n",
            "50/50 [==============================] - 0s 4ms/step - loss: 0.2486 - accuracy: 0.9052 - val_loss: 0.4757 - val_accuracy: 0.9067\n",
            "Epoch 133/200\n",
            "50/50 [==============================] - 0s 4ms/step - loss: 0.2436 - accuracy: 0.9023 - val_loss: 0.4963 - val_accuracy: 0.9067\n",
            "Epoch 134/200\n",
            "50/50 [==============================] - 0s 4ms/step - loss: 0.2465 - accuracy: 0.9023 - val_loss: 0.5037 - val_accuracy: 0.9067\n",
            "Epoch 135/200\n",
            "50/50 [==============================] - 0s 4ms/step - loss: 0.2603 - accuracy: 0.9023 - val_loss: 0.4929 - val_accuracy: 0.9067\n",
            "Epoch 136/200\n",
            "50/50 [==============================] - 0s 4ms/step - loss: 0.2466 - accuracy: 0.8994 - val_loss: 0.4743 - val_accuracy: 0.9067\n",
            "Epoch 137/200\n",
            "50/50 [==============================] - 0s 4ms/step - loss: 0.2597 - accuracy: 0.9080 - val_loss: 0.4799 - val_accuracy: 0.9067\n",
            "Epoch 138/200\n",
            "50/50 [==============================] - 0s 5ms/step - loss: 0.2460 - accuracy: 0.9052 - val_loss: 0.4989 - val_accuracy: 0.9067\n",
            "Epoch 139/200\n",
            "50/50 [==============================] - 0s 4ms/step - loss: 0.2513 - accuracy: 0.9023 - val_loss: 0.4966 - val_accuracy: 0.9067\n",
            "Epoch 140/200\n",
            "50/50 [==============================] - 0s 4ms/step - loss: 0.2558 - accuracy: 0.9023 - val_loss: 0.4944 - val_accuracy: 0.9067\n",
            "Epoch 141/200\n",
            "50/50 [==============================] - 0s 4ms/step - loss: 0.2593 - accuracy: 0.9052 - val_loss: 0.5050 - val_accuracy: 0.9067\n",
            "Epoch 142/200\n",
            "50/50 [==============================] - 0s 4ms/step - loss: 0.2447 - accuracy: 0.9023 - val_loss: 0.5263 - val_accuracy: 0.9067\n",
            "Epoch 143/200\n",
            "50/50 [==============================] - 0s 3ms/step - loss: 0.2585 - accuracy: 0.9052 - val_loss: 0.4803 - val_accuracy: 0.9067\n",
            "Epoch 144/200\n",
            "50/50 [==============================] - 0s 4ms/step - loss: 0.2523 - accuracy: 0.8994 - val_loss: 0.4657 - val_accuracy: 0.9067\n",
            "Epoch 145/200\n",
            "50/50 [==============================] - 0s 4ms/step - loss: 0.2475 - accuracy: 0.9023 - val_loss: 0.4639 - val_accuracy: 0.9067\n",
            "Epoch 146/200\n",
            "50/50 [==============================] - 0s 4ms/step - loss: 0.2347 - accuracy: 0.9080 - val_loss: 0.4894 - val_accuracy: 0.9000\n",
            "Epoch 147/200\n",
            "50/50 [==============================] - 0s 4ms/step - loss: 0.2258 - accuracy: 0.9080 - val_loss: 0.4955 - val_accuracy: 0.9000\n",
            "Epoch 148/200\n",
            "50/50 [==============================] - 0s 4ms/step - loss: 0.2235 - accuracy: 0.9109 - val_loss: 0.5314 - val_accuracy: 0.9000\n",
            "Epoch 149/200\n",
            "50/50 [==============================] - 0s 5ms/step - loss: 0.2365 - accuracy: 0.8966 - val_loss: 0.5542 - val_accuracy: 0.9000\n",
            "Epoch 150/200\n",
            "50/50 [==============================] - 0s 4ms/step - loss: 0.2388 - accuracy: 0.9080 - val_loss: 0.5772 - val_accuracy: 0.9067\n",
            "Epoch 151/200\n",
            "50/50 [==============================] - 0s 3ms/step - loss: 0.2425 - accuracy: 0.9023 - val_loss: 0.5753 - val_accuracy: 0.9000\n",
            "Epoch 152/200\n",
            "50/50 [==============================] - 0s 4ms/step - loss: 0.2358 - accuracy: 0.9023 - val_loss: 0.5454 - val_accuracy: 0.9000\n",
            "Epoch 153/200\n",
            "50/50 [==============================] - 0s 3ms/step - loss: 0.2419 - accuracy: 0.8994 - val_loss: 0.5394 - val_accuracy: 0.9067\n",
            "Epoch 154/200\n",
            "50/50 [==============================] - 0s 5ms/step - loss: 0.2477 - accuracy: 0.9109 - val_loss: 0.4943 - val_accuracy: 0.9000\n",
            "Epoch 155/200\n",
            "50/50 [==============================] - 0s 5ms/step - loss: 0.2315 - accuracy: 0.9052 - val_loss: 0.5517 - val_accuracy: 0.9000\n",
            "Epoch 156/200\n",
            "50/50 [==============================] - 0s 7ms/step - loss: 0.2590 - accuracy: 0.8937 - val_loss: 0.5012 - val_accuracy: 0.9000\n",
            "Epoch 157/200\n",
            "50/50 [==============================] - 0s 7ms/step - loss: 0.2570 - accuracy: 0.8994 - val_loss: 0.5274 - val_accuracy: 0.9000\n",
            "Epoch 158/200\n",
            "50/50 [==============================] - 0s 7ms/step - loss: 0.2440 - accuracy: 0.8994 - val_loss: 0.5451 - val_accuracy: 0.9067\n",
            "Epoch 159/200\n",
            "50/50 [==============================] - 0s 7ms/step - loss: 0.2502 - accuracy: 0.9052 - val_loss: 0.5661 - val_accuracy: 0.9000\n",
            "Epoch 160/200\n",
            "50/50 [==============================] - 0s 7ms/step - loss: 0.2369 - accuracy: 0.9023 - val_loss: 0.5800 - val_accuracy: 0.9000\n",
            "Epoch 161/200\n",
            "50/50 [==============================] - 1s 12ms/step - loss: 0.2567 - accuracy: 0.9052 - val_loss: 0.5488 - val_accuracy: 0.9000\n",
            "Epoch 162/200\n",
            "50/50 [==============================] - 0s 8ms/step - loss: 0.2259 - accuracy: 0.9052 - val_loss: 0.5981 - val_accuracy: 0.9067\n",
            "Epoch 163/200\n",
            "50/50 [==============================] - 1s 11ms/step - loss: 0.2223 - accuracy: 0.9109 - val_loss: 0.6597 - val_accuracy: 0.9000\n",
            "Epoch 164/200\n",
            "50/50 [==============================] - 1s 14ms/step - loss: 0.2413 - accuracy: 0.8994 - val_loss: 0.6086 - val_accuracy: 0.9000\n",
            "Epoch 165/200\n",
            "50/50 [==============================] - 1s 14ms/step - loss: 0.2298 - accuracy: 0.9052 - val_loss: 0.6298 - val_accuracy: 0.9000\n",
            "Epoch 166/200\n",
            "50/50 [==============================] - 1s 12ms/step - loss: 0.2379 - accuracy: 0.9138 - val_loss: 0.6076 - val_accuracy: 0.9000\n",
            "Epoch 167/200\n",
            "50/50 [==============================] - 1s 11ms/step - loss: 0.2267 - accuracy: 0.9080 - val_loss: 0.6349 - val_accuracy: 0.9000\n",
            "Epoch 168/200\n",
            "50/50 [==============================] - 0s 10ms/step - loss: 0.2505 - accuracy: 0.9138 - val_loss: 0.6540 - val_accuracy: 0.9067\n",
            "Epoch 169/200\n",
            "50/50 [==============================] - 1s 11ms/step - loss: 0.2407 - accuracy: 0.9080 - val_loss: 0.6139 - val_accuracy: 0.9000\n",
            "Epoch 170/200\n",
            "50/50 [==============================] - 1s 11ms/step - loss: 0.2411 - accuracy: 0.8994 - val_loss: 0.6172 - val_accuracy: 0.9067\n",
            "Epoch 171/200\n",
            "50/50 [==============================] - 1s 13ms/step - loss: 0.2384 - accuracy: 0.8994 - val_loss: 0.5898 - val_accuracy: 0.9067\n",
            "Epoch 172/200\n",
            "50/50 [==============================] - 1s 13ms/step - loss: 0.2155 - accuracy: 0.9052 - val_loss: 0.6692 - val_accuracy: 0.9067\n",
            "Epoch 173/200\n",
            "50/50 [==============================] - 1s 10ms/step - loss: 0.2232 - accuracy: 0.9080 - val_loss: 0.6593 - val_accuracy: 0.9067\n",
            "Epoch 174/200\n",
            "50/50 [==============================] - 0s 9ms/step - loss: 0.2296 - accuracy: 0.9109 - val_loss: 0.6641 - val_accuracy: 0.9000\n",
            "Epoch 175/200\n",
            "50/50 [==============================] - 0s 9ms/step - loss: 0.2340 - accuracy: 0.9052 - val_loss: 0.6682 - val_accuracy: 0.9000\n",
            "Epoch 176/200\n",
            "50/50 [==============================] - 1s 13ms/step - loss: 0.2188 - accuracy: 0.9080 - val_loss: 0.6652 - val_accuracy: 0.9000\n",
            "Epoch 177/200\n",
            "50/50 [==============================] - 1s 10ms/step - loss: 0.2206 - accuracy: 0.8966 - val_loss: 0.6646 - val_accuracy: 0.9000\n",
            "Epoch 178/200\n",
            "50/50 [==============================] - 1s 11ms/step - loss: 0.2389 - accuracy: 0.9109 - val_loss: 0.6419 - val_accuracy: 0.9000\n",
            "Epoch 179/200\n",
            "50/50 [==============================] - 0s 7ms/step - loss: 0.2275 - accuracy: 0.9195 - val_loss: 0.6562 - val_accuracy: 0.9000\n",
            "Epoch 180/200\n",
            "50/50 [==============================] - 0s 7ms/step - loss: 0.2308 - accuracy: 0.9023 - val_loss: 0.6663 - val_accuracy: 0.9067\n",
            "Epoch 181/200\n",
            "50/50 [==============================] - 0s 8ms/step - loss: 0.2308 - accuracy: 0.9138 - val_loss: 0.6637 - val_accuracy: 0.9067\n",
            "Epoch 182/200\n",
            "50/50 [==============================] - 0s 8ms/step - loss: 0.2799 - accuracy: 0.9052 - val_loss: 0.5584 - val_accuracy: 0.9000\n",
            "Epoch 183/200\n",
            "50/50 [==============================] - 0s 7ms/step - loss: 0.2285 - accuracy: 0.9080 - val_loss: 0.5660 - val_accuracy: 0.9000\n",
            "Epoch 184/200\n",
            "50/50 [==============================] - 0s 8ms/step - loss: 0.2325 - accuracy: 0.9080 - val_loss: 0.6053 - val_accuracy: 0.8933\n",
            "Epoch 185/200\n",
            "50/50 [==============================] - 0s 7ms/step - loss: 0.2222 - accuracy: 0.9109 - val_loss: 0.6322 - val_accuracy: 0.9000\n",
            "Epoch 186/200\n",
            "50/50 [==============================] - 0s 9ms/step - loss: 0.2287 - accuracy: 0.9080 - val_loss: 0.6780 - val_accuracy: 0.9000\n",
            "Epoch 187/200\n",
            "50/50 [==============================] - 0s 7ms/step - loss: 0.2530 - accuracy: 0.8994 - val_loss: 0.6715 - val_accuracy: 0.9000\n",
            "Epoch 188/200\n",
            "50/50 [==============================] - 0s 10ms/step - loss: 0.2223 - accuracy: 0.9052 - val_loss: 0.6904 - val_accuracy: 0.9000\n",
            "Epoch 189/200\n",
            "50/50 [==============================] - 0s 7ms/step - loss: 0.2208 - accuracy: 0.9138 - val_loss: 0.7085 - val_accuracy: 0.9067\n",
            "Epoch 190/200\n",
            "50/50 [==============================] - 0s 6ms/step - loss: 0.2265 - accuracy: 0.9109 - val_loss: 0.7132 - val_accuracy: 0.9067\n",
            "Epoch 191/200\n",
            "50/50 [==============================] - 0s 9ms/step - loss: 0.2149 - accuracy: 0.9138 - val_loss: 0.7386 - val_accuracy: 0.9067\n",
            "Epoch 192/200\n",
            "50/50 [==============================] - 0s 6ms/step - loss: 0.2455 - accuracy: 0.9080 - val_loss: 0.6977 - val_accuracy: 0.9000\n",
            "Epoch 193/200\n",
            "50/50 [==============================] - 0s 7ms/step - loss: 0.2195 - accuracy: 0.9080 - val_loss: 0.6861 - val_accuracy: 0.8733\n",
            "Epoch 194/200\n",
            "50/50 [==============================] - 0s 8ms/step - loss: 0.2515 - accuracy: 0.8937 - val_loss: 0.6559 - val_accuracy: 0.9000\n",
            "Epoch 195/200\n",
            "50/50 [==============================] - 0s 8ms/step - loss: 0.2528 - accuracy: 0.8994 - val_loss: 0.5855 - val_accuracy: 0.9067\n",
            "Epoch 196/200\n",
            "50/50 [==============================] - 0s 7ms/step - loss: 0.2349 - accuracy: 0.9080 - val_loss: 0.6121 - val_accuracy: 0.9067\n",
            "Epoch 197/200\n",
            "50/50 [==============================] - 0s 7ms/step - loss: 0.2227 - accuracy: 0.9080 - val_loss: 0.6799 - val_accuracy: 0.9067\n",
            "Epoch 198/200\n",
            "50/50 [==============================] - 0s 9ms/step - loss: 0.2201 - accuracy: 0.8994 - val_loss: 0.6584 - val_accuracy: 0.8800\n",
            "Epoch 199/200\n",
            "50/50 [==============================] - 0s 6ms/step - loss: 0.2188 - accuracy: 0.9109 - val_loss: 0.6570 - val_accuracy: 0.8933\n",
            "Epoch 200/200\n",
            "50/50 [==============================] - 0s 8ms/step - loss: 0.2292 - accuracy: 0.9080 - val_loss: 0.6544 - val_accuracy: 0.9000\n"
          ]
        }
      ]
    },
    {
      "cell_type": "code",
      "source": [
        "#그래프 그려보기\n",
        "\n",
        "import matplotlib.pyplot as plt\n",
        "%matplotlib inline\n",
        "\n",
        "plt.figure(figsize=(10,8))\n",
        "\n",
        "#loss 그래프\n",
        "history_dict = hist.history\n",
        "auc = history_dict['accuracy']\n",
        "val_auc = history_dict['val_accuracy']\n",
        "\n",
        "x_len = np.arange(len(auc))\n",
        "plt.plot(x_len, val_auc, marker='.', c=\"red\", label = \"Testset_acc\")\n",
        "plt.plot(x_len, auc, marker='.', c=\"blue\", label = \"Trainset_acc\")\n",
        "\n",
        "#그래프에 그리드를 주고 레이블을 표시\n",
        "plt.legend(loc='upper right')\n",
        "plt.grid()\n",
        "plt.xlabel('epoch')\n",
        "plt.ylabel('auc')\n",
        "plt.show()"
      ],
      "metadata": {
        "colab": {
          "base_uri": "https://localhost:8080/",
          "height": 497
        },
        "id": "pHZblzlWJKWI",
        "outputId": "2fb9ea98-e476-474f-8cdf-5c0449595f24"
      },
      "execution_count": 32,
      "outputs": [
        {
          "output_type": "display_data",
          "data": {
            "image/png": "[encoded data removed]",
            "text/plain": [
              "<Figure size 720x576 with 1 Axes>"
            ]
          },
          "metadata": {
            "needs_background": "light"
          }
        }
      ]
    },
    {
      "cell_type": "code",
      "source": [
        "print(\"\\n Train Acc : %.4f\" % (model.evaluate(X_train, Y_train)[1]))\n",
        "print(\"\\n Test Acc : %.4f\" % (model.evaluate(X_test, Y_test)[1]))"
      ],
      "metadata": {
        "colab": {
          "base_uri": "https://localhost:8080/"
        },
        "id": "5gou6piiJQIy",
        "outputId": "339ca36d-cc29-4c3e-cb8a-42fbdeffd570"
      },
      "execution_count": 33,
      "outputs": [
        {
          "output_type": "stream",
          "name": "stdout",
          "text": [
            "11/11 [==============================] - 0s 3ms/step - loss: 0.1950 - accuracy: 0.9253\n",
            "\n",
            " Train Acc : 0.9253\n",
            "5/5 [==============================] - 0s 4ms/step - loss: 0.6544 - accuracy: 0.9000\n",
            "\n",
            " Test Acc : 0.9000\n"
          ]
        }
      ]
    },
    {
      "cell_type": "code",
      "source": [
        ""
      ],
      "metadata": {
        "id": "afxe99ubOsOQ"
      },
      "execution_count": null,
      "outputs": []
    }
  ]
}