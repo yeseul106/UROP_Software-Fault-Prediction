{
  "nbformat": 4,
  "nbformat_minor": 0,
  "metadata": {
    "colab": {
      "name": "Measure_metricsipynb",
      "provenance": [],
      "authorship_tag": "ABX9TyO0WQJQKYRnIPCpjGzFTw4W",
      "include_colab_link": true
    },
    "kernelspec": {
      "name": "python3",
      "display_name": "Python 3"
    },
    "language_info": {
      "name": "python"
    }
  },
  "cells": [
    {
      "cell_type": "markdown",
      "metadata": {
        "id": "view-in-github",
        "colab_type": "text"
      },
      "source": [
        "<a href=\"https://colab.research.google.com/github/yeseul106/UROP_Software-Fault-Prediction/blob/main/Measure_metricsipynb.ipynb\" target=\"_parent\"><img src=\"https://colab.research.google.com/assets/colab-badge.svg\" alt=\"Open In Colab\"/></a>"
      ]
    },
    {
      "cell_type": "code",
      "execution_count": null,
      "metadata": {
        "id": "iYPmQ2YCLSCZ"
      },
      "outputs": [],
      "source": [
        "import numpy as np\n",
        "import pandas as pd"
      ]
    },
    {
      "cell_type": "code",
      "execution_count": null,
      "metadata": {
        "id": "zyNDsJE1LbW6"
      },
      "outputs": [],
      "source": [
        "# 구글 드라이브 연결\n",
        "from google.colab import drive\n",
        "drive.mount('/content/drive')"
      ]
    },
    {
      "cell_type": "code",
      "execution_count": null,
      "metadata": {
        "id": "ivg3twqULdu0"
      },
      "outputs": [],
      "source": [
        "# csv 파일 읽어오기\n",
        "JM1_Weka = pd.read_csv('/content/drive/MyDrive/UROP/UROP dataset/JM1_Cfs_WEKA(PROMISE).csv', encoding='cp949')\n",
        "print(JM1_Weka.shape)\n",
        "JM1_Weka.head(5)"
      ]
    },
    {
      "cell_type": "code",
      "execution_count": null,
      "metadata": {
        "id": "p1wh3besMAng"
      },
      "outputs": [],
      "source": [
        "JM1_Weka.columns"
      ]
    },
    {
      "cell_type": "markdown",
      "metadata": {
        "id": "5vReZMJgVhhS"
      },
      "source": [
        "# **Feature Selection을 한 경우**\n",
        "\n",
        "- hidden layer : 3개\n",
        "- hidden layer 노드 수 : 64개\n",
        "- Dropout layer : 3개, 비율은 0.5\n",
        "- 각 층의 활성화 함수: relu\n",
        "- 출력층 활성화 함수: sigmoid\n",
        "- optimizer 함수: adam\n",
        "- batch size : 10"
      ]
    },
    {
      "cell_type": "code",
      "execution_count": null,
      "metadata": {
        "id": "Zsfscj58WRcE"
      },
      "outputs": [],
      "source": [
        "# 입력 데이터\n",
        "input_data = JM1_Weka.iloc[:,:8].to_numpy()\n",
        "print(\"input_data shape : \",input_data.shape)"
      ]
    },
    {
      "cell_type": "code",
      "execution_count": null,
      "metadata": {
        "id": "HEqHj5BgWrmy"
      },
      "outputs": [],
      "source": [
        "input_data[0]"
      ]
    },
    {
      "cell_type": "code",
      "execution_count": null,
      "metadata": {
        "id": "nncsa_ZDWwJ9"
      },
      "outputs": [],
      "source": [
        "# 정답 레이블\n",
        "y_label = JM1_Weka.iloc[:,8].to_numpy()\n",
        "print(\"y_label shape : \",y_label.shape)"
      ]
    },
    {
      "cell_type": "code",
      "execution_count": null,
      "metadata": {
        "id": "yNqBDkIoW3Tt"
      },
      "outputs": [],
      "source": [
        "y_label[0]"
      ]
    },
    {
      "cell_type": "code",
      "source": [
        "cnt_true =0\n",
        "cnt_false=0\n",
        "# 정답 레이블 바꾸기\n",
        "for i in range(len(y_label)):\n",
        "  if y_label[i]:\n",
        "    cnt_true+=1\n",
        "  else:\n",
        "    cnt_false+=1"
      ],
      "metadata": {
        "id": "EzK5qpOW7RLY"
      },
      "execution_count": null,
      "outputs": []
    },
    {
      "cell_type": "code",
      "source": [
        "print(\"fault-prone: \", cnt_true)\n",
        "print(\"non-fault-prone: \", cnt_false)"
      ],
      "metadata": {
        "id": "Tyf05Nzq6wmr"
      },
      "execution_count": null,
      "outputs": []
    },
    {
      "cell_type": "code",
      "execution_count": null,
      "metadata": {
        "id": "LiboLM0Wh3I6"
      },
      "outputs": [],
      "source": [
        "y_label[0]"
      ]
    },
    {
      "cell_type": "code",
      "execution_count": null,
      "metadata": {
        "id": "dgMVinPiW67G"
      },
      "outputs": [],
      "source": [
        "# 레이블 벡터화 \n",
        "y_label = np.asarray(y_label).astype('float32')"
      ]
    },
    {
      "cell_type": "code",
      "execution_count": null,
      "metadata": {
        "id": "X_qCKUt3W8_x"
      },
      "outputs": [],
      "source": [
        "y_label.shape"
      ]
    },
    {
      "cell_type": "code",
      "execution_count": null,
      "metadata": {
        "id": "mpvA1ylJN22Y"
      },
      "outputs": [],
      "source": [
        "from sklearn import preprocessing\n",
        "\n",
        "# 정규화 0-1로 하기\n",
        "data_normalizer = preprocessing.MinMaxScaler() # 데이터를 0~1 범위로 점철되게 하는 함수 call\n",
        "data_normalized = data_normalizer.fit_transform(input_data) # 데이터를 0~1 범위로 점철되게 함수 수행\n",
        "data_normalized.shape"
      ]
    },
    {
      "cell_type": "code",
      "execution_count": null,
      "metadata": {
        "id": "GSwaGv1LW-TA"
      },
      "outputs": [],
      "source": [
        "data_normalized[0]"
      ]
    },
    {
      "cell_type": "markdown",
      "metadata": {
        "id": "Yrqrv8VkXBw9"
      },
      "source": [
        "# **5-fold cross-valid**"
      ]
    },
    {
      "cell_type": "code",
      "execution_count": null,
      "metadata": {
        "id": "4rqxVTuLW_oE"
      },
      "outputs": [],
      "source": [
        "from sklearn.model_selection import StratifiedKFold\n",
        "from keras import models\n",
        "from keras import layers\n",
        "from keras.callbacks import EarlyStopping\n",
        "import tensorflow as tf\n",
        "\n",
        "# 5개의 파일로 쪼갬\n",
        "n_fold = 5\n",
        "seed = 0\n",
        "skf = StratifiedKFold(n_splits=n_fold, shuffle=True, random_state=seed)\n",
        "\n",
        "#빈 accuracy 배열\n",
        "accuracy = []\n",
        "loss = []\n",
        "auc = []\n",
        "FPR = []\n",
        "FNR = []"
      ]
    },
    {
      "cell_type": "code",
      "execution_count": null,
      "metadata": {
        "id": "xhhC544fXGZG"
      },
      "outputs": [],
      "source": [
        "from typing import Pattern\n",
        "# 학습 자동 중단 설정\n",
        "early_stopping_callback = EarlyStopping(monitor='loss', patience=100)"
      ]
    },
    {
      "cell_type": "code",
      "execution_count": null,
      "metadata": {
        "id": "5PLVYK6IXJEs"
      },
      "outputs": [],
      "source": [
        "for train, test in skf.split(data_normalized, y_label):\n",
        "  model = models.Sequential()\n",
        "  model.add(layers.Dense(32, input_shape = (8, )))\n",
        "  model.add(layers.BatchNormalization()) \n",
        "  model.add(layers.Activation('relu'))\n",
        "  model.add(layers.Dropout(0.5))       \n",
        "  model.add(layers.Dense(32))\n",
        "  model.add(layers.BatchNormalization())\n",
        "  model.add(layers.Activation('relu'))\n",
        "  model.add(layers.Dropout(0.5))\n",
        "  model.add(layers.Dense(32))\n",
        "  model.add(layers.BatchNormalization())\n",
        "  model.add(layers.Activation('relu'))\n",
        "  model.add(layers.Dropout(0.5))\n",
        "  model.add(layers.Dense(32))\n",
        "  model.add(layers.BatchNormalization())\n",
        "  model.add(layers.Activation('relu'))\n",
        "  model.add(layers.Dropout(0.5))\n",
        "  model.add(layers.Dense(32))\n",
        "  model.add(layers.BatchNormalization())\n",
        "  model.add(layers.Activation('relu'))\n",
        "  model.add(layers.Dropout(0.5))\n",
        "  model.add(layers.Dense(1))\n",
        "  model.add(layers.Activation('sigmoid'))\n",
        "\n",
        "  model.compile(optimizer='adam',\n",
        "             loss='binary_crossentropy',\n",
        "             metrics=[tf.keras.metrics.TruePositives(),tf.keras.metrics.FalseNegatives(),tf.keras.metrics.FalsePositives(),tf.keras.metrics.TrueNegatives(),\"AUC\"])\n",
        "  hist = model.fit(data_normalized[train], y_label[train], epochs=600, batch_size=5, verbose=1, callbacks=[early_stopping_callback])\n",
        "  TP = model.evaluate(data_normalized[test],y_label[test])[1]\n",
        "  FN = model.evaluate(data_normalized[test],y_label[test])[2]\n",
        "  FP = model.evaluate(data_normalized[test],y_label[test])[3]\n",
        "  TN = model.evaluate(data_normalized[test],y_label[test])[4]\n",
        "  k_accuracy = \"%.4f\"%((TP+TN)/(TP+FP+FN+TN))\n",
        "  k_loss = \"%.4f\"%(model.evaluate(data_normalized[test],y_label[test])[0])\n",
        "  k_FPR = \"%.4f\"%((FP)/(FP+TN))\n",
        "  k_FNR=\"%.4f\"%((FN)/(TP+FN))\n",
        "  k_auc = \"%.4f\"%(model.evaluate(data_normalized[test],y_label[test])[5])\n",
        "  accuracy.append(k_accuracy)\n",
        "  loss.append(k_loss)\n",
        "  FNR.append(k_FNR)\n",
        "  FPR.append(k_FPR)\n",
        "  auc.append(k_auc)\n",
        " "
      ]
    },
    {
      "cell_type": "code",
      "execution_count": null,
      "metadata": {
        "id": "s0QvI--gXlbG"
      },
      "outputs": [],
      "source": [
        "print(\"\\n %.f fold accuracy:\" % n_fold, accuracy)\n",
        "print(\"모든 fold의 평균 auc: \", (float(accuracy[0]) + float(accuracy[1]) + float(accuracy[2]) + float(accuracy[3]) + float(accuracy[4])) / 5)\n",
        "\n",
        "print(\"\\n %.f fold loss:\" % n_fold, loss)\n",
        "print(\"모든 fold의 평균 loss: \", (float(loss[0]) + float(loss[1]) + float(loss[2]) + float(loss[3]) + float(loss[4])) / 5)\n",
        "\n",
        "print(\"\\n %.f fold FNR:\" % n_fold, FNR)\n",
        "print(\"모든 fold의 평균 FNR: \", (float(FNR[0]) + float(FNR[1]) + float(FNR[2]) + float(FNR[3]) + float(FNR[4])) / 5)\n",
        "\n",
        "print(\"\\n %.f fold FPR:\" % n_fold, FPR)\n",
        "print(\"모든 fold의 평균 FPR: \", (float(FPR[0]) + float(FPR[1]) + float(FPR[2]) + float(FPR[3]) + float(FPR[4])) / 5)\n",
        "\n",
        "print(\"\\n %.f fold auc:\" % n_fold, auc)\n",
        "print(\"모든 fold의 평균 auc: \", (float(auc[0]) + float(auc[1]) + float(auc[2]) + float(auc[3]) + float(auc[4])) / 5)"
      ]
    },
    {
      "cell_type": "code",
      "source": [
        ""
      ],
      "metadata": {
        "id": "RoAU-4VYTfr_"
      },
      "execution_count": null,
      "outputs": []
    }
  ]
}